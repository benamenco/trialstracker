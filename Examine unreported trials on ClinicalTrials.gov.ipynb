{
 "cells": [
  {
   "cell_type": "markdown",
   "metadata": {},
   "source": [
    "# Finding trials registered on ClinicalTrials.gov that do not have reported results\n",
    "\n",
    "Reporting of clinical trial results became mandatory for many trials in 2008. However [this paper](http://www.bmj.com/content/352/bmj.i637) and [this investigation](https://www.statnews.com/2015/12/13/clinical-trials-investigation/) both find that substantial numbers of clinical trials have not reported results, even for those trials where the FDAAA has made reporting mandatory.\n",
    "\n",
    "This notebook examines how many trials on ClinicalTrials.gov have had their results publicly reported. We have a broader definition of a trial that should report its results than the FDAAA. We count a trial as eligible for our analysis if:\n",
    "\n",
    "- it has overall status of 'Completed'\n",
    "- it has a study type of 'Interventional' \n",
    "- its completion date was after 1 Jan 2006, but is more than 24 months ago\n",
    "- it is phase 2 or later (or its phase is N/A, ie it's a trial of a device or a behavioural intervention)\n",
    "- it has no results disposition date (i.e. no application to delay results has been filed).\n",
    "\n",
    "We then classify it as overdue if it has no summary results attached on ClinicalTrials.gov, and no results on PubMed that are linked by NCT ID (see below). \n",
    "\n",
    "This is substantially broader than FDAAA, which covers only US-based trials of FDA-approved drugs. However, we think all trials should report their results, not just US-based trials, or FDA-approved drugs. In addition, FDAAA requires results to be reported within 12 months of completion, and we allow 24 months.\n",
    "\n",
    "ClinicalTrials.gov supplies notes on [how to find studies with results](https://clinicaltrials.gov/ct2/help/how-find/find-study-results) and [results in general](https://clinicaltrials.gov/ct2/about-site/results)."
   ]
  },
  {
   "cell_type": "code",
   "execution_count": 1,
   "metadata": {
    "collapsed": false
   },
   "outputs": [],
   "source": [
    "import csv\n",
    "from datetime import datetime\n",
    "from dateutil.relativedelta import relativedelta\n",
    "import glob\n",
    "from pprint import pprint\n",
    "from slugify import slugify\n",
    "\n",
    "import sqlite3\n",
    "import numpy as np\n",
    "import pandas as pd\n",
    "\n",
    "import utils"
   ]
  },
  {
   "cell_type": "markdown",
   "metadata": {},
   "source": [
    "## Create summary results file\n",
    "\n",
    "The raw XML trial summaries from ClinicalTrials.gov are supplied as a [single very large zip file](https://clinicaltrials.gov/search?studyxml=true), containing more than 200,000  XML files. This section assumes that that these have already been downloaded and unzipped in the `search_result` directory.\n",
    "\n",
    "Extract the fields of interest from the XML summaries, and save them to a CSV file, which we'll use as our source data for the rest of this exercise. ClinicalTrials.gov supplies [field definitions](https://prsinfo.clinicaltrials.gov/definitions.html). \n",
    "\n",
    "Toggle `REGENERATE_SUMMARY` to `False` for the purposes of development."
   ]
  },
  {
   "cell_type": "code",
   "execution_count": 2,
   "metadata": {
    "collapsed": false
   },
   "outputs": [
    {
     "name": "stdout",
     "output_type": "stream",
     "text": [
      "done\n"
     ]
    }
   ],
   "source": [
    "fname = './data/trials.csv'\n",
    "REGENERATE_SUMMARY = False # False\n",
    "if REGENERATE_SUMMARY:\n",
    "    files = glob.glob('./search_result/*.xml')\n",
    "    print len(files), 'files found'\n",
    "    fieldnames = ['nct_id', 'title', 'overall_status', \n",
    "                  'study_type', 'completion_date',\n",
    "                  'lead_sponsor', 'lead_sponsor_class',\n",
    "                  'collaborator', 'collaborator_class', \n",
    "                  'phase', 'locations', 'has_drug_intervention', 'drugs', \n",
    "                  'disposition_date', 'results_date', \n",
    "                  'enrollment']\n",
    "    trials = csv.DictWriter(open(fname, 'wb'), fieldnames=fieldnames)\n",
    "    trials.writeheader()\n",
    "    for i, f in enumerate(files):\n",
    "        if i % 50000 == 0:\n",
    "            print i, f\n",
    "        text = open(f, 'r').read()\n",
    "        data = utils.extract_ctgov_xml(text)\n",
    "        trials.writerow(data)\n",
    "print 'done'"
   ]
  },
  {
   "cell_type": "markdown",
   "metadata": {},
   "source": [
    "## Load data for analysis\n",
    "\n",
    "Load into Pandas, normalising the date and phase fields. NB: If this produces a weird EOF error (which it does intermittently), delete the last line of the file manually. We will have to live with one missing trial. "
   ]
  },
  {
   "cell_type": "code",
   "execution_count": 3,
   "metadata": {
    "collapsed": false
   },
   "outputs": [],
   "source": [
    "dtype = {'has_drug_intervention': bool, \n",
    "         'phase': str } \n",
    "datefields = ['completion_date', 'results_date', 'disposition_date']\n",
    "df = pd.read_csv(fname,\n",
    "                 parse_dates=datefields, \n",
    "                 infer_datetime_format=True,\n",
    "                 keep_default_na=False,\n",
    "                 na_values=None,\n",
    "                 dtype=dtype)\n"
   ]
  },
  {
   "cell_type": "code",
   "execution_count": 4,
   "metadata": {
    "collapsed": false
   },
   "outputs": [],
   "source": [
    "df['phase_normalised'] = df.phase.apply(utils.normalise_phase)"
   ]
  },
  {
   "cell_type": "code",
   "execution_count": 5,
   "metadata": {
    "collapsed": false
   },
   "outputs": [
    {
     "data": {
      "text/html": [
       "<div>\n",
       "<table border=\"1\" class=\"dataframe\">\n",
       "  <thead>\n",
       "    <tr style=\"text-align: right;\">\n",
       "      <th></th>\n",
       "      <th>nct_id</th>\n",
       "      <th>title</th>\n",
       "      <th>overall_status</th>\n",
       "      <th>study_type</th>\n",
       "      <th>completion_date</th>\n",
       "      <th>lead_sponsor</th>\n",
       "      <th>lead_sponsor_class</th>\n",
       "      <th>collaborator</th>\n",
       "      <th>collaborator_class</th>\n",
       "      <th>phase</th>\n",
       "      <th>locations</th>\n",
       "      <th>has_drug_intervention</th>\n",
       "      <th>drugs</th>\n",
       "      <th>disposition_date</th>\n",
       "      <th>results_date</th>\n",
       "      <th>enrollment</th>\n",
       "      <th>phase_normalised</th>\n",
       "    </tr>\n",
       "  </thead>\n",
       "  <tbody>\n",
       "    <tr>\n",
       "      <th>240369</th>\n",
       "      <td>NCT00683956</td>\n",
       "      <td>Evaluation of a Closed-Loop Control System for...</td>\n",
       "      <td>Completed</td>\n",
       "      <td>Interventional</td>\n",
       "      <td>2009-07-01</td>\n",
       "      <td>Stanford University</td>\n",
       "      <td>Other</td>\n",
       "      <td></td>\n",
       "      <td></td>\n",
       "      <td>1</td>\n",
       "      <td>United States</td>\n",
       "      <td>True</td>\n",
       "      <td>Propofol;</td>\n",
       "      <td>NaT</td>\n",
       "      <td>NaT</td>\n",
       "      <td>35</td>\n",
       "      <td>1</td>\n",
       "    </tr>\n",
       "    <tr>\n",
       "      <th>240370</th>\n",
       "      <td>NCT01540734</td>\n",
       "      <td>Pharmacokinetic Study Investigating the Extent...</td>\n",
       "      <td>Completed</td>\n",
       "      <td>Interventional</td>\n",
       "      <td>2009-12-01</td>\n",
       "      <td>GlaxoSmithKline</td>\n",
       "      <td>Industry</td>\n",
       "      <td></td>\n",
       "      <td></td>\n",
       "      <td>1</td>\n",
       "      <td>United States</td>\n",
       "      <td>True</td>\n",
       "      <td>Marketed paracetamol; Experimental paracetamol...</td>\n",
       "      <td>NaT</td>\n",
       "      <td>NaT</td>\n",
       "      <td>28</td>\n",
       "      <td>1</td>\n",
       "    </tr>\n",
       "    <tr>\n",
       "      <th>240371</th>\n",
       "      <td>NCT02691429</td>\n",
       "      <td>Applicability of the Acai Fruit (Euterpe Olera...</td>\n",
       "      <td>Recruiting</td>\n",
       "      <td>Interventional</td>\n",
       "      <td>2016-11-01</td>\n",
       "      <td>Federal University of São Paulo</td>\n",
       "      <td>Other</td>\n",
       "      <td>Rafael R. Caiado Cristiane S. Peris Acácio Alv...</td>\n",
       "      <td>Other Other Other Other Other Other Other Othe...</td>\n",
       "      <td>N/A</td>\n",
       "      <td>Brazil</td>\n",
       "      <td>False</td>\n",
       "      <td></td>\n",
       "      <td>NaT</td>\n",
       "      <td>NaT</td>\n",
       "      <td>24</td>\n",
       "      <td>5</td>\n",
       "    </tr>\n",
       "    <tr>\n",
       "      <th>240372</th>\n",
       "      <td>NCT02947750</td>\n",
       "      <td>Neurovascular Transduction During Exercise in ...</td>\n",
       "      <td>Recruiting</td>\n",
       "      <td>Interventional</td>\n",
       "      <td>2021-11-01</td>\n",
       "      <td>Emory University</td>\n",
       "      <td>Other</td>\n",
       "      <td>National Heart, Lung, and Blood Institute (NHLBI)</td>\n",
       "      <td>NIH</td>\n",
       "      <td>2</td>\n",
       "      <td>United States</td>\n",
       "      <td>True</td>\n",
       "      <td>6R-BH4;</td>\n",
       "      <td>NaT</td>\n",
       "      <td>NaT</td>\n",
       "      <td>150</td>\n",
       "      <td>2</td>\n",
       "    </tr>\n",
       "    <tr>\n",
       "      <th>240373</th>\n",
       "      <td>NCT00005693</td>\n",
       "      <td>Computer Assisted Instruction Weight Managemen...</td>\n",
       "      <td>Completed</td>\n",
       "      <td>Observational</td>\n",
       "      <td>NaT</td>\n",
       "      <td>National Heart, Lung, and Blood Institute (NHLBI)</td>\n",
       "      <td>NIH</td>\n",
       "      <td></td>\n",
       "      <td></td>\n",
       "      <td>N/A</td>\n",
       "      <td></td>\n",
       "      <td>False</td>\n",
       "      <td></td>\n",
       "      <td>NaT</td>\n",
       "      <td>NaT</td>\n",
       "      <td></td>\n",
       "      <td>5</td>\n",
       "    </tr>\n",
       "  </tbody>\n",
       "</table>\n",
       "</div>"
      ],
      "text/plain": [
       "             nct_id                                              title  \\\n",
       "240369  NCT00683956  Evaluation of a Closed-Loop Control System for...   \n",
       "240370  NCT01540734  Pharmacokinetic Study Investigating the Extent...   \n",
       "240371  NCT02691429  Applicability of the Acai Fruit (Euterpe Olera...   \n",
       "240372  NCT02947750  Neurovascular Transduction During Exercise in ...   \n",
       "240373  NCT00005693  Computer Assisted Instruction Weight Managemen...   \n",
       "\n",
       "       overall_status      study_type completion_date  \\\n",
       "240369      Completed  Interventional      2009-07-01   \n",
       "240370      Completed  Interventional      2009-12-01   \n",
       "240371     Recruiting  Interventional      2016-11-01   \n",
       "240372     Recruiting  Interventional      2021-11-01   \n",
       "240373      Completed   Observational             NaT   \n",
       "\n",
       "                                             lead_sponsor lead_sponsor_class  \\\n",
       "240369                                Stanford University              Other   \n",
       "240370                                    GlaxoSmithKline           Industry   \n",
       "240371                    Federal University of São Paulo              Other   \n",
       "240372                                   Emory University              Other   \n",
       "240373  National Heart, Lung, and Blood Institute (NHLBI)                NIH   \n",
       "\n",
       "                                             collaborator  \\\n",
       "240369                                                      \n",
       "240370                                                      \n",
       "240371  Rafael R. Caiado Cristiane S. Peris Acácio Alv...   \n",
       "240372  National Heart, Lung, and Blood Institute (NHLBI)   \n",
       "240373                                                      \n",
       "\n",
       "                                       collaborator_class phase  \\\n",
       "240369                                                        1   \n",
       "240370                                                        1   \n",
       "240371  Other Other Other Other Other Other Other Othe...   N/A   \n",
       "240372                                                NIH     2   \n",
       "240373                                                      N/A   \n",
       "\n",
       "            locations has_drug_intervention  \\\n",
       "240369  United States                  True   \n",
       "240370  United States                  True   \n",
       "240371         Brazil                 False   \n",
       "240372  United States                  True   \n",
       "240373                                False   \n",
       "\n",
       "                                                    drugs disposition_date  \\\n",
       "240369                                         Propofol;               NaT   \n",
       "240370  Marketed paracetamol; Experimental paracetamol...              NaT   \n",
       "240371                                                                 NaT   \n",
       "240372                                           6R-BH4;               NaT   \n",
       "240373                                                                 NaT   \n",
       "\n",
       "       results_date enrollment  phase_normalised  \n",
       "240369          NaT         35                 1  \n",
       "240370          NaT         28                 1  \n",
       "240371          NaT         24                 5  \n",
       "240372          NaT        150                 2  \n",
       "240373          NaT                            5  "
      ]
     },
     "execution_count": 5,
     "metadata": {},
     "output_type": "execute_result"
    }
   ],
   "source": [
    "df.tail()"
   ]
  },
  {
   "cell_type": "markdown",
   "metadata": {},
   "source": [
    "## Calculate whether trials are completed\n",
    "\n",
    "The criteria for counting a trial as completed are defined above. Print some summary stats about completed trials. "
   ]
  },
  {
   "cell_type": "code",
   "execution_count": 6,
   "metadata": {
    "collapsed": false
   },
   "outputs": [
    {
     "name": "stdout",
     "output_type": "stream",
     "text": [
      "Cutoff date 2015-04-26 11:16:17.269358\n",
      "240374 total trials found\n",
      "3621 trials have dispositions filed\n",
      "53692 are completed and due results, by our definition\n",
      "15991 trials due results have submitted results on clinicaltrials.gov\n",
      "37701 trials due results have not submitted results on clinicaltrials.gov\n"
     ]
    }
   ],
   "source": [
    "startdate = datetime.strptime('01 January 2006', '%d %B %Y')\n",
    "cutoff = datetime.now() - relativedelta(years=2)\n",
    "print 'Cutoff date', cutoff\n",
    "\n",
    "df['is_completed'] = (df.overall_status == 'Completed') & \\\n",
    "    (df.study_type.str.startswith('Interventional')) & \\\n",
    "    (df.completion_date >= startdate) & \\\n",
    "    (df.completion_date <= cutoff) & \\\n",
    "    (df.phase_normalised >= 2) & \\\n",
    "    (df.disposition_date.isnull())\n",
    "df['is_overdue'] = (df.is_completed & \\\n",
    "                    df.results_date.isnull())\n",
    "df_completed = df[df.is_completed] \n",
    "df_overdue = df[df.is_completed & df.results_date.isnull()]\n",
    "\n",
    "print len(df), 'total trials found'\n",
    "print len(df[~df.disposition_date.isnull()]), 'trials have dispositions filed'\n",
    "print len(df_completed), 'are completed and due results, by our definition'\n",
    "print len(df[df.is_completed & ~df.results_date.isnull()]), \\\n",
    "    'trials due results have submitted results on clinicaltrials.gov'\n",
    "print len(df_overdue), \\\n",
    "    'trials due results have not submitted results on clinicaltrials.gov'"
   ]
  },
  {
   "cell_type": "markdown",
   "metadata": {},
   "source": [
    "## Check for results on PubMed\n",
    "\n",
    "If trials have reported their results on PubMed, and if it's possible [to find them on PubMed using a linked NCT ID](https://www.nlm.nih.gov/bsd/policy/clin_trials.html), then we count those trials as having submitted results. \n",
    "\n",
    "So, for all trials that we regard as completed and due results, and that haven't already reported results on clinicaltrials.gov, we search PubMed, looking for the NCT ID either as a Secondary Source ID, or in the title/abstract. We look for anything published between the completion date and now, that doesn't have the words \"study protocol\" in the title, and that is [classified as results of a trial (using the \"therapy\" clinical keyword, broad version)](https://www.ncbi.nlm.nih.gov/books/NBK3827/#pubmedhelp.Clinical_Queries_Filters). \n",
    "\n",
    "At the time of writing, about 9,000 of the 34,000 trials have results on PubMed. An example of an NCT ID with results on PubMed: NCT02460380. (TODO: Update this). \n",
    "\n",
    "**Note 1**: we know from [the BMJ paper](http://www.bmj.com/content/352/bmj.i637) that there are trials that do have results on PubMed, but that aren't linked using the NCT ID. The BMJ authors found these using a manual search. Some examples: `NCT00002762: 19487378`, `NCT00002879: 18470909`, `NCT00003134: 19066728`, `NCT00003596: 18430910`. We regard these as invalid, because you can only find results via an exhaustive manual search. We only count results as published for our purposes if they are either (i) submitted on ClinicalTrials.gov or (ii) retrievable on PubMed using the NCT ID. See more on this below.\n",
    "\n",
    "**Note 2**: we know there are some trials that have results PMIDs directly in ClinicalTrials.gov, in the `results_reference` field of the XML. After discussion with Jess here, and Annice at ClinicalTrials.gov, I decided that these results are too often meaningless to be useful - lots of the time they aren't truly results, but are studies from years ago.\n",
    "\n",
    "**Note 3**: we also experimented with retrieving the results using the narrow version of the \"therapy\" clinical keyword, and using no clinical keyword at all. We evaluated these by using multiple PubMed matches as surrogate measures for false identification. At the time of writing on 2016/10/24, we examined 34677 trial registry IDs: the PubMed broad keyword yielded 7815 matches with 1706 multiple matches; the PubMed narrow keyword yielded 6448 matches with 1238 multiple matches, and using no keyword yielded 7981 matches with 1860 multiple matches. We chose the broad keyword for our final results."
   ]
  },
  {
   "cell_type": "code",
   "execution_count": 7,
   "metadata": {
    "collapsed": false
   },
   "outputs": [
    {
     "name": "stdout",
     "output_type": "stream",
     "text": [
      "0 NCT00135811\n",
      "10000 NCT00518154\n",
      "20000 NCT01310725\n",
      "30000 NCT02163382\n",
      "done\n"
     ]
    }
   ],
   "source": [
    "# Store results locally.\n",
    "conn = sqlite3.connect('./data/trials-abstract.db')\n",
    "cur = conn.cursor()  \n",
    "c = \"CREATE TABLE IF NOT EXISTS trials(nct_id TEXT PRIMARY KEY, \"\n",
    "c += \"pubmed_results INT, pubmed_results_broad INT, pubmed_results_narrow INT)\"\n",
    "cur.execute(c)\n",
    "conn.commit()\n",
    "\n",
    "REGENERATE_PUBMED_LINKS = False\n",
    "count = 0\n",
    "df['pubmed_results'] = False\n",
    "for i, row in df_overdue.iterrows():\n",
    "    if count % 10000 == 0:\n",
    "        print count, row.nct_id\n",
    "    count += 1\n",
    "    # First, check for results stored in the local db.\n",
    "    c = \"SELECT nct_id, pubmed_results, pubmed_results_broad, \"\n",
    "    c += \"pubmed_results_narrow FROM trials WHERE nct_id='%s'\" % row.nct_id\n",
    "    cur.execute(c)\n",
    "    data = cur.fetchone()\n",
    "    has_results = False\n",
    "    if data and (not REGENERATE_PUBMED_LINKS):\n",
    "        has_results = bool(int(data[2]))\n",
    "    else:\n",
    "        # No local results, or we want to regenerate them: check PubMed.\n",
    "        broad_results = \\\n",
    "            utils.get_pubmed_linked_articles(row.nct_id, \n",
    "                                             row.completion_date, 'broad')\n",
    "        # Used in the past (see note 3 above).\n",
    "        simple_results = \\\n",
    "            utils.get_pubmed_linked_articles(row.nct_id, \n",
    "                                             row.completion_date, '')\n",
    "        narrow_results = \\\n",
    "            utils.get_pubmed_linked_articles(row.nct_id, \n",
    "                                             row.completion_date, 'narrow')\n",
    "        c = \"INSERT OR REPLACE INTO trials VALUES('%s', %s, %s, %s)\" % \\\n",
    "            (row.nct_id, len(simple_results), len(broad_results), len(narrow_results))\n",
    "        cur.execute(c)\n",
    "        conn.commit()\n",
    "        has_results = broad_results > 0\n",
    "    df.set_value(i, 'pubmed_results', has_results) \n",
    "    \n",
    "cur.close()\n",
    "conn.close()\n",
    "print 'done' "
   ]
  },
  {
   "cell_type": "markdown",
   "metadata": {},
   "source": [
    "## Calculate final overdue count\n",
    "\n",
    "Now we have looked for PubMed results, we can calculate the final overdue count, and print some summary statistics."
   ]
  },
  {
   "cell_type": "code",
   "execution_count": 8,
   "metadata": {
    "collapsed": false
   },
   "outputs": [
    {
     "name": "stdout",
     "output_type": "stream",
     "text": [
      "How many of the unreported trials were found on PubMed:\n",
      "False    27373\n",
      "True     10328\n",
      "Name: pubmed_results, dtype: int64\n"
     ]
    }
   ],
   "source": [
    "# Reset dataframes now we have the results from PubMed.\n",
    "df['is_overdue'] = (df.is_completed & df.results_date.isnull() & ~df.pubmed_results)\n",
    "print 'How many of the unreported trials were found on PubMed:'\n",
    "print df[df.is_completed & df.results_date.isnull()].pubmed_results.value_counts()\n",
    "df_completed = df[df.is_completed]\n",
    "df_overdue = df[df.is_overdue]"
   ]
  },
  {
   "cell_type": "code",
   "execution_count": 9,
   "metadata": {
    "collapsed": false
   },
   "outputs": [
    {
     "name": "stdout",
     "output_type": "stream",
     "text": [
      "53692 trials should have published results\n",
      "27373 trials have not published results\n",
      "49.02% of completed trials have published results\n",
      "601333124116252764150413841910227168591004847151335030020091025927106158106401588970054200722410311929732168162115114450328555801533152024204644283035037111414912210624141060802030141552444981282203543221149107027112244402174644829626263026112435014961648213236130412212455017483721403010010424014364540782862430553838225314181202020440510133872563026480140346230601000303356082134820019145006047401141542061641195140206934158151601100393125080438417130196772013724018302574241040435014315470505922965247134050468054340438780351815032420166604430173020110092100104640060422011610020810501720722225112150376029950296138401261758908640300442076122013413153037207522112010097665272602416159105440027056023635207131656580243922150308436606640811000622001014492584469871540280389202025711256707641526052562301483520217230203608028164132030203040926050500802012191405042002771151441121015501516020608060321501204012040604510130361228453905010840108229240163248114141864120503594176701152981830127502030011002010044212599661082246100201791779660559806941081142708020365019142429019286602221557201725765663320237531624024078040173652268122257421311902010446152908243333260139100120209150121003783110401181117010147024920531201932040602146484106424009830079288134710150100231199511725399133606018344301002134826501014162230322325294150202004701416031400150180105881621200569135476954724040100591182165030754018048918640593012540743624450591503012603866260120404701035238131397236614462202409024096140272404020013406572617340649403611464769910844971704182002001043630036305860118803906125220123138453645802028523051325235026300115401592177233941001959881012918583072048404015241002140421952501805178407782022121504436445200604028554471982010404345707052236746846292102360822172247167424214815132380550107340604414532467802584056964125309335602219714067606444300514234133870757510159906237029181362504539194623901460152382547554015404042120014422160552762529801045387111404015768242119555981373194152100721352805042126121940146387143954231038709670025025396301227180273880692003923395120424646804660019014418301146551204020750477327228481011007014078403647048510725302850190106010284281201161203436757618148385092507022101002010904681842502710061230120015449365013615783010089100145028844830140140145402001504881006014417806020702209665820538411017331443502312802369030701062619220450129017260690411511001009030225010135406764994010824460872413256397951020010683878080502301023063283207503004210073620939202010031128120055351419429207338418446645652203023601196140373267122117182102614227953135202995016302206221102005581586508625224607742001525525272202851579951541261079012030015824448261540406150303761238102060516549364130608420245080941601409303012070060554906020804065015901365144101200304069474841285267280404522710985161122845126418592341006391814982072060508488123016010541875401204337207688640104010910518223114711209960010450309977842265108203650523050100174060110203022012060320014012648462021077220012394162840763762961206248100109095001228130416182036023324806520037827633826249180607823062220508388149968393765805050602504860139960244024106017451205690120666257225620161900309810620242294240150251205030502139657619301601901503137121472614003650206034861116640193637603062025510405650523004304060192501284683251658071161844068361070306999936100521149842521801229990813220254236150349880146066379565031220818255220220995091256715440100126242160438510317302033209010941522514640162436029150060121215324448144620118012015016371244071201010015976440138100018155500234306021626201603680402122325516824782157402490875060401226424160224331866620102200401396020100110961211032503681731333260804760118111017947217606091557116150120150147589223120421703023402362217418116016454301020757168628070760632366421200131604053540533603025018641160244662724368674416100399302123111263461142211446017518602091540334047038030074450246680251405455315301205432200302994255201462175344482152115015863870687028505004438893066014663100020101221000601275547436802820121730202320812302551121510040131122075013441702773851297321611352731342152103255012042125523045048275231223063249120144331102521030035020011352272712914222683341272472860122448319912212011061689481871394325502011912025040350110081403412289611246571022010123060112881517209622561111836112003933600462130445480801976158010511699150100714024103102782120411297311449642044907170257146205509830262138046303051532342076335405561842540901127902521200116235522164834451754102230021144320732313245902611433211712001002620314027242508746601864653320039160123117240505035150714880336423611821582158032624300140527100631003002735511009620119162720110031601218230008440886228492092026231804022106302665200243432661010076601824412523001447011252346130102801237900406265040020497273605254955242809720503050435044344452781748995140150120945831342893437810310279582525213251861320208146457511061625015612103201525451565614302742193520925022451265025039112146012090124327603130291232453012028341001001004279241291901365382695400120313281201232033310402320124213842261615012122687516124246828260913850335430701501141200121103605840732411060126437084311699653335050339275025286072603850070331816314442314110010018829328437090724019764161103302888310614400201003629122004518567381206024451256477324132991260110190640371001844765766361201500035464011934235150742026142015654280766083381984560179290604171620127263237303048574226150401092084821003010318030100173201502111022801259716014510406138902331141564291180104984020175020104384010008115534510010486149108482948724801020013435317012088414040241060326016033397385542422557510513050011330639261689049240057308106571204040323060250153232819240910001239719979015212691002019934462153619717474381020300424204050155323543200249050940188521004672037554004015266150502987249188611001836402816200179104233971007020122225204180127200321105010818032901962015404012297215457980736227320321631251635516412813812722136103172477584434153833129100957830804601362701054024441971493006610240216443017348414413312200991011023836202420153222406828203115005036140150208495310481550641551455048682241067203911353126347215224111210160235091082595154099402060201735303401793920573534014162848528915027077600100100122200422001053134503951441101803883822171205035160130125077540120608529000218186132120948886962632511245640404514012480618848818743904103004070613003692189749116006112616408332093291815823504012175133301209630201313332580381850162012701560503156024143227506222005077014430812038150626922170402066201149180586810708003601142136202554923305804050124120747560213302498002513025018481323821172631111512118119643513260012722196640211405040268164840571505070147100754115214324245412894911034245099858112713112482010100289271741687654510195150480390783441264662533003000540300721504251728852417620641204020168171230409122016252017819894201103055910258200427218639160162521001242017425036542250165303410002622115321630207150180589652002402740608291044207112164462811238222026275090916165141505024060636200168261012812280040181746503240275401864340401209510496603021510412025355594275060303602010038166202431688314103015612183369601927102014039153130218560425033750041287657165126129212043505474100607160303174534016678197555263001210140047931516322207379862420401325100534471251385848245020370230120603431832020013046235240400791282120122568204702512311053211115001663658402742735728663123100250030173242203012808017270802459080172010521620012014981241001484206645545201501316754002181445422004012820563344845180132203015633282430302021360682410025607260483006292314010341920604210772030162384048731362012017016125162081443119192140581217010571404560047481283056096817866048252025012223916821007945604160220802850100424406016122316364348361251654501918340203001302043842500124247641121736050409860200501761211415408203022010010411860225304712578200331001276843149100244014838201507220038274132242827253632142200183254750967356522510013072501554511409168769818454100742301000201924054363202101512729956846186291427745028150522640301187510065820181501076065351208208318738243620307814012078133011173108246017520049766093606173126019732670702500484828100809110620725025023172342602251554550206436862039110400402522952115609279606089265116023820218240154440139406160573040603011502741086122349560961206015422366226735481013200281168037294014440708927238276635014268742686243315430142010041512985114523904270172011104023910621006112001511521030147318105353561044108404342760154447022022658240120424558323025823089522802265152201501103621426189553330218013376141557415971120018090580282203008337155828549138450302401840507510084115060253652310254823012298240445620259846342978800409921090203050100311653410058603025400191750805091091851802403721793100402016414050151071295060626459156413991524500488053200000566630873453542524811860070057176520405802710422165321051084015060180643077414414480305357191207562003164781001816162122528931274381208100220601763813930144029760782010126950050015010033420544548386451323522252201401085231530422701641646149403530945197440302216608539696339130035166462768613118785268145120228300100921322381541621507218430210154418828501446037102116860811086031825403188362622252108241089813760141431573066121410328746015325165297458484010295009220025021189441296226802018107200559063203249155124020306021616025301001072615855636080491517011275802725534291902417183258016238060123622256076107733031060126107230202632640120304510946500005730015333288142001191171910541021512284922386050102045212414820121570010310206897010062445601021030442012118027300504030242892302056301186010103211812315401204084678257176611645010010663011021862015924121507713240801085830205520503013366354634189620241667666210018803980701007027305038440122911795121008434302923601520524048240125901979382516507709127181292002056862731475333264031530412620501002022309310040352076503112093226701474730252021443026402402017252332351912128302120474100506250463620004840302591541002510010526120350871136306731501114609013221504003025136701014554152701489254946015042148718061497359401472152176176608338204069424618445446066238020263012862803016071065020208111171620140339288196137535280015850602001303577711235455452396228011420830100120848120300180331020247399101400007192090022860635012010120503514812921658361410059416751002501772314662405948098418905507080200204353317302850404321150723131081328052500228912771206840104140287109761617086380504050112992702210001843162020319535211120608430028113604254815619151038548818635116261831326030113134300401321351680401702164406035107632221202884021927136319887802021966555019236300314002601807274160392030178601202026031200208104158454250220140562516345270230125437246410314807725125453061228136306010020130141014161841159151003604450120601001262401275530219100186120016043901227812059042255021474025475806795014071353739708080128102661415144562760551511000248005556620037071664220240300477614371300994571301651841326577183483345037921648150180107180501148041651346541243094540413982738110562090771239105102632460117020010312983080125445015010293887528322534682172418206015943860500613954601204789200504220641282762598200100602839251444201003924760522422014517142302547310749833896449419201258601649601202853839201003445378210050200261612125100540630209225440632304045401703417115438024315828026120842412613464040115017746258228530420224503066244160241301510095820431832723372368426013351060206680368506326204810375084828229301871867138223148251419407556120409140459840216410279601240756851472301531221654276224840127413146150206201085140304214463091882625035115200320353024633674180555037544151619823501506322872100401802324021140220478016060500336011017210039201371285054635570384001983350640366320110525300122615050210104074375371242405000305024205040488889502028236300134400408318700377186052607596308931502372215068632023454347835001212046415680351276584204090107228344389163710010020403063801181811611884101001805253402563012848280811420003008010035305340601061079087547260209677110018405414686031622068047104001007215222813323616315860105602983150295212028704618028778295807191720044130210802005916601068002733391142400693185182236372266401349614471901202063806282993615259918200217140221361238121250121075201201222100169666210048163420168072657784212450026200541755955370150210154341162605411282100407230188201204343505444064180525659063854103077014749174007133030934418442138961351044755514481950451327010002547361400230671212107572361811024252121205016036114639353360767513242531823118297935366621012748186121351445673170532780036314761730250010000012751036200605212357266570120323240402001806059460204231453210100525128218144803300255115461801932328324795031087271503020320314339817120160474365157093534671372102701623098122529012060156033994340161642170171201142060657100894317513570329912264804024010214114665302047222530401004212017520154681202523164221205040461510636655524188167810100321648100481850301504147600915561501172445991602416558410604006432153573215349522452162903060662007035031274102103278846118212523715090216507029420493053350252586024010947108805652124404260131357559730004034463536154501201001507725010474140391861520318251049114503735040506302077840200923941207036530180603511230685004191936042432721203542860599960142376214686983317151122011592364516612237357217382710768141345018013644108123382162150506475110050112203322905073256640505288078482966360200181197150409465006134607461110111180860304101021061504927492217594130129181230400405444063102460109071489090039121334582413706512554954017354226295616115121802060019836154503615457274474020173076466017135080590350603040353260723057161781351005540130372366246242303414100601003742120742785495241142406020806192322026120142315550251001637224112503011116120401428371431241382434033240200100152475602015315110000972202653778332511315282030120012836519562302101930751483004891546202315322701817016401201380160860303318308785350643763808128220858080141611857248148820802414531148283821612147100207052851171335501241098950514157155287095624571805186701237606507637631032400156210210336370536000209645013872542049029031213110632562007510035128811045317773360402012947310247582821110216910014554506920411095110095350300159630502518322130620526484370544311004220673370555050111100707013220458567216231136463933616900151821001304324424282038134301062109200163490323110120132322036303023403323938859044012506210456423451084100631203601089106041764112922030256440434910095510164183933450325015010414744654024261128628442706010751275044424032181104751042140051940485001046252876901203511030313440362724413623097310086602931724050159397150219710234124491001180226286694039092151206810030014101209198400402001244166258321007014019104062101111061204820391021020127526601337040522316060503063040116810840804927026943045601826803046125201115088200174120804005015026013187588845069360605563421041672544830628867061166050622863141048229712012512342422982175220909902182004454035150221288504351058017730155022424374502701301533281185119512448214019602121003180172303363837156211202007211267620406734550033323815301001002016024029169659224103671442012120644037220248521091221521275801191678103111071152041372107040375240303021320701651692402604554233101604010201260211613602965050371004018165044100595559618138997601501260000400110116304843012041100184154301221019512005052052505009080220546171502820756625715012996050114611940184651004002954650164475044020029369165251001413522851370763002521220731383260135960266229403017063224752111136771945289016510025048606200130705163050322586186024192856771633376254561515060120127134415060966012060521004278781051201152523049206256205082701394692278100173556520532720341713217588550184020012370243200105441212040240203511653216894357575340202216041501017013111627505653681679056393300209114028402460420562210100874133382102569332217011798442640108252512032679121416064364321402402542311215336243281163020302491507525180272511355550120101600974480406016150206012030015063300405320592012048403548831113084715932588012210066070436813053231327250302560652103011001354010382240605265520105154497540100344712012383272314924521017050000211330340818338401125250152210010420013332654138292107501918505591744060304010060105782662471861290704990619181262235384054820050243005020150707030035192163033201440296428574651340207030561312040581782170024538027631361596711807537452070403314834410373328250281002912128882876121975217360385110050248464013572304042165704338250102010570150155019855278794922259012080353125258108080796016030771803233409827803360887419180192242002391145623429192263020079342262702919210060193025311002348012870138300195851409012028028608084131951244147231301588761801071069114132055040195023886042518142482889230593001008540216020522043735105152002225281691822536100283012606422487124267144030252002430070406470100644161099211638186548066152543305675060712412322802814242636248100181444207616027101701203014438727518187103417103191660463020090601318011927310601307258641425300738256587555311119240162131122427242431398451521371806612615138732128227528080506512225512020205230341761437321836201318024257549323251460100250128741593006144033404782191612722010174634652382290255627251407243182037325120307180548885104671144050401523231761000720045660601151011003002323244971527014720439461051034120771042028054603901510050120456942251005031014916500647033502168253561122843821920501004216522005233214030936230205160801059612520064226660455222100161605050126502434150604110119806051154102171904090361401007148102870493041812008346310263150241284212636835250561062750078212015181001512730225602501874183127250214006079728319614736036505087384052403120565036827250120260423015228335410516956212057585532047018030403236010821504241200514022204316542091739425501032560161494592062431924226024490842511370481645232401111761248422804063661602052152541301529248332154612120200430085363020302012650256473819671122489693441001303560602505015195380281271265287130602315162603615937612401950811800513033836890201004503962836191028909840601204039501078200223169686021531003001545451721202996828210010153472892910163712618104201812827138594501284355355370601710067840189736306964254746503480848230150520292805660100401044421767521001260101203017522241491741110391225312201671260661206034317180192028504354502535141042511632518815231188162881614201484019149231563618120704207014407350433255103740040156271505543720205010857403732020025860812750596342958316217131213840170254622010325611211640120101740409754819892051330230015100197652321041057450482818010731523021240468307579552051141201081454075452303602420901007273121920012351012101525720908174100401942526521831301231504045501201827174524203610830314959601001115747183951320475872752901281161913618060201795901633075634210906012150100150381374516232026442301227004528712010038150117834238797042011034415330840201311501870366253771811120722872001462191857119120454661010805161011170503001634116066193361292446991213815183216004680179584168410055100252024176436064394350256130193891179139504020105132212107310808240437125172336237542174120782329287052100302816433551453010012022272311047100109211014040128452012715367512010308831223415873285416305563121506011520400584512012087130274070404312124040201842540405050630481522060285065411936273134156920503646080571151357143152005381201241999157202860442850564060510075120806538105182403030326610030301530109310036677638176742241623820300607620118608406073001446982153091010048200504070166606714015606024060381680855351294044321301092540120652440323004030501001726087100111026217210241443056445050664628842671545923443416010012550132702512026446534731525119853854105400883816140108163211718215090414605010167148604661546407013750142862206037018820415258142653620018659901326040037028546972003057052615033500111147315018301913215012104274587139024274860474227300406581215601904045303062432486025710015316201995213142100144600715385136240355746052026183652140204014325630461520951513146622200152002519124271003641104040197020501005998833050621201000183020565310510011042574152200831001720144283084162690104242095959182242441301054241060215518621715826037110020582181316012180868581202060283227120501499138765411320483292042342411473129764788125110136371206826030314183644303718060194003720806060202245101502950639841421913440020180430103401166064109320904063832443035084163015084130724140105243640955040114815110326612840284260302542118301206985686284995310081385624241150447504597600366068412912491364238190400571122018332666062161090030372615011240524391135202580330247522671522620494774096126569357811468036663013600846019753088134086432710006071081502394591712072515018453063160203030550101964421542384024221332027303042162020382504060150852450302000302990385360403775398594121404790500106572340177129994058505827166534454010042407569303500203015424020212236366064304502259810439540125100401482401023056316621110257200661804522817647149802973034932320563144221942410005040012864822140301253412335439520101186032405324168486421654005010312813120146132140309452001234557032317285020007381161017269620502411010198982162135241049021356648485263330119639761113396412461231269432160201030213032030036968540136301071330811102961951823970221045410803220881505308328730921015102756425422024218236280528060469811624531112535883730202054419341512413910240621002589480143304483557432246082420144092233192502415264054364441695402380370840176231007014320414201460227405085483219139012020130232415804232555605092155263935025120507910030252426048132403074148144224029042571826015010801021364024668300901072382096020180802060706101576199198562791236579110241280774440765775585690270954050245039751618242412828382717820115021141861054829901282184610090558008030112003110061207911772556301141125602351501202512041604444903015025506395432180196355200240010516918583715887420209435965149103618323653624971081501062179033143226380782442230731039150024166366011016013710787492510019060502921801794879040100140141953005084013011730125198118298720014102530209710100910022802525194346144281190302306150100861010031300120633416012611821123169363102012651913879408718301556428139156351425175052019429115100453810230603056239859412011840921101572610034106027360701422030160029641723022021777140214305956603080562621000038565262342012012229009213012153606050207151152905064316501221514926244012631284321503090125100903073470010520462885922384442609182268115425020200401093102280440101210070304016263222231003313822296014401682005823389305520301505013684803523019870124204436529529399335880926150633685852004030504050333924565457461040163181678348110691601828715550222030012017926011210426131613591101378720010448120100160502132503247156996000508234138108351308704027450200233626193100609630181124001843721045620552707021211052466201251865858138500016848271325973656139151410120782489423201024314053241750225222821106414142118141535355775442712234250189119207513538260202030201732010824119787550551068001006225306124321204921070251211042606063402018515520259420109162120033666238114448140978030010104052802211201137532374229357286040101102608247451242036504127614860281119154121024201737193044134375928073590100477103508014028472818523814364844100312421290268201970951800203990209441354066371161071345404861858125257141221426143002030016616538605012525703312055425896090303650175252682002193005546120609172024810010803540150168100305019341002020576056222800053405236221100638642131409082385936275104069601760351281500468656130144551122333448012516310440264466584119609840204566110361881261027010121240323017652061614411842661055352542305076543053384223710450524311517046933200133406048600804051641503707023103261503840450304513725511223463815602533012050303625206128126912035880500913159181505340740580265320121630384510078168271701759203641614510021171605412612030507169390614010113083401004862532451266535103200323080100453226020317739963810010827969123217104801624734231501081267162120706030862031259620023416354610010017235105211008512165033092100200703048301969227510050204051915161801368212851440609058265410010787611202481917601002050017401971660216566010040701050150151201507671302607439261203090538324021000931092654018101912066118499235253041100180999160601000178432040417404522871503310027550201583055161204815080022425027121034720582412420750002619544818712060697637107559350477100504428660218128204225200130302588250100304036302006314410057182412620017158115752122753001537513112042664645803515430255061543191064060171653606868120200162240202006613210022120643568161210024321241571203740150054131226265181547160403225721937372126344944725660183011920032504424420045406610221659191030016049592456062484020506516135820442143571853260126941203076406087762632204723947086026791810017712017463251269140126405632242080501815030012012036111105376272514035363182104011320202203044679156812212463659316258123913024195076287871722510057122220060406140301145201592210045148251130191404620023764401345512207615049512040107060622931471752075846060100341002614312565729611111033201035079586620514149280121202740205084181025402309043120801801582920092258244202207113612072201568730291605212620123114229141073100145656913799150153787366080103011531194631822930363015011260250203976925583644815070200132501809101136010827101505870836150322032404010039313932681007610484438757042123050865048277910448204019173010864020136401013716089203010154621207624282562610430972222910810102808060302027012549122407129607304910245155223024601515079114121652613641428161156038136596601877020059726067124542961124933520562511243223223209016000223241241171082952514811786035554101961252551224390591601924111813548326014518417430605220716881720197200762225154365048162021483580601058502515666244017454285001085878910324779199924903122323257110083992240100751365120221753374012018261111263301007040120592779013520472014318400103151772401218366598223183701401241023540126421293507810015811514412040941792020911640261222126200405111466033120020020140100420562021710010332398556661101274401005858150300991141154012112101237437650490042151206203211788212571801398184201053000100830243311421816149892045281061161403190613057264141845018400342169660107255605716201520200140002032315480261018011573040196154200868647829121487013645050272810675122013925301104040517251210030846150300452346663878020144035423060220306724165121757637830221001394623180602024550453611000452853501536511504084641431402002009536164210120401499103284108060122319420030422020158201203770242093112518521052909184706058513919857301031150232521612015023822049515340090501601864300808317624166118127333020004037674406076354994751507040181101075448844085531214392250106301001025170197204017030260120268166601123007434160501205404559826100614464074324246209810821215327884035220687227248753030140606060535612155251524150201004275025204355486044709030800892496500202816606030149050224501304573209148218812666505050112100876426463743460300851351001315410829221643122430080368188100002745442884403016274563016649204303012801605011419614661402823831642510405141022403501091065904020060025482672286931506164397237650108499801322928204013066305350483771206720302681502243504230152502080012642156556053730062035515250172771082251441708215050132502060060181126090072001179030651617090149720026462047922100250404527221001501503201826554823664254319248511432380120308055321023957722257300240202825036686203026157603130202202265100002427208830411401862790245120186410025151960208141085016010540350125198164100925108257443881227591003004811158661815201915011582321437132978669299182510458401271251806065029211761179649494540295012037128100111230129131123004009051009741005029012211060835648941264100330605816050448850241016455393481437920116810080181309150100254415021309030012688181007271828697307008811012515531157194261640518702046062741651553013815014240438503024584030012554060402024073800539502015148396148100981101505042120906005346293027136426070150192107550289512835372162506060176121252760172227132429223060100221201948101621230422518175161354301570177366460138696015061102910507015501513090449549229092302010902006012511091523016726115123007625111812151000730271251411202361441210114510205214498405081520510514654517415040572022800073366420837303361801804511140010100134575129262021260100828040150974684542338351100244255911018514149153501201049524930545731593180010314412284025675432452339010020201133511412976320361534362448777902312115014065148128600216470302325616263948512460502560142241110206305025456162900109042200150223578510060110504315172505069100203010029019109028006026227185211041405090586192802232161445052114288466020207922408262601502591548323325120300138645401781048315024303340173212017480405524502446995280180682204828510302504060330712882429140604329610660175183105236206096120070120301460100363430210381701202061024415010002712683282939260282901851024621691102262132029020106347378115559020139995029051219681931247511203225019008652010022158242753557120309720530130090941604303049286054601571994040402339130223424003173507261505680132321243020457637201405432362003661654825317401501184056344112406450188601534170601108342456014436811080200504533073402521726236104612005320410182078170522652141003054145000121001541401862018022360404010090201944824040540908616064021262339272602101781422480275007346745212980400155200941861226141065175116701751274404074947408060214012961328208220404030016210436830750117203066524030017417216236745411130702201332314445515512851321011851210189097425051006003011450312811730201368010195260621291009014311239021025188311450440123434322332309910040144193590494741101046241314366242462100701658100402729265125410362561654487343011644504010200345056249180835252218227822224386430186610057100801801108013120222009651501012581405482131920210014430520336245720182152178203503022100420391548206460374004060002771835214291526977603240613538455814648192522940101202875052828559300776012178174216669616460100192401218281100571056878522830711919040606238016360829210930446217315234832381687815201622037762212812013226716716822509975666290120210372532632181704010010313268680326134200201520122501845127302366012225511211161691625113584061040842740025721184912960300176393201952013406532258422006069410262444919760193805090688910068136382010162552215254146186298852115100152213126026351812123406612025230374404230013332040562120220806020310055358307015010187141528097241209610471111491072386103282214614051618032550220819123710213039630222276607991543062244413887534750192602493039625046257004026823666246001396032131603342604266526145261730046643285119341340157363342252130120171297402834399010200383421184070617360551051261255052752920202253195885822481272517030031981005060505494353030622508013323012016180222372460603014009091120161912302551405230161698351876414402520105872274111136406832007590045011401001704050601563618181007071120312611001501501204962191212353255030020015065249724126807340401267080230292020712026811232401845810910297845381214058804760046140042411124402510825604020229011962214212280103056036180341187662873960131003312059752189241201615612166282553221009707551303115651403072119879376469503467918110090814445134320242054234191401004021122554810943650110133501207780801358129391310033815011651200120108454801618122826196386414694947262415971666203006314630010019712022601025503448750144462013070123039519604437602539100699382942653551010810220300454243567533012011060180403612822611053651632731259360164680306125028272461502040278134710297265443401375701630120165133435608803665202036603090182111152005616430526831256901804526373143172340400140651103092453041151201806811282025516122506190208013690152311270147646633642571200203164940427724325609840108624520037228018371120112462413953238100101206235203920396435606146611851800812814128735311501441306019585201281172062091350501290551212069555114243309048401227888050608486241001766382449005880932301207186925187319801203932010401001691052153610724403012061259621321355325200602602410530118221003464078192003066623164904126020215160914234730050831383168200101032115801681100198633801595220107060425427706940102821794836688857014510435722100101146023110634167521272887012992960100176734016116025213121121850304820136142550302961976501231691529423144025259267301510134959301571203144661504360294444198694061071201811260452123625431203017546737344300183510244042967511414703782191007416878045201003676671514411101148306060201459164415301006331391004032601108219264702173120327756662727405419241175111151375401731592137719186200732165461095505067100131552027100223603079029536024623001898304132402106814014283049915403420435211115930201233301206046645060300244130015621151533006013462182511635131225120121546002846581019569271154343112032889402732052720200511833372526602605653536822943340275468412342278507702421116731381814054131001450491250103018115010013020215132410067902860381302340035188305042130402402616021513003660602532204125286014822401725160116360098601672120253400179304597390276103133317511142119115381953230899590458912145275110240141567920446263374640106984446719410018115233571401802656010720605823312650047216302460401216126661701006010019876780380163660374522860181200182476991211253192420244036145503630732006098109402980108003488228427378451004610301504002057130522431002072100002595748121542100681884060203535015140591561200163112015306030301533350102928172805306045101239111443405531001092712244185620801004015948648025801204020163062099741501500164549688011220738166408736314480120161381083460294242001049301054010120419880391100603289074350123120291130986182164401822013910030983042508025152272319932086000181221543013100330127661940680150181102205962110712298521044898464044946155143198208252324614111103300550621021939240141781202673018013303026203704029322451240289424566505816612075200402003633200205212200206658902104212060741821802912072184298506237421830660188246246324014141006202014328540301168614460482950241743031301515033401422078325074425010020608356319019165256006019722226943127020100604113164562162201991201100049306064711327406090232657371464152703300089223905474091723874151118538104207130525234252193008227713850362710432195581005410850141651533812988860108632631246002003317759381183472453842205896447502404489324235644019108189012911212272501271501805366545300120961284070243473026140241048815869186601177651161249889286016990020422040120126015904005200130701018102020780828042771572142110804914181181639101000015212106871050751144020162204312020119721810428621452473651000400301549303020120050135121169601512227891251804245580291012676156254044611681351022003631324321324010954241762040112325015050202163741321002802502850574401640205520091184003504590903053269159044120412331011764080781649343084033617342174405012847575851031430645060254538104325001672149905310010063206132325246048134180486041681014520839201939160759625304873276637606445124546501273101402537345450116468055820054360351862464123607227152502227607050141414914056470921557826451156401061152601030044756925311016102125250125730200144503224403054956021010251192002610036116405550606140201545844309718751453058950145018013718882412401311101004856322525662433019983042121624088421609433127403384090215010136752746414401306056067119222143387103221306050350364020020081162401290144931510071913002116420027150129506020582422302028010012090120140067331141010024830144454032104402620251694751603601331501060671631441984154029461000222080331213164836250555201042497820231182249460100493793927205320401533958363217949782321260164010932390333571984301886150125404850012012021387217610014137135873145632161203526660604878060231742404824483028363523020045482326325028253941514025224702020916310586980801171708271803806101226368219160002645514266454632131301123018401503390162002697647048150401434989422521012421852040152643478263666725313826122806093415620247820122210246966938726630151682585515015029186801309662518240123618312022201728682161016927205736501015052405075056173780912515020968276535081556352161022602081556288326460242144260014642791207391647860050283238540182551073566461274019624101287560002381012116241506006169379118552821021850051430341004418017568451130110410204061600251504223852731345809624301731631004003050365232001351202910031006245617540630222114146710225500255223031111203340891931361027963834507930803030354104761534660154574211484950242512663440182612728201342555059891603172397100144521082563116331377798456330401001406220130546760425185136219075884530129616118406151230121802143030187107120305050674440500300160443539521698601342039960404844780807001926272087701516285112240344004222200460317876615046530150620441710023413967401164911971220661284346020540402830411218300124439622517257725361180855088240103430134001039280483037245132450204343513450100301040920419472502440161981286013159306713265366164406035564019860191220732648170252565612526251483157084118087402001043393088302756111660201083092606442085753224124026602618815196835630243203764530401044681075521602733053253180811540022783445928100603213236591192099012027219101053525219121001682060171371003361444204520921402318811085236151403666550605060481650401202420012612150342856302882488436038201139248760641002030202432251254712523751603210054125518570351202405403033054964466140409716205823029129115682400106020453723414560278012053260115458122572240150361028078934112578050118721931562541880459914080251305960767943023019171021502002130303117718815231310360200415531093384811791313043783022290402662611065951302004371804240257445010064594218410376110241310511438048803450229567320010211006038187030523854478846546103054962025510241225963207463364633425331161842754016856121443140401355942243157800271272297117610812320194410134130186161003630122083518092147261305092538509004050763530140200514665190112356711592047123862034241965825600444533318200184422424078911665354204214544049127586930080153911508010325105641051131203231275563834815440100100681240122362192080201441150568412048088124060404172896561084044136513001574148212805388405660401857074753403142702556015400780482678015483360502236024150145325332120524740904536253129385628919245544011734100601048039601206144240100407203010128330235112123110032411000107818328502360330300629100010002538100603014320403187642590608050106756034322569319183012050463014253128443272648047712271006930501100253402103303532532007240606011012157684025034162036712028030206230799650062445033335481345566175928250301220926974887838536630301163005159607074090401981291020432506460301872620161471349575317424464100851007033911810093190214710574081985498481526371509647581266040755201902914020175202624918417740162705535812410237433537326150120568721271253040126651401481886212910813088114032644601394142203348044137915640200604291924781003653910045441801301454210028491017428018318423910712650152663228251198015927911301501002491253815403912360160293111840836142841001122825010673062240040190992359551262083188060174360616430660150601001053413712375805154201113080067121745916162502465152110754037173162501233012301189358424603410007280303596753625110471442107033609905926504632002028987138602272935100108269362418253889584862365365501505020828828113306421060173420803012040198392656150271001208511291181286426013782626215030201921201459031483121050705221412117322517515672223017930188073303753312230134429100340134147451228963601209552034175618399575002513242361768116309060120265151285100243054463263805115601275166324029148192195832694397601682406222451539416042527622940596322520860544536840538012276384730111402540151001251506076761171955075011541105481062495017104952223560371840644593175363786020494045365021112547419110801304801121224040935855142125606070711871816060290806011229110107217558517201603298751804785035707715286245194413914784627412063184880010011648502450752427384811252120242445121230464262369302535835265100255430140604815031016060180111404031205068227903819260844113204424808042016602387719301233761050373615021860100220022330311054107522101205004049654272389385145313020321009112382512022651895257085202531293062115192361692600403032230149256101532505132104022523362748277281395031968313035575618201570180828742950281515217311410010364316625249102005040207291794601416154603953910611363123133440280244060200117100196154354414100017497168543440369126391131331549873025105646096132028023041200316643831231140601301421000501001002001870453032741134115042119140856147601042012013354014944121543030564001720222440163267280202920295110150628111915011903715636305514889501350089116111423465060052088812639057241555715401612926133374502114336065114502022179173664314416611444602138705198513315443165028172382437583526303269562553512079401594006060448329492801610049800761281640944122402708792475356746564211286801039862476605030784030342012240057514434050245636562550138202351770230162176282326206025591717300183640241408240144015212414028044600641287872501028849461515301760211002801205020014751341609216070256145108313711061430151323222773251394189867026189401601002310150120578605502405566332700074360443126132503212874130522024244684005074801205315805066601473541544225311538781013913721451670606312834605750321135644256503687492126852537523899610131023463170605021112122834924022859281108214280169013160222746336200601450105700384361510083843413240203602030037305072102405010560323972024711245436726501406015502816721206022242311165020046611120016040125366042951428272032965530241848992317307644125719124251002184301240152211589040340285640278103207580410304090126594580493023330291807212818602050301150921537241621562413510457593210942850231500204009685102717319141919102433315453920401503710569040310136834428259822051190453317160519413262481002028103508031212037100388051013135060120203201001565702435616112212251308021736800112973631208016433013527342220091481152021062488303164151295234174702067031912411201037524493060443197505750101085332160552201081110012840304059203690109124245005046240575099281481019651612055291371837660203050912814417612829726824218334826436020047472103312618117840801960767302680222139501436501402077148105265805025145100200243413112015010306971201054299502167120107760981501826071032122120120304020072427924244120181209220609740350361619152618216560101330032172410060212633504421002010160604198400705205551406010516611410021780601481625706870014015032400872533523161002193532301247310142028200100343512425425018446217188403440729668868144253321401001690403532133620402526762246110624273699887931288116419650011270185001159619995349181021989504844086413501808048221611061150030150322300448044143321448001461135216360501392560403090160166238154413862261610820022891340100302193342112630033513210301505010012630017444920060702030400312761911050300100603662005181001026821200142100115630104843101202011322412078039810752467052300300602041025030461200283654655001283160480771181269100170321564278020325518518250501328047120403123210001013015222033212901611439602585772986012012018032720642167601204202061700309830902791271224406073412833830026207464033011540995660246151154024228609620102442542012017402483666954214502430118066102873572209012651072612151211823213723211035781618541169884198206144708213351105172503710210113154481206710019652207715531274096169659112551483021100100215623385200150439284024370454502635116400400301392416410023222615871024304880601016213200013578543445644371033254189271757239610476064150589203260241740721803015713591049301884025400299578912224404021642581345080502060119118911471810792201341405041273503336119830603350565160168150214093501704018512065580101606070656098277643154601531533601351241217327716108915407250200476152506040034115240901004012397111151965271082721111333022739386410302378849156100019220125603466100456213027020150201734432511120201031124344920100661803001094045158170272530325020181011010117527242991872745670281082810015291753110283513817244364048100134701111665001083256206025172046685130121511530561004412196246901307032013230492120015050201534354220107468013120219891213520463503082633625200034501103014303291602529618371675015010222504250242321446791322281233496301234294412507224213802034380258200154160830150150329040691631220010624232122826915030298750501205130095625220054015360953244160308219291544303220040465125575507028169301599210151191015021154086605435003038080125940472803250775100101152115202040331014671317110240103736549185817122414067351101008486119215171024162262506002468816620452501003246933214501225172152739192191972293588330103140306641443755127510047401011430452827363665012010030707348004282011322036942230388602717232756002661634177845201832643381333342428131362577108131384002796291338038315376110883503018031918409007594292160295686104120205860203621394202030442024751756414100157172821205223150362598480114122321609657604012010070598635437909110120305075517636310816313467412070170456225793533300045167857246247831502891602014591115368201956413204010043915253952430011813210045450400199133260140220867157916501081424415665947922052140403224136305216414020190501774655109451805023465425982103585210020028558709040131421508021014101006611646631636102502382024374119422080188211010604906792756026420594840653013265972361162240306194718122041224111753920403556025264203140710012030604040362302431703036568296734030635624167203754950603081814400421384003702025681029433604553852752665301846400120140370515560712086012015071253861012922020327211214423309380327220100281003511012001301871506428781130304260161027109112684265928564628621454084162416991508040341501224161165140100219948013648685030314219310155011360100763450140045480160595620293618012814007131175051100902066188926330935020401827036048331636113582502168301016010050621724821693197971100201011039460200608483507830601171752124276204540249005113021617224098129455220242010048111507450108088634362416046820186189482513098920100692006044212040118115171105020715312831994560105312020122500006052243531213202332880203410027467333070686078392679015992572012401509025434405085732244201602015012085033191453201511810404514422739212841943216274040483310172374944800413615050202880178362002150108204140600362241148780614236160776742514743902306030903432768180163104601422006010288544023012381803110189502204048113996337254127404058184896120139112875012048347109445205020401542004281965526823182255687140593601035103260166320143486553030012634836112961662024850867044721553116803057302246012136176604015141126630315384418938120493133620319603618792138501200230779131553556084220107610075561001621703332228162283630010102441131001379190530256807792023419825240782430035403476375481032023412086047327288569301123215015694026822205670601501240900932886276505410830272665333849601128035611674930422616342207050400968525248703560645818120280108845914857021820102102020150014264617531504259121312013415550749300017413520100941691640147612140454050868432714280167565003613135783581383301216372231654924637050150108197102200824857301266221211991279779333286678304019202500351649327963721614908394051712034409924405023634064246012060202660325810452003841384226854220458010017903780603742002602116825034401720016902002588485106082434496200594110058155201123257481018045850275024100691801603025322810270441841501462433462619860261625072615011841802070601012389152516198030351620101282412151201438080553142044114240120182840105761528276025162153353271053181941244539611803191314110021201062115360014040311932111991236079738533493901239023131624083266730869018803922010003086350463325450601101003006720009220055646291970156510680102023293659924215991401806634318606781001432112120351521620171077147604039592715390211687525719227312334220142514186396220756261401844241214495253801501612210072264887331600611396082201501912920061427095113052792103151010103741110155367043701006644301464830039100020034226291931581441696020036028144406010810118402912011661440201575586611103512013645842006010384422432231201260275022806692070544013036104503008114714071136114003361166173100121504601893100676019859710237275051231282002813622542146279323095010718612020122030911802245421772700401002211630120381024721796010010736342749099271305833365161391208347324612585018704300229060485130051503503816350249120901001562013401151201004045023465050078414338131177406040282139145105154082831044360561144442100314045188100606240057180101754001503732412044505066110506021404071131125813020165604435472082044110130181501005660169821001979934003506017136440496070128126031630116531112284520230742511322322056698534447103011003002241002106187233802037023880200901610285246549262001702247030209014942371009016282660759578100364216817002020206117312100384741231716063763010034883020568128363985518333559277030261389152150100516038304812502541395602611448335242359350500105600406431005613525240303232805116272100304752256402601001002068101418021279101061015446311708535560503791612191143652330179250158115008019680310258620125601664113922068308510170241522861080527240137569012017370445134126451432201331616150120751540856020120500110495240200101807465021248106131510030724252262215065267724028100501641158040201010746438718020376742001257622862486533171748101492072314022150768010032071301402401291284862338892572256015011672420041515000200123924324718848662637521234436050305718843212175962360202061081550303237166673002677433298720602393329099410060871102161488025246472493014015180658010746206235425261681001021408426060474737712942745026342410270117408999991546006063313104630660497027260636515311001201006070290204538611050404032604274084586029942241001401823818425101266333486399885193656291067200578247318638301351304275604012606221553026240204404020201339910005051664317831224012973913864331740376064304459303716404312254200604344204518010574566308010026014115730661310013141046206010923350143221162460300311062407315053121368824221233500112735060301523010125438136997150246730243490732395130026328030151520350279606437503715311107022049703928483127161024212110865067300337467311002077320280485726163060199431401969559056212531232199300321201534081033221717621210359649120703067266196040009641454036715501007585867343179040123161141030101426181208221135720431227010434012068544088110072174030184911986030045109327522421205727829150404823371743314472100646192300011215542148704013818401592210590100603561901502004258836030224547517547561148156661265830921949088200701098165501224313773174372418830074936528202040802152255612060485012000529751632471162324030124205530254493117220321264636140101805019507232422240303015464650252120145443242810000204033237280501313244236211971033140161471562524450060263327743127155013450222462352215201151019015030640663273616131426011246265402673975310125153342251503015101749923001041316780120541141231501514060908338916143054286048122105105922360521206036015251269040431968032418509748353720108602016208502230457947546215870200772325100180702086585097124991729918159100409220153058100101129044886225586638403860704914805015077212322305620606348138230612062263020011066260406072301008866825211801108152008916115913510338611622596725006320150606044903613381039267511974311244377683024506079121106454574610614012830500235751810900195108033078273522019924020186043568388023411202550106403871081505380171156022625027300148601557213420045993534410396601000504016662830040501254013860509032125213494504059241054004301011652183125383751742252742840123014067510767223311137119362258100737121342187315240263649622001680508004580601211025065792161801664361506140528604068164366201350240564120703655234520109410285043302602716565401817102813610025293233048172714866753246622772352117414101795034380328103501055050369085121811002403015802028628620010563029192412431760204065200605461208938014650309815208025212758140301221688466500621171505912034075616110841404435248134830201219721379343636100451210087393946216659280443544120571371630135243084540761117243663572601605112036401028265110501060781002862011230768642500373297050101900959821262220370364214710151389074392043943405030303023281805638387167410611712820030050198392729022311617505031675442251060045484012601051218311518805021651912501023732195834047242001364248424040235030161503920432421001506515010124620601048632619020019933025710026112640168130228090537586112090333106030157103630056728015700263623440300905614419226918403482787501037321951033150141141923363181222601053582840172324306351401137031206402040858701243436075796511412540900108200207110002684804222012035120691220986054770102212164320702125150791212587163020251063862102062184086344030361642005921486993604080141101410314136610181325100806242315410068922474368533402710712002655160330241901001472435850253801716289158101759815486507273365001216632554214030587227069608822600102281005082214160506014842300959627161201664504204803410095820120605038154214401001721250801060315250115386850484537710313060272238603042315412110897001566030597010059154120120156010049896198652425578016233861084349748230104421516821130191022511440020223126356019431368818017420331295417382571620131330110531201401102383512010068480150617432359825322072106310045601041013454520596040381255940808485623360571115712847536116850361609028109781140361530434919550957282622785254724202304560956321011184218070100703020591230601430071240391084325460452442753241201001103789470552024288730155411002068439224120128991017210168601661016404839302961204823828105102024381701306220010248708575724310130120754263122120100441312011555518591003055144751215671816058420414006719334020284056120342460370107527300212324048200016337504310420427903520536201124018006031990332728029215060153603044113012817704008013743018044799472484886202454070112980020921512211151415517391066351455724027073100314314630202572501183350162925367408713485288651932901915256520123461180570429200105220176488008110275091111610011030522809120242550016030263630203952020860756560238027873484027074460191856419186040489966322713285021301209018503023691154970245210444165212210200106102421435309002130167738853052523615421210404003010351340140200124801201207114131189153682280822030453018425854122242922725060616619708280603518122407704780916331016936119212330312852607020121672159116084208212083901431502071291324232013572636549150465048122003107250803553030726349603086845564160661102564207532243071117343009241321060151734100233231081101071386054641984136422772836524923030039607410016360871501001503018784538579341675306512015046775013187232016704568722429030210601522837548726270002098127521506074801793214035426843568064713020013040946030424162260152078246392004260723012140617371606416383950461228012116452131359416750320929960406076700012221951318028563210015576178635481810210063183222771562890010011403180702040491788150182005935041873616082212100506024721415922802401097322457469351748961314901205451139372090761501006402616821915015075110144302521108243880152320130114149168264035210030800134811001130240104020228100301823650182510860401123036501494021807040122001513736894749304204073044410020020110492260566840704023271004773402914193083418040100800716417637306060402645281043650107001286123826191052769115131203220252550246019701080893962210760508520813060181228060302836574395428741603013250167303050693428373801215141985518874232220660200207951201045970461004948143103679132121332203306010505713727400935135938039762725011267520302560402635415618620809496091217780269739022609130522023003413884500136431186326420140106412207214004198872114818323109770155176122202052237508652385110040502002503903527306078505923528006146257214601540624053606115961608931503529811414001203040438321904580461680129200300305630305024211111801205215160302041001322012039630710066013022218914404190652906820619075104641341944015048753200221232073039102620425004412121025452963754227591439201624105281025096110554028103301635058120902012020456610241370213647161110838424693020203321049020255814044293001349502322040254014902005077423503610464576052187370332779346092396010450241202881136012521124700854060143564043837504995772648212316912493510962002656131102240140111411563034363615098346405480863813110319312264162352288251544239612015241171025901215040724402458304006350500847544303682525308217721146226366325150225100200408050019314256059584602531226923613439402760505901106306098192006012013115432180247328483606066020548228362532506410867820961355011081286448652401337010220800376221643251424040171231554441549301501121203840431201253074401200401021851313529160401975860720175100100730983741860286492013126702022576601460102635565647721003540010140180902093601067640262010045199108179815012812032301004828648400242746220401798350242018448101131109126510120321202612422720000309920060172281116525111223833424100240252549712048240824712522090678592601142912017200206500273020194042462400844211772315238249640402478006171465869196521864175940250527510333028313544230500405622315437111028035650201509301121604036408060600601101503915961253244400511253248010724980512365643151026144121505811474898740024147910701052374412412921112407511954308074203051301394260498020471441523375115332652517052805512710028142622082830416456469501804414022858807892253781604324091113124529055440882305002791224042433547552819560664192281924381115038128020076301857020394822306057152943544109150161462225052401772773040500074594060126204971931373144391200345910010012029033521001002812606512045125350164721115060581208814139323176367040356252134449102005091204312202430409610573314831009622614028123112227642020302472630151252011230800203434571463767560254091207212380247271008123511014162622704002410028077199101418152446024411041240940432614512221864701841520023609410048105734550263459765151125456201614273311303520223565701089994084039050282130116151200270469736910311713501687550401083401404924120831603564310351011626331502381231247792100037393602001484878804562185110189456019634791055039015052261150042706315571227633302036100090981014730300303378942004025206620663513072182811020618569221101845011746100227810142051309212128644099434507716140200500791619211664102050121501215056416039500410522415012400460681204844041178711211924506650173637391821363810220313042271224301001616146154401601537314240113511020710563018015939255254622961605010042100012030189924014133166506019080167031764198910010754188077110096041239300233124503122414255401928403920235149123824135212011094495601544914102158904010343311208790148351010062692169024906012021303130956402157527241067111554342311601825548011204856534320151712060375116100021120005216642131057302818115150407026662314122031255307511518390367634010321514018627350301100678811204024252632151042501605141706010025124142414066100300723535338107836070251414259208660901203201332319067200153222228361173414244040341862402086925152494045066976012032629617137710019101443122711791680663001510040118236166023608540187784348734042250656011348736546521894383426317627810025385421204604060272503274300198276018001480815024901072010201596617292112310642319416147233348422360211521172004047317324056032128710021468252418079475023483013667073405045722017304542030808086202025236801912378306010764385208010571233203018085070244502372004310577910004040135765235912032386821337030260126020017603240100531115052126020801691815080375663330400100298401292028566014480618001203658120123010116412092886020301446012120342511782170202995026850452434601203495635126716018016524583813244261102072098211012609132323662610040677648194309151215025220183335060316325450424003788885831505275030212079255050010428927191185151221203580528501172035402103510021249878153396468180447421592501102828602001801333153150801490001201603943129020284055496012143473026625031291084263676030404524090645462222815012471920001544624571144412088272341221381827031222014412201212125686160321001244221249110751818307017063200204386283860226026760646016644020010041524060421205064566048068204051222202272890271854047151104650647302030769084506060296195400432439142100245035441245712035701583777572012158195030602026996049603223403200501294024761201505582302006031012057138865401047460597550350434430124421830908024210130146182180240306123200446072666030283100122552009053012870139481001007661621209750853086121461636080734723431004760483028481883115002011218031008816339744710605320444451618501014457377360030504044860600120804032162158196162564215234683027080152076156029830436060162228442479274286908511610942386199122022210090076744010613104266004584760460173614483010133151586329606236109230760103154120851921682840253344964154912912556832321382510818833417248201044410015141840504510030902224481202013049030444306640105292389165415635432400187120121820221250467402004071251971047420150332013631601558430272231410567411803624543171722273406043151177506956525620032174350484710081224016095630533063332995048210166132266034831210491906521394184012411024770451666604020231351510415043582930653059602286024101568100685333618025019334854200293167501543100140377372371560521569510012470241430023711101382016513180138308028127103207928890325417963296422020100741212993291202348490390010610012183210620992513120958070416359935329842121200170305161004040153005071404036251645061213438435624353238443840241590104126131793331291084450030362658684541314201501015232654801624076822871128048391481511556023351008100424880829739359038241631003046113100073143494863526140561876014151077315113285106631501208531231094228801112411615030612020421206836978334881109890602845442003039921815014015804448752142472167050470312313080151204854249710813211123865250391249913411135950203320980060372411624410819573503118014590272822404154230849323049841151240100603420010204064311341844450142460512321190058420420171161204003542391014030024252405118403220037333392007499100222001203256415186301010159810352263290345120236045132494218775138109206418150120503860589309233011244091959351592801894082151221810261961826700628551045607962101615226484046433223035468246193515124221995059458105722530155307064912035604054019524510587030118012320818402231020151759501684320010058541681602020372001213589429603424552318245532120129065180515487235176230118159258012093132293181508020023281854010899833613290120124034604041260126200156343111622621202008543766524015441014527609394482151103000842778331051261647080142022283256100240741101612039203269366058516600101160405010020500265580202003512383156056049058845269201019301312014217716221558651322560951001282840480680521735060481805237158087263060194130354153794015820013260013610072100209088313910022391050511003801209199244010418021149186111312416160140967752092424804548151191376610032322082528335121020504607057442613440112675908040289421401261351573613302010321151323093247734200403004024018406812463301522483018403424100873280505614620264161848130207097435010417249014613167240331382463282194604034515092036408740409128523002002771810012629913538057212134991564173019523743152050124641564654004433606031782163139246189317540242721672502515234159255024711939803302160404047211820130100610506615117260830416813410036806338348228120182026521526019953513744030105002173880005503571433403110076045633002027268752134528500604003014086225030200201660609912281634520072416306401745242112028112501309312026010027549255124040353141565401004439044461532237277179064898386072450198015011056304815018147795281083447426191003001230681012081246516236301251111223069202327301811713027106370501242034129410064201253652514092109044100773410280291291583066080441008010042350741240329275042017024920015010100385583250151286341561723123950010573802610060261635012056431398331190807699234921023326312031490402037194037452771650030735734206316822257201315422459220752550312402811836102740281202450207728822430408743100100592011588642440383523281542097406040302806014272202538751403018040116210506261342676107564518322056741510025337191336477484804503022102582403036601245520173566688300635308110025646471216251074910026742049226324935059150662403091306811243163028260926074150454303960945261161152942073022582004072341514445751301222012021128536060502600270195529026219330327706026718342566210072390678876130085381116014015110301010001514024037367261175028340018104076120150200300853011031824601391001501112002032552001141232016739495007 total patients are enrolled in overdue trials\n"
     ]
    }
   ],
   "source": [
    "# Print summary stats for the entire dataset. \n",
    "print len(df_completed), 'trials should have published results'\n",
    "print len(df_overdue), 'trials have not published results'\n",
    "percent_submitted = (1 - (len(df_overdue) / float(len(df_completed)))) * 100\n",
    "print '%s%% of completed trials have published results' % \\\n",
    "    '{:,.2f}'.format(percent_submitted)\n",
    "print int(df_overdue.enrollment.sum()), 'total patients are enrolled in overdue trials'"
   ]
  },
  {
   "cell_type": "code",
   "execution_count": 10,
   "metadata": {
    "collapsed": false
   },
   "outputs": [
    {
     "name": "stdout",
     "output_type": "stream",
     "text": [
      "28979 trials by major sponsors should have published results\n",
      "13025 trials by major sponsors have not published results\n",
      "55.05% of completed trials by major sponsors have published results\n",
      "60312441504104715133503005910640243129716250153315202420464428303503711141491222414106080203014154498128220221149702724440746429265014961613236130221245501748372140100286383822551038725630280346603060834819114154204020413917772018302410433154701340505434080351815024166301730100100201161020376029658903002201331537207512010052724159270635131658043922308436604062104915207112764152525623035303608028120305002012191405042001151441080603212040303612253108163141867018301275011002044212108221002017960559694108114802036191424219222220257633202375316362681221190201044615290824333321201501003783111701014702060214106424009879288110995253991336060443021265016223229415014160400180881621200567695240401005911821675404891864059403624450150126066260614420240902409612007263647610844974182001043005880203138455802830552340929410010187204840401524100250771215036420060471040457070364621023247324453246780405612535609767644434387062329181362503919233847554015404212007625801011140401576811913752721355042121423103870962502580273880395142464680466001441865540750477327228784036485725190284281201161207670100209015449100893014014014540200488144177022096205384173435023302012260690411511001003022504067994024460397951083878030328320750300421002020311285535141944465230236096373267121710261423135166220051586252246020015255252859951541079015824826154061303723810165413060206020405090101200304084128804022710985161121259898207206088301604337207688640101051811471104507782655230174020306020272123941628621206248950012130188020037827823022083149839506025060401020566657262090042515050191601901503126136348611166406376020254044060846832580716993610098218029990813220253680606637953128182520220509125154126216043853092514616243601500324442011244071015974013850023460208040255247840245040122418661024020110961211036060118179476091557116150120147589242402361741811604543010626063212001316035533025018641244643100302121126346114260380744246680140545533012054302992014621744482152115015387050044891466310002210006012755474368028201730202320812151004013112207417027738512210524502752491201443502001132711433416012319912211013943250403501401124571010121128815172096218361120060046213071103102149420717020550983013804630305322076401842527252111655221645175410230021432073132100203140272507418646512324050808032624100273559630008828492680402230652431010076601821441125210279006260955242204350951401501209458313428437810358186146102545561430274213520922245111214901243273129322810010010012538269512031811232040204226161275161682609138505415011412110584073246070169933750286072387018163442314182439019764161103288831064002036451853812060244512132601104765715000119342357426201568074517960161273030150401001001732015011071145106138902331141564291110498402050384010008145100108487248010134317012041403216033397385542557513050011330639269057574032306025023192912397199021219934215361743810204242040501553235432009401885210046754005049100183640281610423397100702012224172003211010890154079806232031161281127103172477153833129136270105149661022163017314420099101103620682815003615020849534845681039347212105099917973562848528960010022002001053134144110381201601307754060290009486962632556451404804884330036927496003393189620131381850161270315227200701443038622217011496810212049235805012417524925130181323821172631111512119643513260012664040268405750704115212411091271312717416876545101390725330017288524171204020168230409201619894301025872186392521004201750363022132302015058965200240274082910447112162813822791616514150606168261281228004650324027540186431201046030104253555950603038166316883141015612183319273130218560476571655054716031745316678197555261210315163286401310048220230130461212020251231105111166402745730242201280805172010521620014981002064513422033132430202136068247230062924192060421623840201206208431192112105745474830560948252025023979604150424401216125194020438426050601761540847334340382072384132281421850522510013045116876183036329745028261182082024781311108246020066060617312326707025002810620725025017222515545502064368691102521928926202182409404011274861223495966015462235320029401442726331543020100129839020162120015115210318356104410840274422012042323025230522515220150214189552141180580220300833285491384502401840507584115060364823012298246342978800100311655860302540019171091801710015107960156415488053668725118700571720422165105108406430774144144803053571975647810018161628937482203014406078202695004845132220101546404030260859613001009223816215018430188506037101681318403188362625210824137143157141532540102920044122904924020216253010015563801701155391901716231232530372261033814200191054102284938501020452415700103106896244510302730030242830205630118601010321158666630110212138030551334618241666621880391005044091171210084292360404012579271295627333340315620100934020311209322614747302021443017323512812062000302591542510526350871114901322140030251361015415270142560421487591417617633820246184448020301286750201114013158502001303577712230120300102024739914000020900228605050129216361410059100250624809050702002043533302504021150721328052500228977684010410986380405011227010004316205230048818635261836030131321351680404060352212022191363219619300314006030602026031454250140562516345270212543780125453061228136130141615100501001275510043122785904250214740254140713739708080665627601524800555663707202403001445716541326577483343792150249403982738110569077121051021170200103308044501508832346822420159839601204720027610039253922414230107389694193839100100501254040453417115432431582612024126134640401582503066160241301558201872724213351020668050632637828187314825140755612091402796075672301222740615020620514042144262503511535638055505441501504022114047601721263385064036615021040743753750005050889400831837860527581502215068347832041563517658348937100100204011811884100180524023048811420001003040609096184020471022283236163601053150287046781980598002733163722401342063806282991525991821722138250201001691004816342080778424262005415411621004030184343506418052547147177133096104455141913270254614002301257218242521250160361146351879621011861213556731321476173025001000001275103635712032405920512821833001118019328324795037273039812036570531373012290156099162170120114710013512401466204725304010042175254225040465510032484818503041476005611799165584604006432153321552522903060350326118372165070294203053240108805652124213135300034463536154502501047414025104911406207402394130305001936027212035428605999603762146861712201154527107123386215050647502090254050288078482004094610130150492413012918304005444060391213702554953516115121803636173076350903503072305716173510055302434601004254952424020613223550163501640142812413822401002415315110000975377833251131283653021030754891523322704012013160860303087853501288080208024131281612147207085117124891571552870957517037632210336353600020641382041311003553173604020129473242114551003501518322148435443142203370555070132204585216136391001304813410621092001613232304085904401250423451084120360108604176411404349100941839334505014765402486284601075504240181104754214005001042811030313436243091006050159397441001180226286693906810014101198400401266104010111106392015266013370223504016845608012520826013187886960634225448306288611624822971203424217590200445801550224245027013011851195124401921231381207211267640673455003229922471091128016112021037524030423340602116135037404459555186015040011648415430122101951200508054287566604018410046165042002932514135570725217313860266223211113619281654860620025861824287733762150606096601206052100421054950827013691001720532720341717588550182001231214022035116340131275653167563933002840604201010041310256922170117940108141324024015324302030150252725012016004480601615020300634040883847159100670435725030256521030110324065520154497540100471201238723149500003040183381125250100132654138255917410578247187019224054820050241507030035192163033201429746513207056402124538063159618070403334410335029128882876173515024135304016570102010570155055794925802521079601603077180323388191801920091234291922627019210019302531480128701958514012041319514130158876107205504019234252883030010040420028169226100126414406464416116382543305677124123142636241002730144387518187103417103604613180119273101305825300825871921122424213945152137180126153212278050651225120202030733680242525146010012830061403340821916101465740720120585467405015232317674561013003244391034120205439010050101496470332162050100422003023051105200642521001605024346041195111401007041502412812656106277821205181001530225187418312725060797283196365087405231205827212042305416955758554405042451222043120925601494594319246024490511348161111784228036652541301523324612200363020126502473819112248969344100130356025015195281265213060362405051338904503962819106039501078200602153300545172282531612618201859450128553553171004036644634803052056604010444252100121013017149411676612034318019202514253251523118816288161423181207045032374037402002588127831131240622056401740975481519723210574281523021246830955205120108457545236024207273152581744019421812315040504524108303160100479547116196205901633010121504526412245287381501178342387984020170621112014621912010108051610115030016341160363216001794168455252024176433502561913950402013221280824043251723365424178287051451202210021402015120102354115204512087407043402040505064815220606541193621356503646080571143200120199920604450401208065384032100301530100366738672416201186060300462153095040706014015381680840441301096530030501001726010011102621721024566646288591601001252553854816140108211710167154640705014603701882542362001865132604003702830570526150335001117313212421324274847300121540303043251001531311006005383624035574524030461520954662215200242710041195018561051001101522014428308442420918244130105460215518621826020218131601801206027501134832920342413124712513636443760602022950984142191806084450843015084402436151103266142304230696869953100524115044750973660411364238400571122066606216103037150439258037522672074096351180366660197581340861000607108150459171202518631603010215423821332030162038260150855337854047903401299958502765343015421260450225981045404030516645217647932318230343320186032405324168645010314613214051234705073161726965019898216352410421354848526333011963976111339641246943216020320369630107132962232208815053083301015275644268060469824111253588375434139100893044882414409215264016953708401761007014320420146022785199013023241580552625507910040144229042571080136901072382096080106199561236911024445758270391618242428381782011418610548908218558001131617911775630111256025416015025506541802001051837158514936183236536249715033142622391500241661101601371078719060502921801797401001403001301173012511820052097101002234286150100861010031633211231693632019138794087181552814251510045383023941102737020301721714043059601000038565420122536050207152905064316494402841501009030734700105208491822681109101270401626333138214402002338930552050687012436522933358809261503684050332456104016316185020792112131611020048120100213250321550108351308702742002318437210456662055816848271325975611514101781024281014118145751223135603020173108248755080010025432631851552594201091200668148780108012011322935740260471241276111191541224201737359010047710350801402848536311290268201970201311610345185812514122201661653833120525893020021930055120920248354015016857602228000403631823862104060354686561412233480125163264466560984061361881261027012403230176561611843054303844505246320040488040370702326150450372551181560330503025206128358803159187405802653451007873641001714112030390836224510022177962791217150121208620312516310010521100121650310030196502040515161801361490581001078717100500216601501512026120840210009265401019111849925301606017843204040228730502758241500026195693710755504771004428612820421305010030362006357182620017158522757542668035302561311713606812020221205681241571201500542262651471604021972723032662165919103001605924606248205044214357185120302626781001742594056322420803001201111053140353633041568122462581239241917210057122230520221004513046237134551240107060621477510010026156572961110335072051412120275084184312080299225812068760126201222910731456799150873660103053119318303150112602206948150702001809101136015058203239393210487505048277910448201930864020136137201546276263097101060307071301055226015141211368115386607020097546149325322322324525148117860355542551224390591601924111813548321746016820222548166010582512445450079199924902325713992240751753371826310040120901810315177240598218335122129350781201164022212640331200201332556640991212390042882571398110043311612045161403190613026414184501840034296601072572015201400020322615420086864781487013645050277520301105172530845234201440354602203067241653783120504551150408143140200200953616421012040149910341080609430422020120377020938521052909513919815023252161502315340090160118123330200074607635751810754553121422501061001021971703074341605012054098261006144640720981082532740352684830512155152750435548443089201660302245013073209121812666505011276646374346030013154213003627454428816256204303011419614638341022501091065904020082628616449929285048372084230152502042555373001527722441708225020181126072001179016200462047922250150320655366425434851143233080395772223002036620261572206510000242030490641002515192081604035012519810092544388121004811661815823232976921810440127602917494029100230129123009051002901226056941100330160504488501015539791008018130925441503030068187269730881101251553119426164051820462165155138142404385030584012554020735201489811012029303642607015019210728250176121172132423010022120302518113543015706460191506110295070154495209060301672611515271251411202361252144985086545402280006643034511110013512997468435124415350495457311800103144121002013336153624485012864703023263948515011063050254569001501005051721001001990280060227185211405022321614450207922150259233251203001386458330401732245024469980220285330288291606018310362060701460100363021038206102441000278339260510169201061151399950516875125019008610022158242753597209016043049286054601574039400726150132323037201543236366405636034110834368533040361046153204185226305450001004018640401004054086164026233927260178142735280400155200186122665175440802140129613823003066300417747022013323144515512851325197425100600313680101952129100901431210181239940354710701658265364487343044502005621808352218264301857180110200965150101402025715212022420394820643740040600027718352969604035385229101285960178669616410019240571056409230173152238168813222623725326170103634203023612251121169161135840842772118493002001049197608090136201016255221525411821100151326121120253004056212028060358708714967111110721032824053255022081910296607991543024135024930396366001391316033426065173285134036332521303410200381187061051261255052752022224827170605030132376030140019305140306983518725201058274136406820011401001705060156181831261001201912153255097248074018023029207263218458107845384058476004614025604021196221228010305601803462873960131006282553911721009081441343202054140402112255109450133381501165161826196384926247166630012022102550344620123953738296535510108424333012060361106532736803061281502782977030133436309018256130523118045317401401104541120112025561902015227033257120020316494042724340622003722801202411062352039203435614661185180014173531306020912905516952433048610017663824480301207182518393201010016952361072430612596213253252006030118221004019200309041220215160147501383101080168633805210707706940173685701453571001011063488296010040161251121850304820136301915259301510115712044432944441986112251730010244042967511410074100761013060606339402191731325627274024117517315937191861654505010013155271002960621813240283040201233466450604130015660621811635131225120121544658106927431140527200183605640275342770242111673384054131001425013902860130035188304214024026260253222172513600212025330459390103331753853230899545891214511024014204406710018115232656060582350021630241612666160198767801636602820024991215319202440361455036200609829800342284546104002013052243100202540603501515915616311153030152917530451012391402744201004015948648025402030699741501645488036311624200304010120419839160741201130986182164139100250802522760001254301310033018110220612298526409414312311155062924014178267301330302629512402842456650166363320041880297218418864010020285408660295024151503314232203563191652522212606064711360902337146330002240938741511382075225230082138361041955850153381298601086324600200331775938422096242351912911212272501803001207024261241048818660161248960201260159040013010208082804939101061050114432474003030200135169151228912514242910176135102200432112325020216374250505716200184009159044412331011693433634505851031430645060457214990100632062460484860681453913045124650127373454116803512222760501414914056927826401063004475692110161257302430956021051200263611655506061549714558950188810032624319304212168816094331274090211367527464113060192387130605035040401290937191300212001501296058242220280120403240262516947516067163144198422203364836220924946049935340395817932126032333571984301886150125485007217671352166080174228363545482326325082394151402547098080170827180682191600055142664613130189016150521012040632526609342412469669663015168150150186801304018322201728681016957365273725150209686581556352260288601442641206005028325405535401962410128150600692218514341001756511301102025422458024304005036523310062401141467255002553118936102796383479308030354761534660457414849634261272820255505989172397144511677845614056051907545129611861302145044050030044353952169860204048441926208770400424603176615030150617100234116419720646054040281812441725852401034309213220301040919472440128601593071353164406035601220264825626251485708440339209275262618815196835630243304681052160273305318040041003659119912053519121001682060171371004445209223665605048164012020012663082488436024876024251254775321004125518570240303305444664016205823029129115240010605334145601201154581272240150361029341128050219362541899130601710215021303718815132005333848117930437830222402611802574450100218410313511345095620010030444651030549620255105974633646331842754056140405942578002712713204101341301610020147261259005072004611237114786202419644318421166542144012769300805641051203234010012122362192041150120402865414821238840567475340314255604007804848223601453324740453138569192454011734606064240203023511231321078183223100025382040649060560346933046301284426480476950110033020060681671206296503534556615012209748385366303030059707404019812950603018726201614775317641003391904781985498481509756075190140202455431208721125301214818862108130883264460139414280441379609191003610044180130128491742183184212615266315927911124039160403628410028272240040992359551310013780515420130671217459162502465152110401731233012301189243430967536471447033609905932008713860291001082693624182589462365502811334208030191501181286422626215020311050522141732251751567222308073375122100340552013242116906012026510024463801512751640291199716826222153427694059632604553383040100607676117750546295017104952364459313634945365091108048012240125607118716060290602210107558201607550357762441394485024244812024123046369303582651002530140603101606040312068908448077193037622002233110541075221040494238938514531001238252265189528525319236403032149105051402254850319315718701802828152173103643102005029460545391063133435441497341131549105641323041316643831140601301450187045113561471201331215456172802951106281119373055148898911615060088126571553745050202236614460213870513350281723837535326623512040060603294928080076128409441227087924753556412398764075144056501383523016217601717300362414082144021242807250106151530176021100120200141609216061451083114301513232227751986189101786024055663327000360126132503217420244120158054253839137270128344450368523899610136050211121342401690131222336601410584132403603003710560397265015282224234662001604042952827209655893174471911008430401589040340278103204103090659458049303072128203011503716293210942315008527173191910243333920401056903136834459829051326220103508080101313506015212251308011236311359188641512934701207530604497501016055220108100402036109124500509910196516120551833028144297242183348264472103312618117673026802250501402076550251451311503012010567609815010321223040724224412012092609735036191526182101324602125010160400514011416270014032400872531002192002425421844034729668868252140169040353213202461998931288116419650011270500998950408641804826161150322441433214145062442261620033430033513210150100126300174449200702031219110501003661008210030104810120113207398245230020304612008316048011810042780202508012040312302201611418067170098309012712247128203304099566015115402422860202442542066214503011803572209061215118232351654198821335150371011344812052771512409616591121483010021533851504394037045026340016415102410164437189277276415040721801571359925299571222440402164258506011979415073119830931704080101606560274315460153122173216891540725047615224090100123971155272723938641023749100019220346610030345120203149180300940451581703210127187256702810828152931351381743640481083256601785556100441962320132212001501534468013894636252000341430329125296167501022502413244125072242203801541504069163124232122693075052200153943032404651255301599210101502115605430380473277510010115220401067131024010654918512246710089224226260024688204521006933214501539192191972293581014437547401013045282736366308363881726001637818338133334242813136257710813127962980383153710883303118900160295610412020583694304424756414100282522315036480114321609660401005986437120505136346120701452579353000167857246783220368132091523952430011813254199133214022086715479240136164140551094526542535290131428010110066116631610243741198211060675930972324041112035560252031304023024317056824063243753014400138400370206829460752665184001206015025386101220202112938032722011011307164287811011242658564145842416994034150122416116510021991364831425060100140045160593618012851100661263303502033361135821686269319797110084835030117175212202451130161722409845522024201114501080634468130989100692006044212040118115110502071219932015000060522435312202204673370687839267909257201509025405083222016012085033191511810401442273916274810144413620801781082244878036772590230163854402301238031404811393372127405818962875012048310952050154196582356875910351031614865530300123611298644753571213615493132031879213850230315584107633162283641190530256234252407824300347752341206047327288301123282220567060150288627541087266533386028074922634705040085228045957082020150046175913415507491352094214045327167361313535813833012722319785712662212111277286625003549314120994023402460120202660321045200384422045100378060374250402585344598101802724691602532282704433198615011820708915259516805531440120284010576152516215327105121180141216211536001932111236079712686678618390350462541106792156580202936599114018034318100211235176095921168751922731232014186396220614018442412521617226873320150191297095179210557030483001000200422629193602002814410810140120116614401110120848442243223120126027502280207054401045030081171113361167310046018100601982750231281325479950107309118022454161203810179742716139834712543002213005035050249120201340120100404504641436040282139510540828310114441004510062571801503731205066110504040711315813020165208101301008210019799340035017131281260122830743444710061370238801610285249267030901494237162859578100168170020201210038412317160301003420568363927702615260383048501395263524505001056006431005652532351161003047402601002010142127946385355601612191143179250111963101256485102428610724090173445145143220161501207585602011048153026652640281005011510746871807462331717481014972402271240128486233925760167242004150001243247188212345018843175236020108323716667300774298720602396061491565801073546100102184247377129263424102408999991546003131046306604965153110060702504040241001818425101266333489919291082476381307540126062215530262402040991000505178312138331737603044593743122544344201801057801001573013144620601092335032211610603699730343930155027960311102716102421211067741002020280572630601991955253121534081033621035963026609641403671575861740123261882211320437012068588110072173060327522421202923371743314472100646217018401592260611504258836030224547554756111562008165503137731741882820208022120120005220302593117220321361401802230441000037133619710316124432771342222152015904066361360462653971012515325150301510174992300104131675411412311519081660223605212012619618974820602230702003251001806589799172159409581014488658403860497721232263612006626040100251108891659135103386596725006336167119433079465007590078273518388061081505315226250273001486015513445353443966010004016283005012540138602134942452183125383754014067511362100213421524026805045121792166436150404068164366135070452010104330260165654017293301486675324222352117450348032835050368581100152062105629192412431765615020255830128450059340616844424813487934364512928044351205716304540761635726051364010020250037310190095912622203703620439434050302813871674128200198399011650754422510454012105125021693735847241364023162042651012201048261901992571001622758619033310603015710567215700263630014422691840348278732141143363181222284017233063512068587012434360757961412540900108200100012985477051507987306318403036592699380141101432510062423100682474853340107265512428910598486501232422706060021419596271664209582015402502723042315470015595915412010049198652425578016233434823010415682540020223601944201295417382571633011014011023810068415025207234545205940408084856360111571476136902878113041957275220260932101118707030714324272412010089424288412068224128991060166103029610510201306220010270243101207512213115559100126718160419332040241072740482000165010442352053620112180060802925015114008030444886245408002092113951455727030250335029253671328865193191565341807042200220176800271610052280245003036208607565602787327074096632221901850302369115492452162435900778530362121040400303580120223045184258522506166198035240478091633369212330852016721584208211432071324265491504648350355304930160666422430117924110601532310811010736422852430039607416387150503018784538579343065120775081672242902104877000179426843568020013040304241660152462004216064386116213167320767000122131321557618100633222772890011318049150188710060141592210322457469351748961412052015010064026219101442521248015231142640301348111302830362510812303680122001513647494072011068402327100477383418040306040264528104700769115202550602210760813060122302836287305075034373158551882266020020795110410010367912133220360505713727400938039762725075203060263541561862080949609805220230013850040106412204818323176122202052237523840200390307835280025602405360611589315029841120404383219046563030502421111120522041003071001440652175150200223039262042500441212104554227591439509628163501202010246411424692010202555022540149050774233664370277960241201252147006014354383750957721493962002613110140111411563436150983440803164161523151072243063508430251461502251008014256059525323639402759011063060981920060131154284836048366496135501106448240133701022037622164325144012315544449301501201201254013529197586010073741812676146063556564740010140180206010676201795012830100286484004024201042200003011122381002402524821259066011429172002730404244004223238800146691965240751033302835303565040606015039400107249803653151012148740014105237124112405430745142498032652705255100281422082846228808937814391124088230279122424281976307020223057222402773040745940601261373110012029010010028126545125016411158120141393231770402510509431220304073496226281236424726301230800457251207212372712351101622702807719910141815260244124094314547018235735059765151163520356570108999403905011270369117135050140356150237792373920078804562196347105150427063151227633302036982004020662035722811018562211018450100227830921212864994345077161402001650505643941024126841781924506617393810224301461544015240113511020710563015925546160504210003018992141901664191001880100960239300124502440192839202353824110941541589040103433190356261624901202130317527241061155434255480432012060375116100020004213105718115402666231307367634010321512735030167840242215160514602514353578701414259208690320133190200152222836117341424401862402086925154076032171001943116118166085656052438363176278253821406032741800815010720102015917291231064162333482360417324051210068245013665020173042020252361912601080105712203085024477910004052359323868270601217604010053111260801181508066334020285658129288603060121203425205024346012034912671601801654582611020710126032366265150183336025450378858505273021792550500104289271151221203520354035498154474828601801315390001201602055496043473129108426364522150719446211444882723413827031244186320043862838226026764166420052506042040522540471511046307842961954324345044157120357077572012195060696032320012940553086540106059754421890210130240304472663010090530128701391002175012807347234310047483018831150011218031008816339476053204503773600305044860321961625642708015206029830436022844247985122022226860460171430153296062361092307601038519228403344965125568322510818172482010015453090201304904466231654155418701250740200407119715020302231410541180273431775069517448100816093030335048210166132266012247704516664020231515030596024568100533361804854154337737237526951247024300237102080308028103207632922020100912049039001061820992512070415993531200170161530036253862435390617912910826684541320150152654801624071128082973990100738635261141510715081092880111241161502042683694881452003039154821472167047031280154851081112386525011135950333710819527301151240602006413418444504605121900201712035391014018403392009922200151865232132491871382064386058992311249593518922261187006285560152264832230354682151242253015530356052451058817595014358541682013589429342523182219065515723511815993182004010899861901234402602003431116220037665441012793944853000842778107014208325624074110120326960600116040205005580315588451019201422215585609568052173506048180523787263054151326001002031223910100380922114918616724804813710023282523512050460705713440759080421573613103115132309340181246330152830873280501466184820709717249061316723324632434515036404028277128013499152371244004433311631392461754016722515234503021604718100610117260134803834822812018521374403835731604563202787560140863060991228345200452411250932602754925535314110044390153223179064898604501980150110953447426301208116236301111226923272763705011294642036514010901007710215830680100744050417024920010051561239500105738010050564313983311908076234102332633141940374527716305734682220220753121183640282420304359201643840302801430402105062613426710745185674152533364774803022108240124552056663006354647110026204922632493505915066240306811243163028260607460942942072220034130120605026009026219330267183425610072390300853811401015367265028340018101003211412320495007 total patients are enrolled in overdue trials\n"
     ]
    }
   ],
   "source": [
    "# Print summary stats for major trial sponsors only.\n",
    "NUM_TRIALS = 30\n",
    "df_major = df_completed[\n",
    "    df_completed.groupby('lead_sponsor').nct_id.transform(len) >= NUM_TRIALS]\n",
    "print len(df_major), 'trials by major sponsors should have published results'\n",
    "print len(df_major[df_major.is_overdue]), 'trials by major sponsors have not published results'\n",
    "percent_submitted = (1 - (len(df_major[df_major.is_overdue]) / float(len(df_major)))) * 100\n",
    "print '%s%% of completed trials by major sponsors have published results' % \\\n",
    "    '{:,.2f}'.format(percent_submitted)\n",
    "print int(df_major[df_major.is_overdue].enrollment.sum()), 'total patients are enrolled in overdue trials'"
   ]
  },
  {
   "cell_type": "code",
   "execution_count": 11,
   "metadata": {
    "collapsed": false
   },
   "outputs": [
    {
     "data": {
      "text/html": [
       "<div>\n",
       "<table border=\"1\" class=\"dataframe\">\n",
       "  <thead>\n",
       "    <tr style=\"text-align: right;\">\n",
       "      <th></th>\n",
       "      <th>is_overdue</th>\n",
       "      <th>is_completed</th>\n",
       "    </tr>\n",
       "    <tr>\n",
       "      <th>lead_sponsor_class</th>\n",
       "      <th></th>\n",
       "      <th></th>\n",
       "    </tr>\n",
       "  </thead>\n",
       "  <tbody>\n",
       "    <tr>\n",
       "      <th>Industry</th>\n",
       "      <td>6191</td>\n",
       "      <td>16839</td>\n",
       "    </tr>\n",
       "    <tr>\n",
       "      <th>NIH</th>\n",
       "      <td>420</td>\n",
       "      <td>1182</td>\n",
       "    </tr>\n",
       "    <tr>\n",
       "      <th>Other</th>\n",
       "      <td>20449</td>\n",
       "      <td>34825</td>\n",
       "    </tr>\n",
       "    <tr>\n",
       "      <th>U.S. Fed</th>\n",
       "      <td>313</td>\n",
       "      <td>846</td>\n",
       "    </tr>\n",
       "  </tbody>\n",
       "</table>\n",
       "</div>"
      ],
      "text/plain": [
       "                    is_overdue  is_completed\n",
       "lead_sponsor_class                          \n",
       "Industry                  6191         16839\n",
       "NIH                        420          1182\n",
       "Other                    20449         34825\n",
       "U.S. Fed                   313           846"
      ]
     },
     "execution_count": 11,
     "metadata": {},
     "output_type": "execute_result"
    }
   ],
   "source": [
    "df_completed.groupby('lead_sponsor_class').sum()[['is_overdue', 'is_completed']]\n"
   ]
  },
  {
   "cell_type": "code",
   "execution_count": 12,
   "metadata": {
    "collapsed": false
   },
   "outputs": [
    {
     "data": {
      "text/html": [
       "<div>\n",
       "<table border=\"1\" class=\"dataframe\">\n",
       "  <thead>\n",
       "    <tr style=\"text-align: right;\">\n",
       "      <th></th>\n",
       "      <th>is_overdue</th>\n",
       "      <th>is_completed</th>\n",
       "      <th>percent_overdue</th>\n",
       "    </tr>\n",
       "    <tr>\n",
       "      <th>lead_sponsor_class</th>\n",
       "      <th></th>\n",
       "      <th></th>\n",
       "      <th></th>\n",
       "    </tr>\n",
       "  </thead>\n",
       "  <tbody>\n",
       "    <tr>\n",
       "      <th>Industry</th>\n",
       "      <td>6191</td>\n",
       "      <td>16839</td>\n",
       "      <td>36.765841</td>\n",
       "    </tr>\n",
       "    <tr>\n",
       "      <th>NIH</th>\n",
       "      <td>420</td>\n",
       "      <td>1182</td>\n",
       "      <td>35.532995</td>\n",
       "    </tr>\n",
       "    <tr>\n",
       "      <th>Other</th>\n",
       "      <td>20449</td>\n",
       "      <td>34825</td>\n",
       "      <td>58.719311</td>\n",
       "    </tr>\n",
       "    <tr>\n",
       "      <th>U.S. Fed</th>\n",
       "      <td>313</td>\n",
       "      <td>846</td>\n",
       "      <td>36.997636</td>\n",
       "    </tr>\n",
       "  </tbody>\n",
       "</table>\n",
       "</div>"
      ],
      "text/plain": [
       "                    is_overdue  is_completed  percent_overdue\n",
       "lead_sponsor_class                                           \n",
       "Industry                  6191         16839        36.765841\n",
       "NIH                        420          1182        35.532995\n",
       "Other                    20449         34825        58.719311\n",
       "U.S. Fed                   313           846        36.997636"
      ]
     },
     "execution_count": 12,
     "metadata": {},
     "output_type": "execute_result"
    }
   ],
   "source": [
    "# Calculate publication rates by sector (raw data)\n",
    "df_by_sector = df_completed.groupby('lead_sponsor_class').sum()[['is_overdue', 'is_completed']]\n",
    "df_by_sector['percent_overdue'] = df_by_sector.is_overdue / df_by_sector.is_completed * 100\n",
    "df_by_sector"
   ]
  },
  {
   "cell_type": "code",
   "execution_count": 13,
   "metadata": {
    "collapsed": false
   },
   "outputs": [
    {
     "data": {
      "text/html": [
       "<div>\n",
       "<table border=\"1\" class=\"dataframe\">\n",
       "  <thead>\n",
       "    <tr style=\"text-align: right;\">\n",
       "      <th></th>\n",
       "      <th>is_overdue</th>\n",
       "      <th>is_completed</th>\n",
       "      <th>percent_overdue</th>\n",
       "    </tr>\n",
       "    <tr>\n",
       "      <th>lead_sponsor_class</th>\n",
       "      <th></th>\n",
       "      <th></th>\n",
       "      <th></th>\n",
       "    </tr>\n",
       "  </thead>\n",
       "  <tbody>\n",
       "    <tr>\n",
       "      <th>Industry</th>\n",
       "      <td>2453</td>\n",
       "      <td>9445</td>\n",
       "      <td>25.971413</td>\n",
       "    </tr>\n",
       "    <tr>\n",
       "      <th>NIH</th>\n",
       "      <td>345</td>\n",
       "      <td>1028</td>\n",
       "      <td>33.560311</td>\n",
       "    </tr>\n",
       "    <tr>\n",
       "      <th>Other</th>\n",
       "      <td>10110</td>\n",
       "      <td>18005</td>\n",
       "      <td>56.151069</td>\n",
       "    </tr>\n",
       "    <tr>\n",
       "      <th>U.S. Fed</th>\n",
       "      <td>117</td>\n",
       "      <td>501</td>\n",
       "      <td>23.353293</td>\n",
       "    </tr>\n",
       "  </tbody>\n",
       "</table>\n",
       "</div>"
      ],
      "text/plain": [
       "                    is_overdue  is_completed  percent_overdue\n",
       "lead_sponsor_class                                           \n",
       "Industry                  2453          9445        25.971413\n",
       "NIH                        345          1028        33.560311\n",
       "Other                    10110         18005        56.151069\n",
       "U.S. Fed                   117           501        23.353293"
      ]
     },
     "execution_count": 13,
     "metadata": {},
     "output_type": "execute_result"
    }
   ],
   "source": [
    "# Calculate publication rates by sector (major sponsors only)\n",
    "df_major_gp = df_major.groupby('lead_sponsor_class').sum()[['is_overdue', 'is_completed']]\n",
    "df_major_gp['percent_overdue'] = df_major_gp.is_overdue / df_major_gp.is_completed * 100\n",
    "df_major_gp"
   ]
  },
  {
   "cell_type": "markdown",
   "metadata": {},
   "source": [
    "## Write to CSV\n",
    "\n",
    "Output final results to a CSV file, which we will use in the interactive. We reshape the data so it has a row for each sponsor, and two columns for each year: one column for the number of overdue results, and one for the total trials. \n",
    "\n",
    "Also, write all the raw data to a single CSV file."
   ]
  },
  {
   "cell_type": "code",
   "execution_count": 14,
   "metadata": {
    "collapsed": false
   },
   "outputs": [
    {
     "name": "stderr",
     "output_type": "stream",
     "text": [
      "/usr/local/lib/python2.7/dist-packages/ipykernel/__main__.py:1: SettingWithCopyWarning: \n",
      "A value is trying to be set on a copy of a slice from a DataFrame.\n",
      "Try using .loc[row_indexer,col_indexer] = value instead\n",
      "\n",
      "See the caveats in the documentation: http://pandas.pydata.org/pandas-docs/stable/indexing.html#indexing-view-versus-copy\n",
      "  if __name__ == '__main__':\n",
      "/usr/local/lib/python2.7/dist-packages/ipykernel/__main__.py:2: SettingWithCopyWarning: \n",
      "A value is trying to be set on a copy of a slice from a DataFrame.\n",
      "Try using .loc[row_indexer,col_indexer] = value instead\n",
      "\n",
      "See the caveats in the documentation: http://pandas.pydata.org/pandas-docs/stable/indexing.html#indexing-view-versus-copy\n",
      "  from ipykernel import kernelapp as app\n"
     ]
    },
    {
     "name": "stdout",
     "output_type": "stream",
     "text": [
      "319 sponsors found with cutoff point at 30 trials\n"
     ]
    }
   ],
   "source": [
    "df_completed['year_completed'] = df_completed['completion_date'].dt.year.dropna().astype(int)\n",
    "df_completed['year_completed'] = df_completed.year_completed.astype(int)\n",
    "\n",
    "# Drop all sponsors with fewer than N completed trials.\n",
    "df_final = df_completed[\n",
    "    df_completed.groupby('lead_sponsor').nct_id.transform(len) >= NUM_TRIALS]\n",
    "\n",
    "# Now reshape the data: a row for each sponsor, columns by year:\n",
    "# lead_sponsor,2008_overdue,2008_total,2009_overdue,2009_total...\n",
    "df_temp = df_final.set_index(['lead_sponsor', 'lead_sponsor_class', 'year_completed']) \n",
    "gb = df_temp.groupby(level=[0, 1, 2]).is_overdue\n",
    "df2 = gb.agg({'overdue': 'sum', 'total': 'count'}) \\\n",
    "          .unstack().swaplevel(0, 1, 1).sort_index(1)\n",
    "df2.columns = df2.columns.to_series().apply(lambda x: '{}_{}'.format(*x))\n",
    "df3 = df2.reset_index()\n",
    "df3['lead_sponsor_slug'] = df3.lead_sponsor.apply(slugify)\n",
    "df3.to_csv('./data/completed.csv', index=None)\n",
    "print len(df3), 'sponsors found with cutoff point at %s trials' % NUM_TRIALS\n",
    "\n",
    "# Write the raw output to a full spreadsheet. \n",
    "df.to_csv('./data/all.csv', index=None)"
   ]
  },
  {
   "cell_type": "markdown",
   "metadata": {},
   "source": [
    "## For reference: Compare our results with BMJ authors\n",
    "\n",
    "TODO: Make this a separate notebook?\n",
    "\n",
    "A [2016 BMJ paper](http://www.bmj.com/content/352/bmj.i637) found that around 65% of papers reprted results. \"Overall, 2892 of the 4347 clinical trials (66.5%) had been published or reported results as of July 2014.\" \n",
    "\n",
    "Excellently, the BMJ authors [publish their raw data on DataDryad](http://datadryad.org/resource/doi:10.5061/dryad.6n018) so we can compare our results with theirs, to get an idea of the difference between our automated strategy and their partially manual strategy. (However, in their reported data it looks to me like the matched PMID rate is 59.9% of all NCT IDs.)\n",
    "\n",
    "The BMJ authors were looking at a much smaller set of papers than us, because they focussed on academic medical centres. Their set is slightly different, because they include pre-Phase-2 trials, and 'Terminated' as well as 'Completed' trials. They also used a manual search strategy which involved searching Scopus and manually comparing results. "
   ]
  },
  {
   "cell_type": "code",
   "execution_count": 15,
   "metadata": {
    "collapsed": false
   },
   "outputs": [
    {
     "name": "stderr",
     "output_type": "stream",
     "text": [
      "/usr/local/lib/python2.7/dist-packages/openpyxl/reader/worksheet.py:322: UserWarning: Data Validation extension is not supported and will be removed\n",
      "  warn(msg)\n",
      "/usr/local/lib/python2.7/dist-packages/openpyxl/workbook/names/named_range.py:125: UserWarning: Discarded range with reserved name\n",
      "  warnings.warn(\"Discarded range with reserved name\")\n"
     ]
    }
   ],
   "source": [
    "from openpyxl import load_workbook\n",
    "import sys\n",
    "bmj_results = load_workbook(filename = './data/chen-bmj.xlsx')"
   ]
  },
  {
   "cell_type": "code",
   "execution_count": 16,
   "metadata": {
    "collapsed": false
   },
   "outputs": [
    {
     "name": "stdout",
     "output_type": "stream",
     "text": [
      "4347 rows found in total\n",
      "2452 of those rows have a PMID\n",
      "56.4067172763 per cent of their NCT IDs have a PMID, including duplicates\n",
      "\n",
      "4092 *unique* NCT IDs found in all rows\n",
      "2295 of these have PMIDs\n",
      "56.0850439883 per cent of unique NCT IDs have a PMID\n"
     ]
    }
   ],
   "source": [
    "nct_ids = {}\n",
    "count = 0\n",
    "has_pmid = 0\n",
    "\n",
    "# The Excel data has multiple worksheets, sigh. \n",
    "# And NCT IDs can occur more than once with different results, sigh.\n",
    "# We only care about where there's at least one result.\n",
    "# Fiddle about and reshape the data so that we know whether \n",
    "# each NCT ID has a result. \n",
    "for sheet in bmj_results.worksheets:\n",
    "    for i, row in enumerate(sheet.rows):\n",
    "        if i == 0:\n",
    "            continue\n",
    "        if row[0].value:\n",
    "            count += 1\n",
    "            if isinstance(row[6].value, long):\n",
    "                val = str(row[6].value)\n",
    "            else:\n",
    "                val = row[6].value\n",
    "            if val:\n",
    "                has_pmid += 1\n",
    "            # Always set val if it exists.\n",
    "            # Otherwise, only set val if there's no current value\n",
    "            # for this NCT ID.\n",
    "            if val:\n",
    "                nct_ids[row[0].value] = val\n",
    "            else:\n",
    "                if not row[0].value in nct_ids:\n",
    "                    nct_ids[row[0].value] = val\n",
    "\n",
    "print count, 'rows found in total'\n",
    "print has_pmid, 'of those rows have a PMID'\n",
    "print has_pmid / float(count) * 100, 'per cent of their NCT IDs have a PMID, including duplicates'\n",
    "print\n",
    "unique_nct_ids = len(nct_ids.keys())\n",
    "print unique_nct_ids, '*unique* NCT IDs found in all rows'\n",
    "pmids_found = sum(1 for x in nct_ids.values() if x)\n",
    "print pmids_found, 'of these have PMIDs'\n",
    "print pmids_found / float(unique_nct_ids) * 100, 'per cent of unique NCT IDs have a PMID'"
   ]
  },
  {
   "cell_type": "markdown",
   "metadata": {},
   "source": [
    "### Compare with our data\n",
    "\n",
    "Now examine: \n",
    "\n",
    "* of the NCT IDs for which BMJ authors find PubMed results, how many we also find PubMed results for\n",
    "* of the same dataset, how many *only BMJ* find results for\n",
    "* of the NCT IDs for which BMJ authors do not find PubMed results, how many we do find PubMed results"
   ]
  },
  {
   "cell_type": "code",
   "execution_count": 17,
   "metadata": {
    "collapsed": false
   },
   "outputs": [
    {
     "name": "stdout",
     "output_type": "stream",
     "text": [
      "4092 NCT IDs in the full BMJ dataset\n",
      "2541 NCT IDs are in both the BMJ dataset and ours\n",
      "1164 we both find results for\n",
      "461 only they find results for\n",
      "409 only we find results for\n",
      "507 neither of us find results for\n"
     ]
    }
   ],
   "source": [
    "df_bmj = pd.Series(nct_ids).to_frame(name='pmid')\n",
    "df_bmj['pubmed_results'] = ~df_bmj.pmid.isnull()\n",
    "df_bmj.index.name = 'nct_id'\n",
    "df_bmj.reset_index(inplace=True)\n",
    "print len(df_bmj), 'NCT IDs in the full BMJ dataset'\n",
    "# df_bmj.head(20)\n",
    "\n",
    "merged_results = \\\n",
    "    pd.merge(df_bmj, df_completed, #[['nct_id', 'pubmed_results']], \n",
    "             on='nct_id', how='inner', suffixes=('_bmj', '_ours'))\n",
    "    \n",
    "# NB I tried this first with a left join: but 1521 out of the 4500 papers \n",
    "# don't appear in our dataset, because the BMJ authors' inclusion criteria are \n",
    "# different from ours. To get a sample after a left join...\n",
    "# merged_results[merged_results.we_have_results.isnull()].head()\n",
    "\n",
    "merged_results['we_have_results'] = ~merged_results.is_overdue\n",
    "merged_results.we_have_results.value_counts(dropna=False)\n",
    "# merged_results.head()\n",
    "print len(merged_results), 'NCT IDs are in both the BMJ dataset and ours'\n",
    "\n",
    "papers_both_find_pm_results = \\\n",
    "    merged_results[merged_results.pubmed_results_bmj & merged_results.we_have_results]\n",
    "papers_both_find_pm_results.head()\n",
    "print len(papers_both_find_pm_results), 'we both find results for'\n",
    "papers_only_they_find_results = \\\n",
    "    merged_results[merged_results.pubmed_results_bmj & ~merged_results.we_have_results]\n",
    "print len(papers_only_they_find_results), 'only they find results for'  \n",
    "papers_only_we_find_results = \\\n",
    "    merged_results[~merged_results.pubmed_results_bmj & merged_results.we_have_results]\n",
    "print len(papers_only_we_find_results), 'only we find results for'\n",
    "noone_finds_results = \\\n",
    "    merged_results[~merged_results.pubmed_results_bmj & ~merged_results.we_have_results]\n",
    "print len(noone_finds_results), 'neither of us find results for'"
   ]
  },
  {
   "cell_type": "code",
   "execution_count": 18,
   "metadata": {
    "collapsed": false
   },
   "outputs": [
    {
     "data": {
      "text/html": [
       "<div>\n",
       "<table border=\"1\" class=\"dataframe\">\n",
       "  <thead>\n",
       "    <tr style=\"text-align: right;\">\n",
       "      <th></th>\n",
       "      <th>nct_id</th>\n",
       "      <th>title</th>\n",
       "      <th>pubmed_results_bmj</th>\n",
       "      <th>pmid</th>\n",
       "      <th>we_have_results</th>\n",
       "    </tr>\n",
       "  </thead>\n",
       "  <tbody>\n",
       "    <tr>\n",
       "      <th>758</th>\n",
       "      <td>NCT00324506</td>\n",
       "      <td>Safety and Efficacy of Cellcept and Avonex as ...</td>\n",
       "      <td>True</td>\n",
       "      <td>21180632</td>\n",
       "      <td>False</td>\n",
       "    </tr>\n",
       "    <tr>\n",
       "      <th>500</th>\n",
       "      <td>NCT00218491</td>\n",
       "      <td>Effectiveness of N-Acetylcysteine (NAC) in Tre...</td>\n",
       "      <td>True</td>\n",
       "      <td>23952889</td>\n",
       "      <td>False</td>\n",
       "    </tr>\n",
       "    <tr>\n",
       "      <th>2436</th>\n",
       "      <td>NCT01220310</td>\n",
       "      <td>Doctors and Web-based Self-management Support ...</td>\n",
       "      <td>True</td>\n",
       "      <td>23031610</td>\n",
       "      <td>False</td>\n",
       "    </tr>\n",
       "    <tr>\n",
       "      <th>1323</th>\n",
       "      <td>NCT00529841</td>\n",
       "      <td>Research Study for Children With Salt Wasting ...</td>\n",
       "      <td>True</td>\n",
       "      <td>16817818</td>\n",
       "      <td>False</td>\n",
       "    </tr>\n",
       "    <tr>\n",
       "      <th>332</th>\n",
       "      <td>NCT00145197</td>\n",
       "      <td>Reducing Underuse of Early-Stage Breast Cancer...</td>\n",
       "      <td>True</td>\n",
       "      <td>19033569</td>\n",
       "      <td>False</td>\n",
       "    </tr>\n",
       "    <tr>\n",
       "      <th>42</th>\n",
       "      <td>NCT00027703</td>\n",
       "      <td>Combination Chemotherapy With or Without Bevac...</td>\n",
       "      <td>True</td>\n",
       "      <td>22665541</td>\n",
       "      <td>False</td>\n",
       "    </tr>\n",
       "    <tr>\n",
       "      <th>1755</th>\n",
       "      <td>NCT00662103</td>\n",
       "      <td>Aerobic Exercise, Resistance Exercise, or Flex...</td>\n",
       "      <td>True</td>\n",
       "      <td>20048529</td>\n",
       "      <td>False</td>\n",
       "    </tr>\n",
       "    <tr>\n",
       "      <th>1719</th>\n",
       "      <td>NCT00646204</td>\n",
       "      <td>Namenda (Memantine) for Non-Motor Symptoms in ...</td>\n",
       "      <td>True</td>\n",
       "      <td>21193343</td>\n",
       "      <td>False</td>\n",
       "    </tr>\n",
       "    <tr>\n",
       "      <th>1309</th>\n",
       "      <td>NCT00524966</td>\n",
       "      <td>Randomized Controlled Trial of Bipolar Versus ...</td>\n",
       "      <td>True</td>\n",
       "      <td>21072688</td>\n",
       "      <td>False</td>\n",
       "    </tr>\n",
       "    <tr>\n",
       "      <th>93</th>\n",
       "      <td>NCT00054418</td>\n",
       "      <td>Risedronate in Preventing Bone Loss in Premeno...</td>\n",
       "      <td>True</td>\n",
       "      <td>19075260</td>\n",
       "      <td>False</td>\n",
       "    </tr>\n",
       "  </tbody>\n",
       "</table>\n",
       "</div>"
      ],
      "text/plain": [
       "           nct_id                                              title  \\\n",
       "758   NCT00324506  Safety and Efficacy of Cellcept and Avonex as ...   \n",
       "500   NCT00218491  Effectiveness of N-Acetylcysteine (NAC) in Tre...   \n",
       "2436  NCT01220310  Doctors and Web-based Self-management Support ...   \n",
       "1323  NCT00529841  Research Study for Children With Salt Wasting ...   \n",
       "332   NCT00145197  Reducing Underuse of Early-Stage Breast Cancer...   \n",
       "42    NCT00027703  Combination Chemotherapy With or Without Bevac...   \n",
       "1755  NCT00662103  Aerobic Exercise, Resistance Exercise, or Flex...   \n",
       "1719  NCT00646204  Namenda (Memantine) for Non-Motor Symptoms in ...   \n",
       "1309  NCT00524966  Randomized Controlled Trial of Bipolar Versus ...   \n",
       "93    NCT00054418  Risedronate in Preventing Bone Loss in Premeno...   \n",
       "\n",
       "     pubmed_results_bmj      pmid we_have_results  \n",
       "758                True  21180632           False  \n",
       "500                True  23952889           False  \n",
       "2436               True  23031610           False  \n",
       "1323               True  16817818           False  \n",
       "332                True  19033569           False  \n",
       "42                 True  22665541           False  \n",
       "1755               True  20048529           False  \n",
       "1719               True  21193343           False  \n",
       "1309               True  21072688           False  \n",
       "93                 True  19075260           False  "
      ]
     },
     "execution_count": 18,
     "metadata": {},
     "output_type": "execute_result"
    }
   ],
   "source": [
    "# Examine a sample of the papers only they find results for.\n",
    "cols = ['nct_id', 'title', 'pubmed_results_bmj', 'pmid', 'we_have_results']\n",
    "papers_only_they_find_results.sample(10)[cols]"
   ]
  },
  {
   "cell_type": "code",
   "execution_count": 19,
   "metadata": {
    "collapsed": false
   },
   "outputs": [
    {
     "name": "stdout",
     "output_type": "stream",
     "text": [
      "409 papers for which only we find results\n",
      "45 of those we find on PubMed, the rest on ClinicalTrials.gov\n"
     ]
    },
    {
     "data": {
      "text/html": [
       "<div>\n",
       "<table border=\"1\" class=\"dataframe\">\n",
       "  <thead>\n",
       "    <tr style=\"text-align: right;\">\n",
       "      <th></th>\n",
       "      <th>nct_id</th>\n",
       "      <th>title</th>\n",
       "      <th>completion_date</th>\n",
       "      <th>pubmed_results_bmj</th>\n",
       "      <th>pmid</th>\n",
       "      <th>we_have_results</th>\n",
       "      <th>results_date</th>\n",
       "    </tr>\n",
       "  </thead>\n",
       "  <tbody>\n",
       "    <tr>\n",
       "      <th>1475</th>\n",
       "      <td>NCT00580528</td>\n",
       "      <td>Reducing Blood Pressure in Prehypertensive Old...</td>\n",
       "      <td>2010-05-01</td>\n",
       "      <td>False</td>\n",
       "      <td>None</td>\n",
       "      <td>True</td>\n",
       "      <td>NaT</td>\n",
       "    </tr>\n",
       "    <tr>\n",
       "      <th>2195</th>\n",
       "      <td>NCT00925262</td>\n",
       "      <td>Controlled Trial of Mental Health Intervention...</td>\n",
       "      <td>2010-02-01</td>\n",
       "      <td>False</td>\n",
       "      <td>None</td>\n",
       "      <td>True</td>\n",
       "      <td>NaT</td>\n",
       "    </tr>\n",
       "    <tr>\n",
       "      <th>315</th>\n",
       "      <td>NCT00135668</td>\n",
       "      <td>Dose-Response Study of Sodium Nitroprusside in...</td>\n",
       "      <td>2008-03-01</td>\n",
       "      <td>False</td>\n",
       "      <td>None</td>\n",
       "      <td>True</td>\n",
       "      <td>NaT</td>\n",
       "    </tr>\n",
       "    <tr>\n",
       "      <th>2514</th>\n",
       "      <td>NCT01668303</td>\n",
       "      <td>Family-Based Juvenile Drug Court Services</td>\n",
       "      <td>2009-11-01</td>\n",
       "      <td>False</td>\n",
       "      <td>None</td>\n",
       "      <td>True</td>\n",
       "      <td>NaT</td>\n",
       "    </tr>\n",
       "    <tr>\n",
       "      <th>1197</th>\n",
       "      <td>NCT00480441</td>\n",
       "      <td>Effectiveness Study of Dronabinol and BRENDA f...</td>\n",
       "      <td>2009-06-01</td>\n",
       "      <td>False</td>\n",
       "      <td>None</td>\n",
       "      <td>True</td>\n",
       "      <td>NaT</td>\n",
       "    </tr>\n",
       "    <tr>\n",
       "      <th>306</th>\n",
       "      <td>NCT00133068</td>\n",
       "      <td>Collaboration to Reduce Disparities in Hyperte...</td>\n",
       "      <td>2008-08-01</td>\n",
       "      <td>False</td>\n",
       "      <td>None</td>\n",
       "      <td>True</td>\n",
       "      <td>NaT</td>\n",
       "    </tr>\n",
       "    <tr>\n",
       "      <th>1932</th>\n",
       "      <td>NCT00739479</td>\n",
       "      <td>CCRC: Effects of Partially Hydrolyzed Whey Pep...</td>\n",
       "      <td>2010-08-01</td>\n",
       "      <td>False</td>\n",
       "      <td>None</td>\n",
       "      <td>True</td>\n",
       "      <td>NaT</td>\n",
       "    </tr>\n",
       "    <tr>\n",
       "      <th>151</th>\n",
       "      <td>NCT00079547</td>\n",
       "      <td>The Safety and Effectiveness of Low and High C...</td>\n",
       "      <td>2008-03-01</td>\n",
       "      <td>False</td>\n",
       "      <td>None</td>\n",
       "      <td>True</td>\n",
       "      <td>NaT</td>\n",
       "    </tr>\n",
       "    <tr>\n",
       "      <th>460</th>\n",
       "      <td>NCT00206232</td>\n",
       "      <td>Novel Treatment for Diastolic Heart Failure in...</td>\n",
       "      <td>2010-07-01</td>\n",
       "      <td>False</td>\n",
       "      <td>None</td>\n",
       "      <td>True</td>\n",
       "      <td>NaT</td>\n",
       "    </tr>\n",
       "    <tr>\n",
       "      <th>645</th>\n",
       "      <td>NCT00276744</td>\n",
       "      <td>Individualized Drug Treatment Selection Proces...</td>\n",
       "      <td>2010-04-01</td>\n",
       "      <td>False</td>\n",
       "      <td>None</td>\n",
       "      <td>True</td>\n",
       "      <td>NaT</td>\n",
       "    </tr>\n",
       "  </tbody>\n",
       "</table>\n",
       "</div>"
      ],
      "text/plain": [
       "           nct_id                                              title  \\\n",
       "1475  NCT00580528  Reducing Blood Pressure in Prehypertensive Old...   \n",
       "2195  NCT00925262  Controlled Trial of Mental Health Intervention...   \n",
       "315   NCT00135668  Dose-Response Study of Sodium Nitroprusside in...   \n",
       "2514  NCT01668303          Family-Based Juvenile Drug Court Services   \n",
       "1197  NCT00480441  Effectiveness Study of Dronabinol and BRENDA f...   \n",
       "306   NCT00133068  Collaboration to Reduce Disparities in Hyperte...   \n",
       "1932  NCT00739479  CCRC: Effects of Partially Hydrolyzed Whey Pep...   \n",
       "151   NCT00079547  The Safety and Effectiveness of Low and High C...   \n",
       "460   NCT00206232  Novel Treatment for Diastolic Heart Failure in...   \n",
       "645   NCT00276744  Individualized Drug Treatment Selection Proces...   \n",
       "\n",
       "     completion_date pubmed_results_bmj  pmid we_have_results results_date  \n",
       "1475      2010-05-01              False  None            True          NaT  \n",
       "2195      2010-02-01              False  None            True          NaT  \n",
       "315       2008-03-01              False  None            True          NaT  \n",
       "2514      2009-11-01              False  None            True          NaT  \n",
       "1197      2009-06-01              False  None            True          NaT  \n",
       "306       2008-08-01              False  None            True          NaT  \n",
       "1932      2010-08-01              False  None            True          NaT  \n",
       "151       2008-03-01              False  None            True          NaT  \n",
       "460       2010-07-01              False  None            True          NaT  \n",
       "645       2010-04-01              False  None            True          NaT  "
      ]
     },
     "execution_count": 19,
     "metadata": {},
     "output_type": "execute_result"
    }
   ],
   "source": [
    "# Papers only we find results for. If the `results_date` field exists, it \n",
    "# means that the results are published on ClinicalTrials.gov. Otherwise \n",
    "# we found results on PubMed but they did not - perhaps because\n",
    "# it's been a couple of years since they did their search.\n",
    "# We find 43 papers on PubMed that the BMJ authors don't: \n",
    "print len(papers_only_we_find_results), 'papers for which only we find results'\n",
    "print len(papers_only_we_find_results[papers_only_we_find_results.results_date.isnull()]),\\\n",
    "    'of those we find on PubMed, the rest on ClinicalTrials.gov'\n",
    "cols = ['nct_id', 'title', 'completion_date', 'pubmed_results_bmj', \n",
    "        'pmid', 'we_have_results', 'results_date']\n",
    "# papers_only_we_find_results.sample(20)[cols]\n",
    "papers_only_we_find_results[papers_only_we_find_results.results_date.isnull()].sample(10)[cols]"
   ]
  },
  {
   "cell_type": "code",
   "execution_count": 20,
   "metadata": {
    "collapsed": true
   },
   "outputs": [],
   "source": []
  }
 ],
 "metadata": {
  "kernelspec": {
   "display_name": "Python 2",
   "language": "python",
   "name": "python2"
  },
  "language_info": {
   "codemirror_mode": {
    "name": "ipython",
    "version": 2
   },
   "file_extension": ".py",
   "mimetype": "text/x-python",
   "name": "python",
   "nbconvert_exporter": "python",
   "pygments_lexer": "ipython2",
   "version": "2.7.12"
  }
 },
 "nbformat": 4,
 "nbformat_minor": 0
}
