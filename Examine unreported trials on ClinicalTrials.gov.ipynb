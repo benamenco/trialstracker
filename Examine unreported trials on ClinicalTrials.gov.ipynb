{
 "cells": [
  {
   "cell_type": "markdown",
   "metadata": {},
   "source": [
    "# Finding trials registered on ClinicalTrials.gov that do not have reported results\n",
    "\n",
    "Reporting of clinical trial results became mandatory for many trials in 2008. However [this paper](http://www.bmj.com/content/352/bmj.i637) and [this investigation](https://www.statnews.com/2015/12/13/clinical-trials-investigation/) both find that substantial numbers of clinical trials have not reported results, even for those trials where the FDAAA has made reporting mandatory.\n",
    "\n",
    "This notebook examines how many trials on ClinicalTrials.gov have had their results publicly reported. We have a broader definition of a trial that should report its results than the FDAAA. We count a trial as eligible for our analysis if:\n",
    "\n",
    "- it has overall status of 'Completed'\n",
    "- it has a study type of 'Interventional' \n",
    "- its completion date was after 1 Jan 2006, but is more than 24 months ago\n",
    "- it is phase 2 or later (or its phase is N/A, ie it's a trial of a device or a behavioural intervention)\n",
    "- it has no results disposition date (i.e. no application to delay results has been filed).\n",
    "\n",
    "We then classify it as overdue if it has no summary results attached on ClinicalTrials.gov, and no results on PubMed that are linked by NCT ID (see below). \n",
    "\n",
    "This is substantially broader than FDAAA, which covers only US-based trials of FDA-approved drugs. However, we think all trials should report their results, not just US-based trials, or FDA-approved drugs. In addition, FDAAA requires results to be reported within 12 months of completion, and we allow 24 months.\n",
    "\n",
    "ClinicalTrials.gov supplies notes on [how to find studies with results](https://clinicaltrials.gov/ct2/help/how-find/find-study-results) and [results in general](https://clinicaltrials.gov/ct2/about-site/results)."
   ]
  },
  {
   "cell_type": "code",
   "execution_count": 1,
   "metadata": {
    "collapsed": false
   },
   "outputs": [],
   "source": [
    "import csv\n",
    "from datetime import datetime\n",
    "from dateutil.relativedelta import relativedelta\n",
    "import glob\n",
    "from pprint import pprint\n",
    "from slugify import slugify\n",
    "\n",
    "import sqlite3\n",
    "import numpy as np\n",
    "import pandas as pd\n",
    "\n",
    "import utils"
   ]
  },
  {
   "cell_type": "markdown",
   "metadata": {},
   "source": [
    "## Create summary results file\n",
    "\n",
    "The raw XML trial summaries from ClinicalTrials.gov are supplied as a [single very large zip file](https://clinicaltrials.gov/search?studyxml=true), containing more than 200,000  XML files. This section assumes that that these have already been downloaded and unzipped in the `search_result` directory.\n",
    "\n",
    "Extract the fields of interest from the XML summaries, and save them to a CSV file, which we'll use as our source data for the rest of this exercise. ClinicalTrials.gov supplies [field definitions](https://prsinfo.clinicaltrials.gov/definitions.html). \n",
    "\n",
    "Toggle `REGENERATE_SUMMARY` to `False` for the purposes of development."
   ]
  },
  {
   "cell_type": "code",
   "execution_count": 4,
   "metadata": {
    "collapsed": false
   },
   "outputs": [
    {
     "name": "stdout",
     "output_type": "stream",
     "text": [
      "60 files found\n",
      "0 ./search_result/NCT00000140.xml\n",
      "done\n"
     ]
    }
   ],
   "source": [
    "fname = './data/trials.csv'\n",
    "REGENERATE_SUMMARY = True # False\n",
    "if REGENERATE_SUMMARY:\n",
    "    files = glob.glob('./search_result/*.xml')\n",
    "    print len(files), 'files found'\n",
    "    fieldnames = ['nct_id', 'title', 'overall_status', \n",
    "                  'study_type', 'completion_date',\n",
    "                  'lead_sponsor', 'lead_sponsor_class',\n",
    "                  'collaborator', 'collaborator_class', \n",
    "                  'phase', 'locations', 'has_drug_intervention', 'drugs', \n",
    "                  'disposition_date', 'results_date', \n",
    "                  'enrollment']\n",
    "    trials = csv.DictWriter(open(fname, 'wb'), fieldnames=fieldnames)\n",
    "    trials.writeheader()\n",
    "    for i, f in enumerate(files):\n",
    "        if i % 50000 == 0:\n",
    "            print i, f\n",
    "        text = open(f, 'r').read()\n",
    "        data = utils.extract_ctgov_xml(text)\n",
    "        trials.writerow(data)\n",
    "print 'done'"
   ]
  },
  {
   "cell_type": "markdown",
   "metadata": {},
   "source": [
    "## Load data for analysis\n",
    "\n",
    "Load into Pandas, normalising the date and phase fields. NB: If this produces a weird EOF error (which it does intermittently), delete the last line of the file manually. We will have to live with one missing trial. "
   ]
  },
  {
   "cell_type": "code",
   "execution_count": 5,
   "metadata": {
    "collapsed": false
   },
   "outputs": [],
   "source": [
    "dtype = {'has_drug_intervention': bool, \n",
    "         'phase': str } \n",
    "datefields = ['completion_date', 'results_date', 'disposition_date']\n",
    "df = pd.read_csv(fname,\n",
    "                 parse_dates=datefields, \n",
    "                 infer_datetime_format=True,\n",
    "                 dtype=dtype)\n",
    "df['phase_normalised'] = df.phase.apply(utils.normalise_phase)"
   ]
  },
  {
   "cell_type": "code",
   "execution_count": 6,
   "metadata": {
    "collapsed": false
   },
   "outputs": [
    {
     "data": {
      "text/html": [
       "<div>\n",
       "<table border=\"1\" class=\"dataframe\">\n",
       "  <thead>\n",
       "    <tr style=\"text-align: right;\">\n",
       "      <th></th>\n",
       "      <th>nct_id</th>\n",
       "      <th>title</th>\n",
       "      <th>overall_status</th>\n",
       "      <th>study_type</th>\n",
       "      <th>completion_date</th>\n",
       "      <th>lead_sponsor</th>\n",
       "      <th>lead_sponsor_class</th>\n",
       "      <th>collaborator</th>\n",
       "      <th>collaborator_class</th>\n",
       "      <th>phase</th>\n",
       "      <th>locations</th>\n",
       "      <th>has_drug_intervention</th>\n",
       "      <th>drugs</th>\n",
       "      <th>disposition_date</th>\n",
       "      <th>results_date</th>\n",
       "      <th>enrollment</th>\n",
       "      <th>phase_normalised</th>\n",
       "    </tr>\n",
       "  </thead>\n",
       "  <tbody>\n",
       "    <tr>\n",
       "      <th>55</th>\n",
       "      <td>NCT00000145</td>\n",
       "      <td>Age-Related Eye Disease Study (AREDS)</td>\n",
       "      <td>Completed</td>\n",
       "      <td>Interventional</td>\n",
       "      <td>2001-10-01</td>\n",
       "      <td>National Eye Institute (NEI)</td>\n",
       "      <td>NIH</td>\n",
       "      <td>Bausch &amp; Lomb Incorporated</td>\n",
       "      <td>Industry</td>\n",
       "      <td>3</td>\n",
       "      <td>NaN</td>\n",
       "      <td>False</td>\n",
       "      <td>NaN</td>\n",
       "      <td>NaT</td>\n",
       "      <td>NaT</td>\n",
       "      <td>4757.0</td>\n",
       "      <td>3</td>\n",
       "    </tr>\n",
       "    <tr>\n",
       "      <th>56</th>\n",
       "      <td>NCT00000131</td>\n",
       "      <td>Central Vein Occlusion Study (CVOS)</td>\n",
       "      <td>Completed</td>\n",
       "      <td>Interventional</td>\n",
       "      <td>NaT</td>\n",
       "      <td>National Eye Institute (NEI)</td>\n",
       "      <td>NIH</td>\n",
       "      <td>NaN</td>\n",
       "      <td>NaN</td>\n",
       "      <td>3</td>\n",
       "      <td>NaN</td>\n",
       "      <td>False</td>\n",
       "      <td>NaN</td>\n",
       "      <td>NaT</td>\n",
       "      <td>NaT</td>\n",
       "      <td>NaN</td>\n",
       "      <td>3</td>\n",
       "    </tr>\n",
       "    <tr>\n",
       "      <th>57</th>\n",
       "      <td>NCT00000126</td>\n",
       "      <td>Ischemic Optic Neuropathy Decompression Trial ...</td>\n",
       "      <td>Unknown status</td>\n",
       "      <td>Observational</td>\n",
       "      <td>NaT</td>\n",
       "      <td>National Eye Institute (NEI)</td>\n",
       "      <td>NIH</td>\n",
       "      <td>NaN</td>\n",
       "      <td>NaN</td>\n",
       "      <td>NaN</td>\n",
       "      <td>United States</td>\n",
       "      <td>False</td>\n",
       "      <td>NaN</td>\n",
       "      <td>NaT</td>\n",
       "      <td>NaT</td>\n",
       "      <td>NaN</td>\n",
       "      <td>5</td>\n",
       "    </tr>\n",
       "    <tr>\n",
       "      <th>58</th>\n",
       "      <td>NCT00000144</td>\n",
       "      <td>Glaucoma Laser Trial (GLT) Glaucoma Laser Tria...</td>\n",
       "      <td>Completed</td>\n",
       "      <td>Interventional</td>\n",
       "      <td>NaT</td>\n",
       "      <td>National Eye Institute (NEI)</td>\n",
       "      <td>NIH</td>\n",
       "      <td>NaN</td>\n",
       "      <td>NaN</td>\n",
       "      <td>3</td>\n",
       "      <td>NaN</td>\n",
       "      <td>False</td>\n",
       "      <td>NaN</td>\n",
       "      <td>NaT</td>\n",
       "      <td>NaT</td>\n",
       "      <td>NaN</td>\n",
       "      <td>3</td>\n",
       "    </tr>\n",
       "    <tr>\n",
       "      <th>59</th>\n",
       "      <td>NCT00000158</td>\n",
       "      <td>Macular Photocoagulation Study (MPS)</td>\n",
       "      <td>Unknown status</td>\n",
       "      <td>Interventional</td>\n",
       "      <td>NaT</td>\n",
       "      <td>National Eye Institute (NEI)</td>\n",
       "      <td>N</td>\n",
       "      <td>NaN</td>\n",
       "      <td>NaN</td>\n",
       "      <td>NaN</td>\n",
       "      <td>NaN</td>\n",
       "      <td>NaN</td>\n",
       "      <td>NaN</td>\n",
       "      <td>NaT</td>\n",
       "      <td>NaT</td>\n",
       "      <td>NaN</td>\n",
       "      <td>5</td>\n",
       "    </tr>\n",
       "  </tbody>\n",
       "</table>\n",
       "</div>"
      ],
      "text/plain": [
       "         nct_id                                              title  \\\n",
       "55  NCT00000145              Age-Related Eye Disease Study (AREDS)   \n",
       "56  NCT00000131                Central Vein Occlusion Study (CVOS)   \n",
       "57  NCT00000126  Ischemic Optic Neuropathy Decompression Trial ...   \n",
       "58  NCT00000144  Glaucoma Laser Trial (GLT) Glaucoma Laser Tria...   \n",
       "59  NCT00000158               Macular Photocoagulation Study (MPS)   \n",
       "\n",
       "    overall_status      study_type completion_date  \\\n",
       "55       Completed  Interventional      2001-10-01   \n",
       "56       Completed  Interventional             NaT   \n",
       "57  Unknown status   Observational             NaT   \n",
       "58       Completed  Interventional             NaT   \n",
       "59  Unknown status  Interventional             NaT   \n",
       "\n",
       "                    lead_sponsor lead_sponsor_class  \\\n",
       "55  National Eye Institute (NEI)                NIH   \n",
       "56  National Eye Institute (NEI)                NIH   \n",
       "57  National Eye Institute (NEI)                NIH   \n",
       "58  National Eye Institute (NEI)                NIH   \n",
       "59  National Eye Institute (NEI)                  N   \n",
       "\n",
       "                  collaborator collaborator_class phase      locations  \\\n",
       "55  Bausch & Lomb Incorporated           Industry     3            NaN   \n",
       "56                         NaN                NaN     3            NaN   \n",
       "57                         NaN                NaN   NaN  United States   \n",
       "58                         NaN                NaN     3            NaN   \n",
       "59                         NaN                NaN   NaN            NaN   \n",
       "\n",
       "   has_drug_intervention drugs disposition_date results_date  enrollment  \\\n",
       "55                 False   NaN              NaT          NaT      4757.0   \n",
       "56                 False   NaN              NaT          NaT         NaN   \n",
       "57                 False   NaN              NaT          NaT         NaN   \n",
       "58                 False   NaN              NaT          NaT         NaN   \n",
       "59                   NaN   NaN              NaT          NaT         NaN   \n",
       "\n",
       "    phase_normalised  \n",
       "55                 3  \n",
       "56                 3  \n",
       "57                 5  \n",
       "58                 3  \n",
       "59                 5  "
      ]
     },
     "execution_count": 6,
     "metadata": {},
     "output_type": "execute_result"
    }
   ],
   "source": [
    "df.tail()"
   ]
  },
  {
   "cell_type": "markdown",
   "metadata": {},
   "source": [
    "## Calculate whether trials are completed\n",
    "\n",
    "The criteria for counting a trial as completed are defined above. Print some summary stats about completed trials. "
   ]
  },
  {
   "cell_type": "code",
   "execution_count": 7,
   "metadata": {
    "collapsed": false
   },
   "outputs": [
    {
     "name": "stdout",
     "output_type": "stream",
     "text": [
      "Cutoff date 2015-04-04 09:42:12.415336\n",
      "60 total trials found\n",
      "0 trials have dispositions filed\n",
      "0 are completed and due results, by our definition\n",
      "0 trials due results have submitted results on clinicaltrials.gov\n",
      "0 trials due results have not submitted results on clinicaltrials.gov\n"
     ]
    }
   ],
   "source": [
    "startdate = datetime.strptime('01 January 2006', '%d %B %Y')\n",
    "cutoff = datetime.now() - relativedelta(years=2)\n",
    "print 'Cutoff date', cutoff\n",
    "\n",
    "df['is_completed'] = (df.overall_status == 'Completed') & \\\n",
    "    (df.study_type.str.startswith('Interventional')) & \\\n",
    "    (df.completion_date >= startdate) & \\\n",
    "    (df.completion_date <= cutoff) & \\\n",
    "    (df.phase_normalised >= 2) & \\\n",
    "    (df.disposition_date.isnull())\n",
    "df['is_overdue'] = (df.is_completed & \\\n",
    "                    df.results_date.isnull())\n",
    "df_completed = df[df.is_completed] \n",
    "df_overdue = df[df.is_completed & df.results_date.isnull()]\n",
    "\n",
    "print len(df), 'total trials found'\n",
    "print len(df[~df.disposition_date.isnull()]), 'trials have dispositions filed'\n",
    "print len(df_completed), 'are completed and due results, by our definition'\n",
    "print len(df[df.is_completed & ~df.results_date.isnull()]), \\\n",
    "    'trials due results have submitted results on clinicaltrials.gov'\n",
    "print len(df_overdue), \\\n",
    "    'trials due results have not submitted results on clinicaltrials.gov'"
   ]
  },
  {
   "cell_type": "markdown",
   "metadata": {},
   "source": [
    "## Check for results on PubMed\n",
    "\n",
    "If trials have reported their results on PubMed, and if it's possible [to find them on PubMed using a linked NCT ID](https://www.nlm.nih.gov/bsd/policy/clin_trials.html), then we count those trials as having submitted results. \n",
    "\n",
    "So, for all trials that we regard as completed and due results, and that haven't already reported results on clinicaltrials.gov, we search PubMed, looking for the NCT ID either as a Secondary Source ID, or in the title/abstract. We look for anything published between the completion date and now, that doesn't have the words \"study protocol\" in the title, and that is [classified as results of a trial (using the \"therapy\" clinical keyword, broad version)](https://www.ncbi.nlm.nih.gov/books/NBK3827/#pubmedhelp.Clinical_Queries_Filters). \n",
    "\n",
    "At the time of writing, about 9,000 of the 34,000 trials have results on PubMed. An example of an NCT ID with results on PubMed: NCT02460380. (TODO: Update this). \n",
    "\n",
    "**Note 1**: we know from [the BMJ paper](http://www.bmj.com/content/352/bmj.i637) that there are trials that do have results on PubMed, but that aren't linked using the NCT ID. The BMJ authors found these using a manual search. Some examples: `NCT00002762: 19487378`, `NCT00002879: 18470909`, `NCT00003134: 19066728`, `NCT00003596: 18430910`. We regard these as invalid, because you can only find results via an exhaustive manual search. We only count results as published for our purposes if they are either (i) submitted on ClinicalTrials.gov or (ii) retrievable on PubMed using the NCT ID. See more on this below.\n",
    "\n",
    "**Note 2**: we know there are some trials that have results PMIDs directly in ClinicalTrials.gov, in the `results_reference` field of the XML. After discussion with Jess here, and Annice at ClinicalTrials.gov, I decided that these results are too often meaningless to be useful - lots of the time they aren't truly results, but are studies from years ago.\n",
    "\n",
    "**Note 3**: we also experimented with retrieving the results using the narrow version of the \"therapy\" clinical keyword, and using no clinical keyword at all. We evaluated these by using multiple PubMed matches as surrogate measures for false identification. At the time of writing on 2016/10/24, we examined 34677 trial registry IDs: the PubMed broad keyword yielded 7815 matches with 1706 multiple matches; the PubMed narrow keyword yielded 6448 matches with 1238 multiple matches, and using no keyword yielded 7981 matches with 1860 multiple matches. We chose the broad keyword for our final results."
   ]
  },
  {
   "cell_type": "code",
   "execution_count": 8,
   "metadata": {
    "collapsed": false
   },
   "outputs": [
    {
     "name": "stdout",
     "output_type": "stream",
     "text": [
      "done\n"
     ]
    }
   ],
   "source": [
    "# Store results locally.\n",
    "conn = sqlite3.connect('./data/trials-abstract.db')\n",
    "cur = conn.cursor()  \n",
    "c = \"CREATE TABLE IF NOT EXISTS trials(nct_id TEXT PRIMARY KEY, \"\n",
    "c += \"pubmed_results INT, pubmed_results_broad INT, pubmed_results_narrow INT)\"\n",
    "cur.execute(c)\n",
    "conn.commit()\n",
    "\n",
    "REGENERATE_PUBMED_LINKS = True\n",
    "count = 0\n",
    "df['pubmed_results'] = False\n",
    "for i, row in df_overdue.iterrows():\n",
    "    if count % 10000 == 0:\n",
    "        print count, row.nct_id\n",
    "    count += 1\n",
    "    # First, check for results stored in the local db.\n",
    "    c = \"SELECT nct_id, pubmed_results, pubmed_results_broad, \"\n",
    "    c += \"pubmed_results_narrow FROM trials WHERE nct_id='%s'\" % row.nct_id\n",
    "    cur.execute(c)\n",
    "    data = cur.fetchone()\n",
    "    has_results = False\n",
    "    if data and (not REGENERATE_PUBMED_LINKS):\n",
    "        has_results = bool(int(data[2]))\n",
    "    else:\n",
    "        # No local results, or we want to regenerate them: check PubMed.\n",
    "        broad_results = \\\n",
    "            utils.get_pubmed_linked_articles(row.nct_id, \n",
    "                                             row.completion_date, 'broad')\n",
    "        # Used in the past (see note 3 above).\n",
    "        simple_results = \\\n",
    "            utils.get_pubmed_linked_articles(row.nct_id, \n",
    "                                             row.completion_date, '')\n",
    "        narrow_results = \\\n",
    "            utils.get_pubmed_linked_articles(row.nct_id, \n",
    "                                             row.completion_date, 'narrow')\n",
    "        c = \"INSERT OR REPLACE INTO trials VALUES('%s', %s, %s, %s)\" % \\\n",
    "            (row.nct_id, len(simple_results), len(broad_results), len(narrow_results))\n",
    "        cur.execute(c)\n",
    "        conn.commit()\n",
    "        has_results = broad_results > 0\n",
    "    df.set_value(i, 'pubmed_results', has_results) \n",
    "    \n",
    "cur.close()\n",
    "conn.close()\n",
    "print 'done' "
   ]
  },
  {
   "cell_type": "markdown",
   "metadata": {},
   "source": [
    "## Calculate final overdue count\n",
    "\n",
    "Now we have looked for PubMed results, we can calculate the final overdue count, and print some summary statistics."
   ]
  },
  {
   "cell_type": "code",
   "execution_count": 9,
   "metadata": {
    "collapsed": false
   },
   "outputs": [
    {
     "name": "stdout",
     "output_type": "stream",
     "text": [
      "How many of the unreported trials were found on PubMed:\n",
      "Series([], Name: pubmed_results, dtype: int64)\n"
     ]
    }
   ],
   "source": [
    "# Reset dataframes now we have the results from PubMed.\n",
    "df['is_overdue'] = (df.is_completed & df.results_date.isnull() & ~df.pubmed_results)\n",
    "print 'How many of the unreported trials were found on PubMed:'\n",
    "print df[df.is_completed & df.results_date.isnull()].pubmed_results.value_counts()\n",
    "df_completed = df[df.is_completed]\n",
    "df_overdue = df[df.is_overdue]"
   ]
  },
  {
   "cell_type": "code",
   "execution_count": 11,
   "metadata": {
    "collapsed": false
   },
   "outputs": [
    {
     "name": "stdout",
     "output_type": "stream",
     "text": [
      "0 trials should have published results\n",
      "0 trials have not published results\n"
     ]
    },
    {
     "ename": "ZeroDivisionError",
     "evalue": "float division by zero",
     "output_type": "error",
     "traceback": [
      "\u001b[1;31m---------------------------------------------------------------------------\u001b[0m",
      "\u001b[1;31mZeroDivisionError\u001b[0m                         Traceback (most recent call last)",
      "\u001b[1;32m<ipython-input-11-603fbd259972>\u001b[0m in \u001b[0;36m<module>\u001b[1;34m()\u001b[0m\n\u001b[0;32m      2\u001b[0m \u001b[1;32mprint\u001b[0m \u001b[0mlen\u001b[0m\u001b[1;33m(\u001b[0m\u001b[0mdf_completed\u001b[0m\u001b[1;33m)\u001b[0m\u001b[1;33m,\u001b[0m \u001b[1;34m'trials should have published results'\u001b[0m\u001b[1;33m\u001b[0m\u001b[0m\n\u001b[0;32m      3\u001b[0m \u001b[1;32mprint\u001b[0m \u001b[0mlen\u001b[0m\u001b[1;33m(\u001b[0m\u001b[0mdf_overdue\u001b[0m\u001b[1;33m)\u001b[0m\u001b[1;33m,\u001b[0m \u001b[1;34m'trials have not published results'\u001b[0m\u001b[1;33m\u001b[0m\u001b[0m\n\u001b[1;32m----> 4\u001b[1;33m \u001b[0mpercent_submitted\u001b[0m \u001b[1;33m=\u001b[0m \u001b[1;33m(\u001b[0m\u001b[1;36m1\u001b[0m \u001b[1;33m-\u001b[0m \u001b[1;33m(\u001b[0m\u001b[0mlen\u001b[0m\u001b[1;33m(\u001b[0m\u001b[0mdf_overdue\u001b[0m\u001b[1;33m)\u001b[0m \u001b[1;33m/\u001b[0m \u001b[0mfloat\u001b[0m\u001b[1;33m(\u001b[0m\u001b[0mlen\u001b[0m\u001b[1;33m(\u001b[0m\u001b[0mdf_completed\u001b[0m\u001b[1;33m)\u001b[0m\u001b[1;33m)\u001b[0m\u001b[1;33m)\u001b[0m\u001b[1;33m)\u001b[0m \u001b[1;33m*\u001b[0m \u001b[1;36m100\u001b[0m\u001b[1;33m\u001b[0m\u001b[0m\n\u001b[0m\u001b[0;32m      5\u001b[0m \u001b[1;32mprint\u001b[0m \u001b[1;34m'%s%% of completed trials have published results'\u001b[0m \u001b[1;33m%\u001b[0m     \u001b[1;34m'{:,.2f}'\u001b[0m\u001b[1;33m.\u001b[0m\u001b[0mformat\u001b[0m\u001b[1;33m(\u001b[0m\u001b[0mpercent_submitted\u001b[0m\u001b[1;33m)\u001b[0m\u001b[1;33m\u001b[0m\u001b[0m\n\u001b[0;32m      6\u001b[0m \u001b[1;32mprint\u001b[0m \u001b[0mint\u001b[0m\u001b[1;33m(\u001b[0m\u001b[0mdf_overdue\u001b[0m\u001b[1;33m.\u001b[0m\u001b[0menrollment\u001b[0m\u001b[1;33m.\u001b[0m\u001b[0msum\u001b[0m\u001b[1;33m(\u001b[0m\u001b[1;33m)\u001b[0m\u001b[1;33m)\u001b[0m\u001b[1;33m,\u001b[0m \u001b[1;34m'total patients are enrolled in overdue trials'\u001b[0m\u001b[1;33m\u001b[0m\u001b[0m\n",
      "\u001b[1;31mZeroDivisionError\u001b[0m: float division by zero"
     ]
    }
   ],
   "source": [
    "# Print summary stats for the entire dataset. \n",
    "print len(df_completed), 'trials should have published results'\n",
    "print len(df_overdue), 'trials have not published results'\n",
    "percent_submitted = (1 - (len(df_overdue) / float(len(df_completed)))) * 100\n",
    "print '%s%% of completed trials have published results' % \\\n",
    "    '{:,.2f}'.format(percent_submitted)\n",
    "print int(df_overdue.enrollment.sum()), 'total patients are enrolled in overdue trials'"
   ]
  },
  {
   "cell_type": "code",
   "execution_count": 12,
   "metadata": {
    "collapsed": false
   },
   "outputs": [
    {
     "name": "stdout",
     "output_type": "stream",
     "text": [
      "0 trials by major sponsors should have published results\n",
      "0 trials by major sponsors have not published results\n"
     ]
    },
    {
     "ename": "ZeroDivisionError",
     "evalue": "float division by zero",
     "output_type": "error",
     "traceback": [
      "\u001b[1;31m---------------------------------------------------------------------------\u001b[0m",
      "\u001b[1;31mZeroDivisionError\u001b[0m                         Traceback (most recent call last)",
      "\u001b[1;32m<ipython-input-12-cacb52f70e80>\u001b[0m in \u001b[0;36m<module>\u001b[1;34m()\u001b[0m\n\u001b[0;32m      5\u001b[0m \u001b[1;32mprint\u001b[0m \u001b[0mlen\u001b[0m\u001b[1;33m(\u001b[0m\u001b[0mdf_major\u001b[0m\u001b[1;33m)\u001b[0m\u001b[1;33m,\u001b[0m \u001b[1;34m'trials by major sponsors should have published results'\u001b[0m\u001b[1;33m\u001b[0m\u001b[0m\n\u001b[0;32m      6\u001b[0m \u001b[1;32mprint\u001b[0m \u001b[0mlen\u001b[0m\u001b[1;33m(\u001b[0m\u001b[0mdf_major\u001b[0m\u001b[1;33m[\u001b[0m\u001b[0mdf_major\u001b[0m\u001b[1;33m.\u001b[0m\u001b[0mis_overdue\u001b[0m\u001b[1;33m]\u001b[0m\u001b[1;33m)\u001b[0m\u001b[1;33m,\u001b[0m \u001b[1;34m'trials by major sponsors have not published results'\u001b[0m\u001b[1;33m\u001b[0m\u001b[0m\n\u001b[1;32m----> 7\u001b[1;33m \u001b[0mpercent_submitted\u001b[0m \u001b[1;33m=\u001b[0m \u001b[1;33m(\u001b[0m\u001b[1;36m1\u001b[0m \u001b[1;33m-\u001b[0m \u001b[1;33m(\u001b[0m\u001b[0mlen\u001b[0m\u001b[1;33m(\u001b[0m\u001b[0mdf_major\u001b[0m\u001b[1;33m[\u001b[0m\u001b[0mdf_major\u001b[0m\u001b[1;33m.\u001b[0m\u001b[0mis_overdue\u001b[0m\u001b[1;33m]\u001b[0m\u001b[1;33m)\u001b[0m \u001b[1;33m/\u001b[0m \u001b[0mfloat\u001b[0m\u001b[1;33m(\u001b[0m\u001b[0mlen\u001b[0m\u001b[1;33m(\u001b[0m\u001b[0mdf_major\u001b[0m\u001b[1;33m)\u001b[0m\u001b[1;33m)\u001b[0m\u001b[1;33m)\u001b[0m\u001b[1;33m)\u001b[0m \u001b[1;33m*\u001b[0m \u001b[1;36m100\u001b[0m\u001b[1;33m\u001b[0m\u001b[0m\n\u001b[0m\u001b[0;32m      8\u001b[0m \u001b[1;32mprint\u001b[0m \u001b[1;34m'%s%% of completed trials by major sponsors have published results'\u001b[0m \u001b[1;33m%\u001b[0m     \u001b[1;34m'{:,.2f}'\u001b[0m\u001b[1;33m.\u001b[0m\u001b[0mformat\u001b[0m\u001b[1;33m(\u001b[0m\u001b[0mpercent_submitted\u001b[0m\u001b[1;33m)\u001b[0m\u001b[1;33m\u001b[0m\u001b[0m\n\u001b[0;32m      9\u001b[0m \u001b[1;32mprint\u001b[0m \u001b[0mint\u001b[0m\u001b[1;33m(\u001b[0m\u001b[0mdf_major\u001b[0m\u001b[1;33m[\u001b[0m\u001b[0mdf_major\u001b[0m\u001b[1;33m.\u001b[0m\u001b[0mis_overdue\u001b[0m\u001b[1;33m]\u001b[0m\u001b[1;33m.\u001b[0m\u001b[0menrollment\u001b[0m\u001b[1;33m.\u001b[0m\u001b[0msum\u001b[0m\u001b[1;33m(\u001b[0m\u001b[1;33m)\u001b[0m\u001b[1;33m)\u001b[0m\u001b[1;33m,\u001b[0m \u001b[1;34m'total patients are enrolled in overdue trials'\u001b[0m\u001b[1;33m\u001b[0m\u001b[0m\n",
      "\u001b[1;31mZeroDivisionError\u001b[0m: float division by zero"
     ]
    }
   ],
   "source": [
    "# Print summary stats for major trial sponsors only.\n",
    "NUM_TRIALS = 30\n",
    "df_major = df_completed[\n",
    "    df_completed.groupby('lead_sponsor').nct_id.transform(len) >= NUM_TRIALS]\n",
    "print len(df_major), 'trials by major sponsors should have published results'\n",
    "print len(df_major[df_major.is_overdue]), 'trials by major sponsors have not published results'\n",
    "percent_submitted = (1 - (len(df_major[df_major.is_overdue]) / float(len(df_major)))) * 100\n",
    "print '%s%% of completed trials by major sponsors have published results' % \\\n",
    "    '{:,.2f}'.format(percent_submitted)\n",
    "print int(df_major[df_major.is_overdue].enrollment.sum()), 'total patients are enrolled in overdue trials'"
   ]
  },
  {
   "cell_type": "code",
   "execution_count": 14,
   "metadata": {
    "collapsed": false
   },
   "outputs": [
    {
     "data": {
      "text/html": [
       "<div>\n",
       "<table border=\"1\" class=\"dataframe\">\n",
       "  <thead>\n",
       "    <tr style=\"text-align: right;\">\n",
       "      <th></th>\n",
       "      <th>is_overdue</th>\n",
       "      <th>is_completed</th>\n",
       "    </tr>\n",
       "    <tr>\n",
       "      <th>lead_sponsor_class</th>\n",
       "      <th></th>\n",
       "      <th></th>\n",
       "    </tr>\n",
       "  </thead>\n",
       "  <tbody>\n",
       "  </tbody>\n",
       "</table>\n",
       "</div>"
      ],
      "text/plain": [
       "Empty DataFrame\n",
       "Columns: [is_overdue, is_completed]\n",
       "Index: []"
      ]
     },
     "execution_count": 14,
     "metadata": {},
     "output_type": "execute_result"
    }
   ],
   "source": [
    "df_completed.groupby('lead_sponsor_class').sum()[['is_overdue', 'is_completed']]\n"
   ]
  },
  {
   "cell_type": "code",
   "execution_count": 13,
   "metadata": {
    "collapsed": false
   },
   "outputs": [
    {
     "ename": "NotImplementedError",
     "evalue": "operator '/' not implemented for bool dtypes",
     "output_type": "error",
     "traceback": [
      "\u001b[1;31m---------------------------------------------------------------------------\u001b[0m",
      "\u001b[1;31mNotImplementedError\u001b[0m                       Traceback (most recent call last)",
      "\u001b[1;32m<ipython-input-13-fb48e4878a87>\u001b[0m in \u001b[0;36m<module>\u001b[1;34m()\u001b[0m\n\u001b[0;32m      1\u001b[0m \u001b[1;31m# Calculate publication rates by sector (raw data)\u001b[0m\u001b[1;33m\u001b[0m\u001b[1;33m\u001b[0m\u001b[0m\n\u001b[0;32m      2\u001b[0m \u001b[0mdf_by_sector\u001b[0m \u001b[1;33m=\u001b[0m \u001b[0mdf_completed\u001b[0m\u001b[1;33m.\u001b[0m\u001b[0mgroupby\u001b[0m\u001b[1;33m(\u001b[0m\u001b[1;34m'lead_sponsor_class'\u001b[0m\u001b[1;33m)\u001b[0m\u001b[1;33m.\u001b[0m\u001b[0msum\u001b[0m\u001b[1;33m(\u001b[0m\u001b[1;33m)\u001b[0m\u001b[1;33m[\u001b[0m\u001b[1;33m[\u001b[0m\u001b[1;34m'is_overdue'\u001b[0m\u001b[1;33m,\u001b[0m \u001b[1;34m'is_completed'\u001b[0m\u001b[1;33m]\u001b[0m\u001b[1;33m]\u001b[0m\u001b[1;33m\u001b[0m\u001b[0m\n\u001b[1;32m----> 3\u001b[1;33m \u001b[0mdf_by_sector\u001b[0m\u001b[1;33m[\u001b[0m\u001b[1;34m'percent_overdue'\u001b[0m\u001b[1;33m]\u001b[0m \u001b[1;33m=\u001b[0m \u001b[0mdf_by_sector\u001b[0m\u001b[1;33m.\u001b[0m\u001b[0mis_overdue\u001b[0m \u001b[1;33m/\u001b[0m \u001b[0mdf_by_sector\u001b[0m\u001b[1;33m.\u001b[0m\u001b[0mis_completed\u001b[0m \u001b[1;33m*\u001b[0m \u001b[1;36m100\u001b[0m\u001b[1;33m\u001b[0m\u001b[0m\n\u001b[0m\u001b[0;32m      4\u001b[0m \u001b[0mdf_by_sector\u001b[0m\u001b[1;33m\u001b[0m\u001b[0m\n",
      "\u001b[1;32m/usr/local/lib/python2.7/dist-packages/pandas/core/ops.pyc\u001b[0m in \u001b[0;36mwrapper\u001b[1;34m(left, right, name, na_op)\u001b[0m\n\u001b[0;32m    713\u001b[0m                 \u001b[0mlvalues\u001b[0m \u001b[1;33m=\u001b[0m \u001b[0mlvalues\u001b[0m\u001b[1;33m.\u001b[0m\u001b[0mvalues\u001b[0m\u001b[1;33m\u001b[0m\u001b[0m\n\u001b[0;32m    714\u001b[0m \u001b[1;33m\u001b[0m\u001b[0m\n\u001b[1;32m--> 715\u001b[1;33m         \u001b[0mresult\u001b[0m \u001b[1;33m=\u001b[0m \u001b[0mwrap_results\u001b[0m\u001b[1;33m(\u001b[0m\u001b[0msafe_na_op\u001b[0m\u001b[1;33m(\u001b[0m\u001b[0mlvalues\u001b[0m\u001b[1;33m,\u001b[0m \u001b[0mrvalues\u001b[0m\u001b[1;33m)\u001b[0m\u001b[1;33m)\u001b[0m\u001b[1;33m\u001b[0m\u001b[0m\n\u001b[0m\u001b[0;32m    716\u001b[0m         return construct_result(\n\u001b[0;32m    717\u001b[0m             \u001b[0mleft\u001b[0m\u001b[1;33m,\u001b[0m\u001b[1;33m\u001b[0m\u001b[0m\n",
      "\u001b[1;32m/usr/local/lib/python2.7/dist-packages/pandas/core/ops.pyc\u001b[0m in \u001b[0;36msafe_na_op\u001b[1;34m(lvalues, rvalues)\u001b[0m\n\u001b[0;32m    674\u001b[0m         \u001b[1;32mtry\u001b[0m\u001b[1;33m:\u001b[0m\u001b[1;33m\u001b[0m\u001b[0m\n\u001b[0;32m    675\u001b[0m             \u001b[1;32mwith\u001b[0m \u001b[0mnp\u001b[0m\u001b[1;33m.\u001b[0m\u001b[0merrstate\u001b[0m\u001b[1;33m(\u001b[0m\u001b[0mall\u001b[0m\u001b[1;33m=\u001b[0m\u001b[1;34m'ignore'\u001b[0m\u001b[1;33m)\u001b[0m\u001b[1;33m:\u001b[0m\u001b[1;33m\u001b[0m\u001b[0m\n\u001b[1;32m--> 676\u001b[1;33m                 \u001b[1;32mreturn\u001b[0m \u001b[0mna_op\u001b[0m\u001b[1;33m(\u001b[0m\u001b[0mlvalues\u001b[0m\u001b[1;33m,\u001b[0m \u001b[0mrvalues\u001b[0m\u001b[1;33m)\u001b[0m\u001b[1;33m\u001b[0m\u001b[0m\n\u001b[0m\u001b[0;32m    677\u001b[0m         \u001b[1;32mexcept\u001b[0m \u001b[0mException\u001b[0m\u001b[1;33m:\u001b[0m\u001b[1;33m\u001b[0m\u001b[0m\n\u001b[0;32m    678\u001b[0m             \u001b[1;32mif\u001b[0m \u001b[0misinstance\u001b[0m\u001b[1;33m(\u001b[0m\u001b[0mrvalues\u001b[0m\u001b[1;33m,\u001b[0m \u001b[0mABCSeries\u001b[0m\u001b[1;33m)\u001b[0m\u001b[1;33m:\u001b[0m\u001b[1;33m\u001b[0m\u001b[0m\n",
      "\u001b[1;32m/usr/local/lib/python2.7/dist-packages/pandas/core/ops.pyc\u001b[0m in \u001b[0;36mna_op\u001b[1;34m(x, y)\u001b[0m\n\u001b[0;32m    650\u001b[0m         \u001b[1;32mtry\u001b[0m\u001b[1;33m:\u001b[0m\u001b[1;33m\u001b[0m\u001b[0m\n\u001b[0;32m    651\u001b[0m             result = expressions.evaluate(op, str_rep, x, y,\n\u001b[1;32m--> 652\u001b[1;33m                                           raise_on_error=True, **eval_kwargs)\n\u001b[0m\u001b[0;32m    653\u001b[0m         \u001b[1;32mexcept\u001b[0m \u001b[0mTypeError\u001b[0m\u001b[1;33m:\u001b[0m\u001b[1;33m\u001b[0m\u001b[0m\n\u001b[0;32m    654\u001b[0m             \u001b[1;32mif\u001b[0m \u001b[0misinstance\u001b[0m\u001b[1;33m(\u001b[0m\u001b[0my\u001b[0m\u001b[1;33m,\u001b[0m \u001b[1;33m(\u001b[0m\u001b[0mnp\u001b[0m\u001b[1;33m.\u001b[0m\u001b[0mndarray\u001b[0m\u001b[1;33m,\u001b[0m \u001b[0mABCSeries\u001b[0m\u001b[1;33m,\u001b[0m \u001b[0mpd\u001b[0m\u001b[1;33m.\u001b[0m\u001b[0mIndex\u001b[0m\u001b[1;33m)\u001b[0m\u001b[1;33m)\u001b[0m\u001b[1;33m:\u001b[0m\u001b[1;33m\u001b[0m\u001b[0m\n",
      "\u001b[1;32m/usr/local/lib/python2.7/dist-packages/pandas/computation/expressions.pyc\u001b[0m in \u001b[0;36mevaluate\u001b[1;34m(op, op_str, a, b, raise_on_error, use_numexpr, **eval_kwargs)\u001b[0m\n\u001b[0;32m    205\u001b[0m         \u001b[0muse_numexpr\u001b[0m \u001b[1;33m:\u001b[0m \u001b[0mwhether\u001b[0m \u001b[0mto\u001b[0m \u001b[1;32mtry\u001b[0m \u001b[0mto\u001b[0m \u001b[0muse\u001b[0m \u001b[0mnumexpr\u001b[0m \u001b[1;33m(\u001b[0m\u001b[0mdefault\u001b[0m \u001b[0mTrue\u001b[0m\u001b[1;33m)\u001b[0m\u001b[1;33m\u001b[0m\u001b[0m\n\u001b[0;32m    206\u001b[0m         \"\"\"\n\u001b[1;32m--> 207\u001b[1;33m     \u001b[0muse_numexpr\u001b[0m \u001b[1;33m=\u001b[0m \u001b[0muse_numexpr\u001b[0m \u001b[1;32mand\u001b[0m \u001b[0m_bool_arith_check\u001b[0m\u001b[1;33m(\u001b[0m\u001b[0mop_str\u001b[0m\u001b[1;33m,\u001b[0m \u001b[0ma\u001b[0m\u001b[1;33m,\u001b[0m \u001b[0mb\u001b[0m\u001b[1;33m)\u001b[0m\u001b[1;33m\u001b[0m\u001b[0m\n\u001b[0m\u001b[0;32m    208\u001b[0m     \u001b[1;32mif\u001b[0m \u001b[0muse_numexpr\u001b[0m\u001b[1;33m:\u001b[0m\u001b[1;33m\u001b[0m\u001b[0m\n\u001b[0;32m    209\u001b[0m         return _evaluate(op, op_str, a, b, raise_on_error=raise_on_error,\n",
      "\u001b[1;32m/usr/local/lib/python2.7/dist-packages/pandas/computation/expressions.pyc\u001b[0m in \u001b[0;36m_bool_arith_check\u001b[1;34m(op_str, a, b, not_allowed, unsupported)\u001b[0m\n\u001b[0;32m    185\u001b[0m         \u001b[1;32mif\u001b[0m \u001b[0mop_str\u001b[0m \u001b[1;32min\u001b[0m \u001b[0mnot_allowed\u001b[0m\u001b[1;33m:\u001b[0m\u001b[1;33m\u001b[0m\u001b[0m\n\u001b[0;32m    186\u001b[0m             raise NotImplementedError(\"operator %r not implemented for bool \"\n\u001b[1;32m--> 187\u001b[1;33m                                       \"dtypes\" % op_str)\n\u001b[0m\u001b[0;32m    188\u001b[0m     \u001b[1;32mreturn\u001b[0m \u001b[0mTrue\u001b[0m\u001b[1;33m\u001b[0m\u001b[0m\n\u001b[0;32m    189\u001b[0m \u001b[1;33m\u001b[0m\u001b[0m\n",
      "\u001b[1;31mNotImplementedError\u001b[0m: operator '/' not implemented for bool dtypes"
     ]
    }
   ],
   "source": [
    "# Calculate publication rates by sector (raw data)\n",
    "df_by_sector = df_completed.groupby('lead_sponsor_class').sum()[['is_overdue', 'is_completed']]\n",
    "df_by_sector['percent_overdue'] = df_by_sector.is_overdue / df_by_sector.is_completed * 100\n",
    "df_by_sector"
   ]
  },
  {
   "cell_type": "code",
   "execution_count": null,
   "metadata": {
    "collapsed": false
   },
   "outputs": [],
   "source": [
    "# Calculate publication rates by sector (major sponsors only)\n",
    "df_major_gp = df_major.groupby('lead_sponsor_class').sum()[['is_overdue', 'is_completed']]\n",
    "df_major_gp['percent_overdue'] = df_major_gp.is_overdue / df_major_gp.is_completed * 100\n",
    "df_major_gp"
   ]
  },
  {
   "cell_type": "markdown",
   "metadata": {},
   "source": [
    "## Write to CSV\n",
    "\n",
    "Output final results to a CSV file, which we will use in the interactive. We reshape the data so it has a row for each sponsor, and two columns for each year: one column for the number of overdue results, and one for the total trials. \n",
    "\n",
    "Also, write all the raw data to a single CSV file."
   ]
  },
  {
   "cell_type": "code",
   "execution_count": null,
   "metadata": {
    "collapsed": false
   },
   "outputs": [],
   "source": [
    "df_completed['year_completed'] = df_completed['completion_date'].dt.year.dropna().astype(int)\n",
    "df_completed['year_completed'] = df_completed.year_completed.astype(int)\n",
    "\n",
    "# Drop all sponsors with fewer than N completed trials.\n",
    "df_final = df_completed[\n",
    "    df_completed.groupby('lead_sponsor').nct_id.transform(len) >= NUM_TRIALS]\n",
    "\n",
    "# Now reshape the data: a row for each sponsor, columns by year:\n",
    "# lead_sponsor,2008_overdue,2008_total,2009_overdue,2009_total...\n",
    "df_temp = df_final.set_index(['lead_sponsor', 'lead_sponsor_class', 'year_completed']) \n",
    "gb = df_temp.groupby(level=[0, 1, 2]).is_overdue\n",
    "df2 = gb.agg({'overdue': 'sum', 'total': 'count'}) \\\n",
    "          .unstack().swaplevel(0, 1, 1).sort_index(1)\n",
    "df2.columns = df2.columns.to_series().apply(lambda x: '{}_{}'.format(*x))\n",
    "df3 = df2.reset_index()\n",
    "df3['lead_sponsor_slug'] = df3.lead_sponsor.apply(slugify)\n",
    "df3.to_csv('../app/data/completed.csv', index=None)\n",
    "print len(df3), 'sponsors found with cutoff point at %s trials' % NUM_TRIALS\n",
    "\n",
    "# Write the raw output to a full spreadsheet. \n",
    "df.to_csv('./data/all.csv', index=None)"
   ]
  },
  {
   "cell_type": "markdown",
   "metadata": {},
   "source": [
    "## For reference: Compare our results with BMJ authors\n",
    "\n",
    "TODO: Make this a separate notebook?\n",
    "\n",
    "A [2016 BMJ paper](http://www.bmj.com/content/352/bmj.i637) found that around 65% of papers reprted results. \"Overall, 2892 of the 4347 clinical trials (66.5%) had been published or reported results as of July 2014.\" \n",
    "\n",
    "Excellently, the BMJ authors [publish their raw data on DataDryad](http://datadryad.org/resource/doi:10.5061/dryad.6n018) so we can compare our results with theirs, to get an idea of the difference between our automated strategy and their partially manual strategy. (However, in their reported data it looks to me like the matched PMID rate is 59.9% of all NCT IDs.)\n",
    "\n",
    "The BMJ authors were looking at a much smaller set of papers than us, because they focussed on academic medical centres. Their set is slightly different, because they include pre-Phase-2 trials, and 'Terminated' as well as 'Completed' trials. They also used a manual search strategy which involved searching Scopus and manually comparing results. "
   ]
  },
  {
   "cell_type": "code",
   "execution_count": null,
   "metadata": {
    "collapsed": false
   },
   "outputs": [],
   "source": [
    "from openpyxl import load_workbook\n",
    "import sys\n",
    "bmj_results = load_workbook(filename = './data/chen-bmj.xlsx')"
   ]
  },
  {
   "cell_type": "code",
   "execution_count": null,
   "metadata": {
    "collapsed": false
   },
   "outputs": [],
   "source": [
    "nct_ids = {}\n",
    "count = 0\n",
    "has_pmid = 0\n",
    "\n",
    "# The Excel data has multiple worksheets, sigh. \n",
    "# And NCT IDs can occur more than once with different results, sigh.\n",
    "# We only care about where there's at least one result.\n",
    "# Fiddle about and reshape the data so that we know whether \n",
    "# each NCT ID has a result. \n",
    "for sheet in bmj_results.worksheets:\n",
    "    for i, row in enumerate(sheet.rows):\n",
    "        if i == 0:\n",
    "            continue\n",
    "        if row[0].value:\n",
    "            count += 1\n",
    "            if isinstance(row[6].value, long):\n",
    "                val = str(row[6].value)\n",
    "            else:\n",
    "                val = row[6].value\n",
    "            if val:\n",
    "                has_pmid += 1\n",
    "            # Always set val if it exists.\n",
    "            # Otherwise, only set val if there's no current value\n",
    "            # for this NCT ID.\n",
    "            if val:\n",
    "                nct_ids[row[0].value] = val\n",
    "            else:\n",
    "                if not row[0].value in nct_ids:\n",
    "                    nct_ids[row[0].value] = val\n",
    "\n",
    "print count, 'rows found in total'\n",
    "print has_pmid, 'of those rows have a PMID'\n",
    "print has_pmid / float(count) * 100, 'per cent of their NCT IDs have a PMID, including duplicates'\n",
    "print\n",
    "unique_nct_ids = len(nct_ids.keys())\n",
    "print unique_nct_ids, '*unique* NCT IDs found in all rows'\n",
    "pmids_found = sum(1 for x in nct_ids.values() if x)\n",
    "print pmids_found, 'of these have PMIDs'\n",
    "print pmids_found / float(unique_nct_ids) * 100, 'per cent of unique NCT IDs have a PMID'"
   ]
  },
  {
   "cell_type": "markdown",
   "metadata": {},
   "source": [
    "### Compare with our data\n",
    "\n",
    "Now examine: \n",
    "\n",
    "* of the NCT IDs for which BMJ authors find PubMed results, how many we also find PubMed results for\n",
    "* of the same dataset, how many *only BMJ* find results for\n",
    "* of the NCT IDs for which BMJ authors do not find PubMed results, how many we do find PubMed results"
   ]
  },
  {
   "cell_type": "code",
   "execution_count": null,
   "metadata": {
    "collapsed": false
   },
   "outputs": [],
   "source": [
    "df_bmj = pd.Series(nct_ids).to_frame(name='pmid')\n",
    "df_bmj['pubmed_results'] = ~df_bmj.pmid.isnull()\n",
    "df_bmj.index.name = 'nct_id'\n",
    "df_bmj.reset_index(inplace=True)\n",
    "print len(df_bmj), 'NCT IDs in the full BMJ dataset'\n",
    "# df_bmj.head(20)\n",
    "\n",
    "merged_results = \\\n",
    "    pd.merge(df_bmj, df_completed, #[['nct_id', 'pubmed_results']], \n",
    "             on='nct_id', how='inner', suffixes=('_bmj', '_ours'))\n",
    "    \n",
    "# NB I tried this first with a left join: but 1521 out of the 4500 papers \n",
    "# don't appear in our dataset, because the BMJ authors' inclusion criteria are \n",
    "# different from ours. To get a sample after a left join...\n",
    "# merged_results[merged_results.we_have_results.isnull()].head()\n",
    "\n",
    "merged_results['we_have_results'] = ~merged_results.is_overdue\n",
    "merged_results.we_have_results.value_counts(dropna=False)\n",
    "# merged_results.head()\n",
    "print len(merged_results), 'NCT IDs are in both the BMJ dataset and ours'\n",
    "\n",
    "papers_both_find_pm_results = \\\n",
    "    merged_results[merged_results.pubmed_results_bmj & merged_results.we_have_results]\n",
    "papers_both_find_pm_results.head()\n",
    "print len(papers_both_find_pm_results), 'we both find results for'\n",
    "papers_only_they_find_results = \\\n",
    "    merged_results[merged_results.pubmed_results_bmj & ~merged_results.we_have_results]\n",
    "print len(papers_only_they_find_results), 'only they find results for'  \n",
    "papers_only_we_find_results = \\\n",
    "    merged_results[~merged_results.pubmed_results_bmj & merged_results.we_have_results]\n",
    "print len(papers_only_we_find_results), 'only we find results for'\n",
    "noone_finds_results = \\\n",
    "    merged_results[~merged_results.pubmed_results_bmj & ~merged_results.we_have_results]\n",
    "print len(noone_finds_results), 'neither of us find results for'"
   ]
  },
  {
   "cell_type": "code",
   "execution_count": null,
   "metadata": {
    "collapsed": false
   },
   "outputs": [],
   "source": [
    "# Examine a sample of the papers only they find results for.\n",
    "cols = ['nct_id', 'title', 'pubmed_results_bmj', 'pmid', 'we_have_results']\n",
    "papers_only_they_find_results.sample(10)[cols]"
   ]
  },
  {
   "cell_type": "code",
   "execution_count": null,
   "metadata": {
    "collapsed": false
   },
   "outputs": [],
   "source": [
    "# Papers only we find results for. If the `results_date` field exists, it \n",
    "# means that the results are published on ClinicalTrials.gov. Otherwise \n",
    "# we found results on PubMed but they did not - perhaps because\n",
    "# it's been a couple of years since they did their search.\n",
    "# We find 43 papers on PubMed that the BMJ authors don't: \n",
    "print len(papers_only_we_find_results), 'papers for which only we find results'\n",
    "print len(papers_only_we_find_results[papers_only_we_find_results.results_date.isnull()]),\\\n",
    "    'of those we find on PubMed, the rest on ClinicalTrials.gov'\n",
    "cols = ['nct_id', 'title', 'completion_date', 'pubmed_results_bmj', \n",
    "        'pmid', 'we_have_results', 'results_date']\n",
    "# papers_only_we_find_results.sample(20)[cols]\n",
    "papers_only_we_find_results[papers_only_we_find_results.results_date.isnull()].sample(10)[cols]"
   ]
  },
  {
   "cell_type": "code",
   "execution_count": null,
   "metadata": {
    "collapsed": true
   },
   "outputs": [],
   "source": []
  }
 ],
 "metadata": {
  "kernelspec": {
   "display_name": "Python 2",
   "language": "python",
   "name": "python2"
  },
  "language_info": {
   "codemirror_mode": {
    "name": "ipython",
    "version": 2
   },
   "file_extension": ".py",
   "mimetype": "text/x-python",
   "name": "python",
   "nbconvert_exporter": "python",
   "pygments_lexer": "ipython2",
   "version": "2.7.12"
  }
 },
 "nbformat": 4,
 "nbformat_minor": 0
}
