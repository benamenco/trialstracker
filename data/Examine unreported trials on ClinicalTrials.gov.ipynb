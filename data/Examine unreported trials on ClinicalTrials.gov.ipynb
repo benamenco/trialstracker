{
 "cells": [
  {
   "cell_type": "markdown",
   "metadata": {},
   "source": [
    "# Finding trials registered on ClinicalTrials.gov that do not have reported results\n",
    "\n",
    "Reporting of clinical trial results became mandatory for many trials in 2008. However [this paper](http://www.bmj.com/content/352/bmj.i637) and [this investigation](https://www.statnews.com/2015/12/13/clinical-trials-investigation/) both find that substantial numbers of clinical trials have not reported results, even for those trials where the FDAAA has made reporting mandatory.\n",
    "\n",
    "This notebook examines how many trials on ClinicalTrials.gov have had their results publicly reported. We have a broader definition of a trial that should report its results than the FDAAA. We count a trial as eligible for our analysis if:\n",
    "\n",
    "- it has overall status of 'Completed'\n",
    "- it has a study type of 'Interventional' \n",
    "- its completion date was after 1 Jan 2006, but is more than 24 months ago\n",
    "- it is phase 2 or later (or its phase is N/A, ie it's a trial of a device or a behavioural intervention)\n",
    "- it has no results disposition date (i.e. no application to delay results has been filed).\n",
    "\n",
    "We then classify it as overdue if it has no summary results attached on ClinicalTrials.gov, and no results on PubMed that are linked by NCT ID (see below). \n",
    "\n",
    "This is substantially broader than FDAAA, which covers only US-based trials of FDA-approved drugs. However, we think all trials should report their results, not just US-based trials, or FDA-approved drugs. In addition, FDAAA requires results to be reported within 12 months of copmletion, and we allow 24 months.\n",
    "\n",
    "ClinicalTrials.gov supplies notes on [how to find studies with results](https://clinicaltrials.gov/ct2/help/how-find/find-study-results) and [results in general](https://clinicaltrials.gov/ct2/about-site/results)."
   ]
  },
  {
   "cell_type": "code",
   "execution_count": 2,
   "metadata": {
    "collapsed": true
   },
   "outputs": [],
   "source": [
    "import csv\n",
    "from datetime import datetime\n",
    "from dateutil.relativedelta import relativedelta\n",
    "import glob\n",
    "from pprint import pprint\n",
    "import requests\n",
    "import StringIO\n",
    "import time\n",
    "import zipfile\n",
    "\n",
    "import numpy as np\n",
    "import pandas as pd\n",
    "from pyquery import PyQuery as pq\n",
    "from slugify import slugify\n",
    "from xml.etree import ElementTree"
   ]
  },
  {
   "cell_type": "markdown",
   "metadata": {},
   "source": [
    "## Obtain the raw XML data\n",
    "\n",
    "First, we get the raw XML trial summaries from ClinicalTrials.gov - this is supplied as a [single very large zip file](https://clinicaltrials.gov/search?studyxml=true), containing more than 200,000  XML files. ClinicalTrials.gov supplies [field definitions](https://prsinfo.clinicaltrials.gov/definitions.html)."
   ]
  },
  {
   "cell_type": "code",
   "execution_count": 3,
   "metadata": {
    "collapsed": false
   },
   "outputs": [
    {
     "name": "stdout",
     "output_type": "stream",
     "text": [
      "done\n"
     ]
    }
   ],
   "source": [
    "# Set this to True if you want to download the latest raw data. \n",
    "# TODO: make sure this code works, rather than doing it manually!\n",
    "REDOWNLOAD_XML = False\n",
    "if REDOWNLOAD_XML:\n",
    "    r = requests.get('https://clinicaltrials.gov/search?studyxml=true', stream=True)\n",
    "    if not r.ok:\n",
    "        print 'Problem downloading'\n",
    "    zip_ref = zipfile.ZipFile(StringIO.StringIO(r.content))\n",
    "    zip_ref.extractall('./data/search_result')\n",
    "    zip_ref.close()\n",
    "print 'done'"
   ]
  },
  {
   "cell_type": "markdown",
   "metadata": {},
   "source": [
    "## Create summary results file\n",
    "\n",
    "Extract the fields of interest from the XML summaries, and save them to a CSV file, which we'll use as our source data for the rest of this exercise. Note that this section is skipped by default, for the purposes of development. "
   ]
  },
  {
   "cell_type": "code",
   "execution_count": 4,
   "metadata": {
    "collapsed": false
   },
   "outputs": [
    {
     "name": "stdout",
     "output_type": "stream",
     "text": [
      "done\n"
     ]
    }
   ],
   "source": [
    "fname = 'trials.csv'\n",
    "REGENERATE_SUMMARY = False\n",
    "if REGENERATE_SUMMARY:\n",
    "    files = glob.glob('./data/search_result/*.xml')\n",
    "    fieldnames = ['nct_id', 'title', 'overall_status', \n",
    "                  'study_type', 'completion_date',\n",
    "                  'lead_sponsor', 'lead_sponsor_class',\n",
    "                  'collaborator', 'collaborator_class', \n",
    "                  'phase', 'locations', 'has_drug_intervention', 'drugs', \n",
    "                  'disposition_date', 'results_date', 'results_pmids', \n",
    "                  'enrollment']\n",
    "    trials = csv.DictWriter(open(fname, 'wb'), fieldnames=fieldnames)\n",
    "    trials.writeheader()\n",
    "    for i, f in enumerate(files):\n",
    "        if i % 50000 == 0:\n",
    "            print i, f\n",
    "#         print i, f\n",
    "        text = open(f, 'r').read()\n",
    "        d = pq(text, parser='xml')\n",
    "        data = {}\n",
    "        for f in fieldnames:\n",
    "            data[f] = None\n",
    "        \n",
    "        data['nct_id'] = d('nct_id').text()\n",
    "        data['title'] = d('brief_title').text().strip()\n",
    "        data['overall_status'] = d('overall_status').text().strip()\n",
    "        data['phase'] = d('phase').text().replace(\"Phase \", \"\")\n",
    "        \n",
    "        data['lead_sponsor'] = d('lead_sponsor agency').text()\n",
    "        data['lead_sponsor_class'] = d('lead_sponsor agency_class').text()\n",
    "        data['collaborator'] = d('collaborator')('agency').text()\n",
    "        data['collaborator_class'] = d('collaborator')('agency_class').text()\n",
    "        \n",
    "        data['study_type'] = d('study_type').text()\n",
    "        data['completion_date'] = d('primary_completion_date').text()\n",
    "        data['results_date'] = d('firstreceived_results_date').text()\n",
    "        data['results_pmids'] = d('results_reference PMID').text()  # Not used, see below.\n",
    "        data['enrollment'] = d('enrollment').text()\n",
    "        \n",
    "        # Not currently used, but might be useful in future. \n",
    "        data['has_drug_intervention'] = False\n",
    "        data['drugs'] = ''\n",
    "        for it in d('intervention'):\n",
    "            e = pq(it)\n",
    "            if e('intervention_type').text() == 'Drug':\n",
    "                data['has_drug_intervention'] = True\n",
    "                data['drugs'] += e('intervention_name').text() + '; '\n",
    "                \n",
    "        data['disposition_date'] = d('firstreceived_results_disposition_date').text()\n",
    "        data['locations'] =  d('location_countries country').text()\n",
    "\n",
    "        for k in data:\n",
    "            if data[k] and isinstance(data[k], basestring):\n",
    "                data[k] = data[k].encode('utf8')\n",
    "        trials.writerow(data)\n",
    "        \n",
    "print 'done'"
   ]
  },
  {
   "cell_type": "markdown",
   "metadata": {},
   "source": [
    "## Load data for analysis\n",
    "\n",
    "Normalise date fields, and load into Pandas.  "
   ]
  },
  {
   "cell_type": "code",
   "execution_count": 5,
   "metadata": {
    "collapsed": false
   },
   "outputs": [
    {
     "name": "stdout",
     "output_type": "stream",
     "text": [
      "227798 trials found\n"
     ]
    }
   ],
   "source": [
    "dtype = {'has_drug_intervention': bool, \n",
    "         'phase': str } \n",
    "datefields = ['completion_date', 'results_date', 'disposition_date']\n",
    "df = pd.read_csv(fname,\n",
    "                 parse_dates=datefields, \n",
    "                 infer_datetime_format=True,\n",
    "                 dtype=dtype)\n",
    "print len(df), 'trials found'"
   ]
  },
  {
   "cell_type": "code",
   "execution_count": 6,
   "metadata": {
    "collapsed": false
   },
   "outputs": [
    {
     "data": {
      "text/html": [
       "<div>\n",
       "<table border=\"1\" class=\"dataframe\">\n",
       "  <thead>\n",
       "    <tr style=\"text-align: right;\">\n",
       "      <th></th>\n",
       "      <th>nct_id</th>\n",
       "      <th>title</th>\n",
       "      <th>overall_status</th>\n",
       "      <th>study_type</th>\n",
       "      <th>completion_date</th>\n",
       "      <th>lead_sponsor</th>\n",
       "      <th>lead_sponsor_class</th>\n",
       "      <th>collaborator</th>\n",
       "      <th>collaborator_class</th>\n",
       "      <th>phase</th>\n",
       "      <th>locations</th>\n",
       "      <th>has_drug_intervention</th>\n",
       "      <th>drugs</th>\n",
       "      <th>disposition_date</th>\n",
       "      <th>results_date</th>\n",
       "      <th>results_pmids</th>\n",
       "      <th>enrollment</th>\n",
       "    </tr>\n",
       "  </thead>\n",
       "  <tbody>\n",
       "    <tr>\n",
       "      <th>227793</th>\n",
       "      <td>NCT02934282</td>\n",
       "      <td>HBOC-201 Expanded Access Protocol for Life-thr...</td>\n",
       "      <td>Temporarily not available</td>\n",
       "      <td>Expanded Access</td>\n",
       "      <td>NaT</td>\n",
       "      <td>University of Miami</td>\n",
       "      <td>Other</td>\n",
       "      <td>NaN</td>\n",
       "      <td>NaN</td>\n",
       "      <td>NaN</td>\n",
       "      <td>NaN</td>\n",
       "      <td>True</td>\n",
       "      <td>HBOC-201;</td>\n",
       "      <td>NaT</td>\n",
       "      <td>NaT</td>\n",
       "      <td>NaN</td>\n",
       "      <td>NaN</td>\n",
       "    </tr>\n",
       "    <tr>\n",
       "      <th>227794</th>\n",
       "      <td>NCT02934295</td>\n",
       "      <td>Study of Rubella Immunity. Response to Vaccina...</td>\n",
       "      <td>Active, not recruiting</td>\n",
       "      <td>Interventional</td>\n",
       "      <td>2014-05-01</td>\n",
       "      <td>Hopital Foch</td>\n",
       "      <td>Other</td>\n",
       "      <td>NaN</td>\n",
       "      <td>NaN</td>\n",
       "      <td>NaN</td>\n",
       "      <td>France</td>\n",
       "      <td>False</td>\n",
       "      <td>NaN</td>\n",
       "      <td>NaT</td>\n",
       "      <td>NaT</td>\n",
       "      <td>NaN</td>\n",
       "      <td>192.0</td>\n",
       "    </tr>\n",
       "    <tr>\n",
       "      <th>227795</th>\n",
       "      <td>NCT02934308</td>\n",
       "      <td>Comparison of the Skin Conductance Values and ...</td>\n",
       "      <td>Recruiting</td>\n",
       "      <td>Interventional</td>\n",
       "      <td>2017-09-01</td>\n",
       "      <td>Hopital Foch</td>\n",
       "      <td>Other</td>\n",
       "      <td>NaN</td>\n",
       "      <td>NaN</td>\n",
       "      <td>NaN</td>\n",
       "      <td>France</td>\n",
       "      <td>False</td>\n",
       "      <td>NaN</td>\n",
       "      <td>NaT</td>\n",
       "      <td>NaT</td>\n",
       "      <td>NaN</td>\n",
       "      <td>60.0</td>\n",
       "    </tr>\n",
       "    <tr>\n",
       "      <th>227796</th>\n",
       "      <td>NCT02934321</td>\n",
       "      <td>Assessment of Satiety Following Oral Administr...</td>\n",
       "      <td>Not yet recruiting</td>\n",
       "      <td>Interventional</td>\n",
       "      <td>2017-08-01</td>\n",
       "      <td>University of Florida</td>\n",
       "      <td>Other</td>\n",
       "      <td>NaN</td>\n",
       "      <td>NaN</td>\n",
       "      <td>NaN</td>\n",
       "      <td>United States</td>\n",
       "      <td>False</td>\n",
       "      <td>NaN</td>\n",
       "      <td>NaT</td>\n",
       "      <td>NaT</td>\n",
       "      <td>NaN</td>\n",
       "      <td>25.0</td>\n",
       "    </tr>\n",
       "    <tr>\n",
       "      <th>227797</th>\n",
       "      <td>NCT02934334</td>\n",
       "      <td>Wellness Monitoring for Major Depressive Disorder</td>\n",
       "      <td>Enrolling by invitation</td>\n",
       "      <td>Observational</td>\n",
       "      <td>2018-12-01</td>\n",
       "      <td>Sidney Kennedy</td>\n",
       "      <td>Other</td>\n",
       "      <td>NaN</td>\n",
       "      <td>NaN</td>\n",
       "      <td>NaN</td>\n",
       "      <td>Canada</td>\n",
       "      <td>False</td>\n",
       "      <td>NaN</td>\n",
       "      <td>NaT</td>\n",
       "      <td>NaT</td>\n",
       "      <td>NaN</td>\n",
       "      <td>100.0</td>\n",
       "    </tr>\n",
       "  </tbody>\n",
       "</table>\n",
       "</div>"
      ],
      "text/plain": [
       "             nct_id                                              title  \\\n",
       "227793  NCT02934282  HBOC-201 Expanded Access Protocol for Life-thr...   \n",
       "227794  NCT02934295  Study of Rubella Immunity. Response to Vaccina...   \n",
       "227795  NCT02934308  Comparison of the Skin Conductance Values and ...   \n",
       "227796  NCT02934321  Assessment of Satiety Following Oral Administr...   \n",
       "227797  NCT02934334  Wellness Monitoring for Major Depressive Disorder   \n",
       "\n",
       "                   overall_status       study_type completion_date  \\\n",
       "227793  Temporarily not available  Expanded Access             NaT   \n",
       "227794     Active, not recruiting   Interventional      2014-05-01   \n",
       "227795                 Recruiting   Interventional      2017-09-01   \n",
       "227796         Not yet recruiting   Interventional      2017-08-01   \n",
       "227797    Enrolling by invitation    Observational      2018-12-01   \n",
       "\n",
       "                 lead_sponsor lead_sponsor_class collaborator  \\\n",
       "227793    University of Miami              Other          NaN   \n",
       "227794           Hopital Foch              Other          NaN   \n",
       "227795           Hopital Foch              Other          NaN   \n",
       "227796  University of Florida              Other          NaN   \n",
       "227797         Sidney Kennedy              Other          NaN   \n",
       "\n",
       "       collaborator_class phase      locations has_drug_intervention  \\\n",
       "227793                NaN   NaN            NaN                  True   \n",
       "227794                NaN   NaN         France                 False   \n",
       "227795                NaN   NaN         France                 False   \n",
       "227796                NaN   NaN  United States                 False   \n",
       "227797                NaN   NaN         Canada                 False   \n",
       "\n",
       "             drugs disposition_date results_date results_pmids  enrollment  \n",
       "227793  HBOC-201;               NaT          NaT           NaN         NaN  \n",
       "227794         NaN              NaT          NaT           NaN       192.0  \n",
       "227795         NaN              NaT          NaT           NaN        60.0  \n",
       "227796         NaN              NaT          NaT           NaN        25.0  \n",
       "227797         NaN              NaT          NaT           NaN       100.0  "
      ]
     },
     "execution_count": 6,
     "metadata": {},
     "output_type": "execute_result"
    }
   ],
   "source": [
    "df.tail()"
   ]
  },
  {
   "cell_type": "code",
   "execution_count": 7,
   "metadata": {
    "collapsed": false
   },
   "outputs": [
    {
     "data": {
      "text/plain": [
       "5    102483\n",
       "2     40150\n",
       "1     33776\n",
       "3     26721\n",
       "4     22759\n",
       "0      1909\n",
       "Name: phase_normalised, dtype: int64"
      ]
     },
     "execution_count": 7,
     "metadata": {},
     "output_type": "execute_result"
    }
   ],
   "source": [
    "def normalise_phase(x):\n",
    "    # Set N/A (trials without phases, e.g. device trials) to 5 (i.e. later than \n",
    "    # phase 2, which is our cutoff for inclusion). And set phase 1/2 trials to 1.\n",
    "    if pd.isnull(x):\n",
    "        x = 5\n",
    "    return int(str(x).split('/')[0])\n",
    "assert normalise_phase(None) == 5\n",
    "assert normalise_phase('3') == 3\n",
    "assert normalise_phase('1/2') == 1\n",
    "df['phase_normalised'] = df['phase'].apply(normalise_phase)\n",
    "df.phase_normalised.value_counts()"
   ]
  },
  {
   "cell_type": "markdown",
   "metadata": {},
   "source": [
    "### Calculate whether trials are completed\n",
    "\n",
    "The criteria for counting a trial as completed are defined above.  "
   ]
  },
  {
   "cell_type": "code",
   "execution_count": 8,
   "metadata": {
    "collapsed": false
   },
   "outputs": [
    {
     "name": "stdout",
     "output_type": "stream",
     "text": [
      "Cutoff date 2014-10-17 11:47:58.705821\n",
      "227798 total trials found\n",
      "48966 are completed and due results, by our definition\n",
      "14304 trials due results have submitted results on CT.gov\n",
      "34662 trials due results have not submitted results on CT.gov\n"
     ]
    }
   ],
   "source": [
    "startdate = datetime.strptime('01 January 2006', '%d %B %Y')\n",
    "cutoff = datetime.now() - relativedelta(years=2)\n",
    "# cutoff = datetime.strptime('28 September 2014', '%d %B %Y') \n",
    "print 'Cutoff date', cutoff\n",
    "\n",
    "df['is_completed'] = (df.overall_status == 'Completed') & \\\n",
    "    (df.completion_date >= startdate) & \\\n",
    "    (df.completion_date <= cutoff) & \\\n",
    "    (df.phase_normalised >= 2) & \\\n",
    "    (df.disposition_date.isnull() & \\\n",
    "    (df.study_type.str.startswith('Interventional')))\n",
    "df['is_overdue'] = (df.is_completed & \\\n",
    "                    df.results_date.isnull())\n",
    "                    # & df.results_pmids.isnull())\n",
    "df_completed = df[df.is_completed] \n",
    "df_overdue = df[df.is_completed & df.results_date.isnull()]\n",
    "print len(df), 'total trials found'\n",
    "print len(df_completed), 'are completed and due results, by our definition'\n",
    "print len(df[df.is_completed & ~df.results_date.isnull()]), \\\n",
    "    'trials due results have submitted results on CT.gov'\n",
    "print len(df_overdue), \\\n",
    "    'trials due results have not submitted results on CT.gov'\n",
    "# print int(df_completed.enrollment.sum()), 'total patients enrolled in completed trials'\n",
    "# print int(df_overdue.enrollment.sum()), 'total patients enrolled in overdue trials'"
   ]
  },
  {
   "cell_type": "markdown",
   "metadata": {},
   "source": [
    "## Check for results on PubMed\n",
    "\n",
    "If trials have reported their results on PubMed, and if it's possible to find them on PubMed using either the NCT ID or the PMID, then we count those trials as having submitted results. \n",
    "\n",
    "So, for all trials that we regard as completed and due results, search PubMed using these two IDs, and look for that has been anything published between the completion date and now, and that don't have the words \"study protocol\" in the title. (There are a small number of protocols that word things slightly differently, but we'll live with being slightly too generous.)\n",
    "\n",
    "An example of a trial with results on PubMed: NCT02460380.  At the time of writing, about 14,000 of the 48,000 completed trials have results on PubMed. \n",
    "\n",
    "Note that we know from the BMJ studies that there are trials that do have results on PubMed, but that aren't linked using the NCT ID. The BMJ authors found these using a manual search. Some examples: `NCT00002762: 19487378`, `NCT00002879: 18470909`, `NCT00003134: 19066728`, `NCT00003596: 18430910`. We regard these as invalid, because you can only find results via an exhaustive manual search. We only count results as published for our purposes if they are either (i) submitted on ClinicalTrials.gov or (ii) retrievable on PubMed using the NCT ID. \n",
    "\n",
    "Note also that there are some trials that have results PMIDs directly in ClinicalTrials.gov, in the `results_reference` field of the XML. After discussion with Jess here, and Annice at ClinicalTrials.gov, I decided that these results are too often meaningless to be useful - lots of the time they aren't truly results, but are studies from years ago."
   ]
  },
  {
   "cell_type": "code",
   "execution_count": 20,
   "metadata": {
    "collapsed": false
   },
   "outputs": [
    {
     "name": "stdout",
     "output_type": "stream",
     "text": [
      "0 NCT00000176\n",
      "1000 NCT00094432\n",
      "2000 NCT00156026\n",
      "3000 NCT00220402\n",
      "4000 NCT00280475\n",
      "5000 NCT00345917\n",
      "6000 NCT00407095\n",
      "7000 NCT00471965\n",
      "8000 NCT00535756\n",
      "9000 NCT00604357\n",
      "10000 NCT00661310\n",
      "11000 NCT00719342\n",
      "12000 NCT00779493\n",
      "13000 NCT00834951\n",
      "14000 NCT00900718\n",
      "15000 NCT00956215\n",
      "16000 NCT01009112\n",
      "17000 NCT01065246\n",
      "18000 NCT01121692\n",
      "19000 NCT01179074\n",
      "20000 NCT01237795\n",
      "21000 NCT01297725\n",
      "22000 NCT01357265\n",
      "23000 NCT01421043\n",
      "24000 NCT01482273\n",
      "25000 NCT01544868\n",
      "26000 NCT01609491\n",
      "27000 NCT01681719\n",
      "28000 NCT01754077\n",
      "29000 NCT01826409\n",
      "30000 NCT01912430\n",
      "31000 NCT02010320\n",
      "32000 NCT02128464\n",
      "33000 NCT02301598\n",
      "34000 NCT02599181\n",
      "False    25742\n",
      "True      8920\n",
      "Name: pubmed_results, dtype: int64\n",
      "done\n"
     ]
    }
   ],
   "source": [
    "def get_pubmed_title(pmid):\n",
    "    '''\n",
    "    Retrieve the title of a PubMed article, from its PMID.\n",
    "    '''\n",
    "    url = 'http://eutils.ncbi.nlm.nih.gov/entrez/eutils/efetch.fcgi?'\n",
    "    url += 'db=pubmed&rettype=abstract&id=%s' % pmid\n",
    "    try:\n",
    "        resp = requests.get(url)\n",
    "    except ValueError, requests.ConnectionError:\n",
    "        print 'Error!', url\n",
    "        time.sleep(10)\n",
    "        return get_pubmed_title(pmid)\n",
    "    tree = ElementTree.fromstring(resp.content)\n",
    "    title = tree.find('.//Article/ArticleTitle')\n",
    "    if title is not None:\n",
    "        title = title.text.encode('utf8')\n",
    "    return title\n",
    "\n",
    "def get_pubmed_linked_articles(nct_id, completion_date):\n",
    "    '''\n",
    "    Given an NCT ID, search PubMed for related results articles.\n",
    "    '''\n",
    "    url = 'http://eutils.ncbi.nlm.nih.gov/entrez/eutils/'\n",
    "    url += 'esearch.fcgi?db=pubmed&retmode=json&term='\n",
    "    url += '%s[si] ' % nct_id\n",
    "    url += 'AND (\"%s\"[pdat] : ' % completion_date.strftime('%Y/%m/%d')\n",
    "    url += '\"3000\"[pdat]) '\n",
    "    try:\n",
    "        resp = requests.get(url)\n",
    "        data = resp.json()\n",
    "    except ValueError, requests.ConnectionError:\n",
    "        print 'Error!', url\n",
    "        time.sleep(10)\n",
    "        return get_pubmed_linked_articles(nct_id, completion_date)\n",
    "    esearchresult = data['esearchresult']\n",
    "    ids = []\n",
    "    if 'idlist' in esearchresult:\n",
    "        ids = esearchresult['idlist']\n",
    "#         if len(ids) > 0:\n",
    "#             print row['nct_id'], ids\n",
    "    return ids\n",
    "\n",
    "import sqlite3\n",
    "conn = sqlite3.connect('trials.db')\n",
    "cur = conn.cursor()  \n",
    "c = \"CREATE TABLE IF NOT EXISTS trials(nct_id TEXT PRIMARY KEY, pubmed_results BOOLEAN)\"\n",
    "cur.execute(c)\n",
    "conn.commit()\n",
    "\n",
    "# Only bother looking for PubMed results for overdue trials\n",
    "# (but set the value on the original dataframe).\n",
    "df['pubmed_results'] = False\n",
    "count = 0\n",
    "for i, row in df_overdue.iterrows():\n",
    "    if count % 1000 == 0:\n",
    "        print count, row.nct_id\n",
    "    count += 1\n",
    "    pubmed_results = False\n",
    "    # Check for results stored locally.\n",
    "    c = \"SELECT * FROM trials WHERE nct_id='%s'\" % row.nct_id\n",
    "    cur.execute(c)\n",
    "    data = cur.fetchone()\n",
    "    if data: # and data[1]: # change this to re-grab all from scratch\n",
    "#         print row.nct_id, 'results exist locally!'\n",
    "        pubmed_results = bool(data[1])\n",
    "    else:\n",
    "        # No local results, scrape PubMed.\n",
    "        results = get_pubmed_linked_articles(row.nct_id, row.completion_date)\n",
    "        if results:\n",
    "            pubmed_results = True\n",
    "            for r in results:\n",
    "                title = get_pubmed_title(r)\n",
    "                if title and 'study protocol' in title.lower():\n",
    "                    pubmed_results = False\n",
    "                else:\n",
    "                    # There's at least one PubMed article that isn't a\n",
    "                    # protocol, so we can break the loop.\n",
    "                    break\n",
    "    c = \"INSERT OR REPLACE INTO trials VALUES('%s', %s)\" % (row.nct_id, int(pubmed_results))\n",
    "    cur.execute(c)\n",
    "    conn.commit()\n",
    "    df.set_value(i, 'pubmed_results', pubmed_results) \n",
    "    \n",
    "cur.close()\n",
    "conn.close()\n",
    "print df[df.is_completed & df.results_date.isnull()].pubmed_results.value_counts()\n",
    "print 'done'"
   ]
  },
  {
   "cell_type": "markdown",
   "metadata": {},
   "source": [
    "### Calculate final overdue count\n",
    "\n",
    "Now we have looked for PubMed results, we can calculate the final overdue count."
   ]
  },
  {
   "cell_type": "code",
   "execution_count": 21,
   "metadata": {
    "collapsed": false
   },
   "outputs": [
    {
     "name": "stdout",
     "output_type": "stream",
     "text": [
      "25742 trials have not published results\n",
      "47.43% of completed trials have published results\n",
      "9212256 total patients are enrolled in overdue trials\n"
     ]
    }
   ],
   "source": [
    "df['is_overdue'] = (df.is_completed & df.results_date.isnull() & ~df.pubmed_results)\n",
    "df_overdue = df[df.is_overdue]\n",
    "print len(df_overdue), 'trials have not published results'\n",
    "percent_submitted = (1 - (len(df_overdue) / float(len(df_completed)))) * 100\n",
    "print '%s%% of completed trials have published results' % \\\n",
    "    '{:,.2f}'.format(percent_submitted)\n",
    "print int(df_overdue.enrollment.sum()), 'total patients are enrolled in overdue trials'"
   ]
  },
  {
   "cell_type": "markdown",
   "metadata": {},
   "source": [
    "## Write to CSV\n",
    "\n",
    "Output final results to a CSV file, which we will use in the interactive version. We reshape the data so it has a row for each sponsor, and columns by year - two columns for each year, one for the number of completed trials with overdue results, and one for the total completed trials. "
   ]
  },
  {
   "cell_type": "code",
   "execution_count": 25,
   "metadata": {
    "collapsed": false
   },
   "outputs": [
    {
     "name": "stderr",
     "output_type": "stream",
     "text": [
      "/Library/Python/2.7/site-packages/ipykernel/__main__.py:2: SettingWithCopyWarning: \n",
      "A value is trying to be set on a copy of a slice from a DataFrame.\n",
      "Try using .loc[row_indexer,col_indexer] = value instead\n",
      "\n",
      "See the caveats in the documentation: http://pandas.pydata.org/pandas-docs/stable/indexing.html#indexing-view-versus-copy\n",
      "  from ipykernel import kernelapp as app\n",
      "/Library/Python/2.7/site-packages/ipykernel/__main__.py:3: SettingWithCopyWarning: \n",
      "A value is trying to be set on a copy of a slice from a DataFrame.\n",
      "Try using .loc[row_indexer,col_indexer] = value instead\n",
      "\n",
      "See the caveats in the documentation: http://pandas.pydata.org/pandas-docs/stable/indexing.html#indexing-view-versus-copy\n",
      "  app.launch_new_instance()\n"
     ]
    }
   ],
   "source": [
    "# We're only interested in the completed trials, and we will divide the data up by year.\n",
    "df_completed['year_completed'] = df_completed['completion_date'].dt.year.dropna().astype(int)\n",
    "df_completed['year_completed'] = df_completed.year_completed.astype(int)\n",
    "\n",
    "# Drop all sponsors with fewer than 40 completed trials.\n",
    "NUM_TRIALS = 40\n",
    "df_final = df_completed[\n",
    "    df_completed.groupby('lead_sponsor').nct_id.transform(len) > NUM_TRIALS]\n",
    "\n",
    "# Now reshape the data: a row for each sponsor, columns by year:\n",
    "# lead_sponsor,2008_overdue,2008_total,2009_overdue,2009_total...\n",
    "df_temp = df_final.set_index(['lead_sponsor', 'year_completed']) \n",
    "gb = df_temp.groupby(level=[0, 1]).is_overdue\n",
    "df2 = gb.agg({'overdue': 'sum', 'total': 'count'}) \\\n",
    "          .unstack().swaplevel(0, 1, 1).sort_index(1)\n",
    "df2.columns = df2.columns.to_series().apply(lambda x: '{}_{}'.format(*x))\n",
    "df3 = df2.reset_index()\n",
    "df3['lead_sponsor_slug'] = df3.lead_sponsor.apply(slugify)\n",
    "df3.to_csv('../data/completed.csv', index=None)"
   ]
  },
  {
   "cell_type": "markdown",
   "metadata": {},
   "source": [
    "### TODO: Compare our results with PLOS/BMJ authors\n",
    "\n",
    "A [2016 BMJ paper](http://www.bmj.com/content/352/bmj.i637) found that around 65% of papers reprted results. They were looking at a subset of the papers we're including. They also used a manual search strategy which involved searching Scopus and manually comparing results. \n",
    "\n",
    "They have a higher match rate because they did manual search on keywords. "
   ]
  },
  {
   "cell_type": "code",
   "execution_count": null,
   "metadata": {
    "collapsed": true
   },
   "outputs": [],
   "source": [
    "from openpyxl import load_workbook\n",
    "import sys\n",
    "bmj_results = load_workbook(filename = './data/chen-bmj.xlsx')"
   ]
  },
  {
   "cell_type": "code",
   "execution_count": null,
   "metadata": {
    "collapsed": false
   },
   "outputs": [],
   "source": [
    "nct_ids = {}\n",
    "for sheet in bmj_results.worksheets:\n",
    "    for i, row in enumerate(sheet.rows):\n",
    "        if i == 0:\n",
    "            continue\n",
    "        if row[0].value:\n",
    "#             print row[0].value, row[6].value, type(row[6].value)\n",
    "            if isinstance(row[6].value, long):\n",
    "                nct_ids[row[0].value] = str(row[6].value)\n",
    "            else:\n",
    "                nct_ids[row[0].value] = row[6].value\n",
    "print len(nct_ids.keys()), 'NCT IDs found in the BMJ data'\n",
    "print sum(1 for x in nct_ids.values() if x), 'of these have PMIDs'"
   ]
  },
  {
   "cell_type": "code",
   "execution_count": null,
   "metadata": {
    "collapsed": false
   },
   "outputs": [],
   "source": [
    "bmj_pmids_missing_in_our_data = {}\n",
    "df_indexed = df_overdue.set_index('nct_id')[['pmid']]\n",
    "# print df_indexed.head(30)\n",
    "df_indexed_with_pmids = df_indexed[~df_indexed.pmid.isnull()]\n",
    "print len(df_indexed), 'trials missing results'\n",
    "print len(df_indexed_with_pmids), 'trials of these have PMIDs, according to the CT.gov XML'\n",
    "\n",
    "count_found = 0\n",
    "count_not_found = 0\n",
    "for k in nct_ids:\n",
    "    try:\n",
    "        row = df_indexed.loc[k]\n",
    "#         print k, row\n",
    "        count_found += 1\n",
    "    except KeyError:\n",
    "#         print k, 'not found'\n",
    "        count_not_found += 1\n",
    "        \n",
    "print count_found, 'of the BMJ PMIDs found in our data'\n",
    "print count_not_found, 'of the BMJ PMIDs not found in our data'\n",
    "#     # Check how many of these have PMID in our data.\n",
    "# # print nct_ids['NCT01001741']\n",
    "# # print nct_ids['NCT00145795']"
   ]
  }
 ],
 "metadata": {
  "kernelspec": {
   "display_name": "Python 2",
   "language": "python",
   "name": "python2"
  },
  "language_info": {
   "codemirror_mode": {
    "name": "ipython",
    "version": 2
   },
   "file_extension": ".py",
   "mimetype": "text/x-python",
   "name": "python",
   "nbconvert_exporter": "python",
   "pygments_lexer": "ipython2",
   "version": "2.7.10"
  }
 },
 "nbformat": 4,
 "nbformat_minor": 0
}
