{
 "cells": [
  {
   "cell_type": "markdown",
   "metadata": {},
   "source": [
    "# Finding trials registered on ClinicalTrials.gov that do not have reported results\n",
    "\n",
    "Reporting of clinical trial results became mandatory for many trials in 2008. However [this paper](http://www.bmj.com/content/352/bmj.i637) and [this investigation](https://www.statnews.com/2015/12/13/clinical-trials-investigation/) both find that substantial numbers of clinical trials have not reported results, even for those trials where the FDAAA has made reporting mandatory.\n",
    "\n",
    "This notebook examines how many trials on ClinicalTrials.gov have had their results publicly reported. We have a broader definition of a trial that should report its results than the FDAAA. We count a trial as eligible for our analysis if:\n",
    "\n",
    "- it has overall status of 'Completed'\n",
    "- it has a study type of 'Interventional' \n",
    "- its completion date was after 1 Jan 2006, but is more than 24 months ago\n",
    "- it is phase 2 or later (or its phase is N/A, ie it's a trial of a device or a behavioural intervention)\n",
    "- it has no results disposition date (i.e. no application to delay results has been filed).\n",
    "\n",
    "We then classify it as overdue if it has no summary results attached on ClinicalTrials.gov, and no results on PubMed that are linked by NCT ID (see below). \n",
    "\n",
    "This is substantially broader than FDAAA, which covers only US-based trials of FDA-approved drugs. However, we think all trials should report their results, not just US-based trials, or FDA-approved drugs. In addition, FDAAA requires results to be reported within 12 months of completion, and we allow 24 months.\n",
    "\n",
    "ClinicalTrials.gov supplies notes on [how to find studies with results](https://clinicaltrials.gov/ct2/help/how-find/find-study-results) and [results in general](https://clinicaltrials.gov/ct2/about-site/results)."
   ]
  },
  {
   "cell_type": "code",
   "execution_count": 1,
   "metadata": {
    "collapsed": true
   },
   "outputs": [],
   "source": [
    "import csv\n",
    "from datetime import datetime\n",
    "from dateutil.relativedelta import relativedelta\n",
    "import glob\n",
    "from pprint import pprint\n",
    "import requests\n",
    "import StringIO\n",
    "import time\n",
    "import zipfile\n",
    "\n",
    "import numpy as np\n",
    "import pandas as pd\n",
    "from pyquery import PyQuery as pq\n",
    "from slugify import slugify\n",
    "from xml.etree import ElementTree"
   ]
  },
  {
   "cell_type": "markdown",
   "metadata": {},
   "source": [
    "## Obtain the raw XML data\n",
    "\n",
    "First, we get the raw XML trial summaries from ClinicalTrials.gov - this is supplied as a [single very large zip file](https://clinicaltrials.gov/search?studyxml=true), containing more than 200,000  XML files. ClinicalTrials.gov supplies [field definitions](https://prsinfo.clinicaltrials.gov/definitions.html)."
   ]
  },
  {
   "cell_type": "code",
   "execution_count": 2,
   "metadata": {
    "collapsed": false
   },
   "outputs": [
    {
     "name": "stdout",
     "output_type": "stream",
     "text": [
      "done\n"
     ]
    }
   ],
   "source": [
    "# Set this to True if you want to download the latest raw data. \n",
    "# TODO: make sure this code works, rather than doing it manually!\n",
    "REDOWNLOAD_XML = False\n",
    "if REDOWNLOAD_XML:\n",
    "    r = requests.get('https://clinicaltrials.gov/search?studyxml=true', stream=True)\n",
    "    if not r.ok:\n",
    "        print 'Problem downloading'\n",
    "    zip_ref = zipfile.ZipFile(StringIO.StringIO(r.content))\n",
    "    zip_ref.extractall('./data/search_result')\n",
    "    zip_ref.close()\n",
    "print 'done'"
   ]
  },
  {
   "cell_type": "markdown",
   "metadata": {},
   "source": [
    "## Create summary results file\n",
    "\n",
    "Extract the fields of interest from the XML summaries, and save them to a CSV file, which we'll use as our source data for the rest of this exercise. Note that this section is skipped by default, for the purposes of development. "
   ]
  },
  {
   "cell_type": "code",
   "execution_count": 3,
   "metadata": {
    "collapsed": false
   },
   "outputs": [
    {
     "name": "stdout",
     "output_type": "stream",
     "text": [
      "done\n"
     ]
    }
   ],
   "source": [
    "fname = 'trials.csv'\n",
    "REGENERATE_SUMMARY = False\n",
    "if REGENERATE_SUMMARY:\n",
    "    files = glob.glob('./data/search_result/*.xml')\n",
    "    fieldnames = ['nct_id', 'title', 'overall_status', \n",
    "                  'study_type', 'completion_date',\n",
    "                  'lead_sponsor', 'lead_sponsor_class',\n",
    "                  'collaborator', 'collaborator_class', \n",
    "                  'phase', 'locations', 'has_drug_intervention', 'drugs', \n",
    "                  'disposition_date', 'results_date', \n",
    "                  'enrollment']\n",
    "    trials = csv.DictWriter(open(fname, 'wb'), fieldnames=fieldnames)\n",
    "    trials.writeheader()\n",
    "    for i, f in enumerate(files):\n",
    "        if i % 50000 == 0:\n",
    "            print i, f\n",
    "#         print i, f\n",
    "        text = open(f, 'r').read()\n",
    "        d = pq(text, parser='xml')\n",
    "        data = {}\n",
    "        for f in fieldnames:\n",
    "            data[f] = None\n",
    "        \n",
    "        data['nct_id'] = d('nct_id').text()\n",
    "        data['title'] = d('brief_title').text().strip()\n",
    "        data['overall_status'] = d('overall_status').text().strip()\n",
    "        data['phase'] = d('phase').text().replace(\"Phase \", \"\")\n",
    "        \n",
    "        data['lead_sponsor'] = d('lead_sponsor agency').text()\n",
    "        data['lead_sponsor_class'] = d('lead_sponsor agency_class').text()\n",
    "        data['collaborator'] = d('collaborator')('agency').text()\n",
    "        data['collaborator_class'] = d('collaborator')('agency_class').text()\n",
    "        \n",
    "        data['study_type'] = d('study_type').text()\n",
    "        data['completion_date'] = d('primary_completion_date').text()\n",
    "        data['results_date'] = d('firstreceived_results_date').text()\n",
    "        # Not used, see below for discussion of this field.\n",
    "        # data['results_pmids'] = d('results_reference PMID').text()  \n",
    "        data['enrollment'] = d('enrollment').text()\n",
    "        \n",
    "        # Not currently used, but might be useful in future. \n",
    "        data['has_drug_intervention'] = False\n",
    "        data['drugs'] = ''\n",
    "        for it in d('intervention'):\n",
    "            e = pq(it)\n",
    "            if e('intervention_type').text() == 'Drug':\n",
    "                data['has_drug_intervention'] = True\n",
    "                data['drugs'] += e('intervention_name').text() + '; '\n",
    "                \n",
    "        data['disposition_date'] = d('firstreceived_results_disposition_date').text()\n",
    "        data['locations'] =  d('location_countries country').text()\n",
    "\n",
    "        for k in data:\n",
    "            if data[k] and isinstance(data[k], basestring):\n",
    "                data[k] = data[k].encode('utf8')\n",
    "        trials.writerow(data)\n",
    "        \n",
    "print 'done'"
   ]
  },
  {
   "cell_type": "markdown",
   "metadata": {},
   "source": [
    "## Load data for analysis\n",
    "\n",
    "Normalise date fields, and load into Pandas.  "
   ]
  },
  {
   "cell_type": "code",
   "execution_count": 4,
   "metadata": {
    "collapsed": false
   },
   "outputs": [
    {
     "name": "stdout",
     "output_type": "stream",
     "text": [
      "227798 trials found\n"
     ]
    }
   ],
   "source": [
    "dtype = {'has_drug_intervention': bool, \n",
    "         'phase': str } \n",
    "datefields = ['completion_date', 'results_date', 'disposition_date']\n",
    "df = pd.read_csv(fname,\n",
    "                 parse_dates=datefields, \n",
    "                 infer_datetime_format=True,\n",
    "                 dtype=dtype)\n",
    "print len(df), 'trials found'"
   ]
  },
  {
   "cell_type": "code",
   "execution_count": 5,
   "metadata": {
    "collapsed": false
   },
   "outputs": [
    {
     "data": {
      "text/html": [
       "<div>\n",
       "<table border=\"1\" class=\"dataframe\">\n",
       "  <thead>\n",
       "    <tr style=\"text-align: right;\">\n",
       "      <th></th>\n",
       "      <th>nct_id</th>\n",
       "      <th>title</th>\n",
       "      <th>overall_status</th>\n",
       "      <th>study_type</th>\n",
       "      <th>completion_date</th>\n",
       "      <th>lead_sponsor</th>\n",
       "      <th>lead_sponsor_class</th>\n",
       "      <th>collaborator</th>\n",
       "      <th>collaborator_class</th>\n",
       "      <th>phase</th>\n",
       "      <th>locations</th>\n",
       "      <th>has_drug_intervention</th>\n",
       "      <th>drugs</th>\n",
       "      <th>disposition_date</th>\n",
       "      <th>results_date</th>\n",
       "      <th>results_pmids</th>\n",
       "      <th>enrollment</th>\n",
       "    </tr>\n",
       "  </thead>\n",
       "  <tbody>\n",
       "    <tr>\n",
       "      <th>227793</th>\n",
       "      <td>NCT02934282</td>\n",
       "      <td>HBOC-201 Expanded Access Protocol for Life-thr...</td>\n",
       "      <td>Temporarily not available</td>\n",
       "      <td>Expanded Access</td>\n",
       "      <td>NaT</td>\n",
       "      <td>University of Miami</td>\n",
       "      <td>Other</td>\n",
       "      <td>NaN</td>\n",
       "      <td>NaN</td>\n",
       "      <td>NaN</td>\n",
       "      <td>NaN</td>\n",
       "      <td>True</td>\n",
       "      <td>HBOC-201;</td>\n",
       "      <td>NaT</td>\n",
       "      <td>NaT</td>\n",
       "      <td>NaN</td>\n",
       "      <td>NaN</td>\n",
       "    </tr>\n",
       "    <tr>\n",
       "      <th>227794</th>\n",
       "      <td>NCT02934295</td>\n",
       "      <td>Study of Rubella Immunity. Response to Vaccina...</td>\n",
       "      <td>Active, not recruiting</td>\n",
       "      <td>Interventional</td>\n",
       "      <td>2014-05-01</td>\n",
       "      <td>Hopital Foch</td>\n",
       "      <td>Other</td>\n",
       "      <td>NaN</td>\n",
       "      <td>NaN</td>\n",
       "      <td>NaN</td>\n",
       "      <td>France</td>\n",
       "      <td>False</td>\n",
       "      <td>NaN</td>\n",
       "      <td>NaT</td>\n",
       "      <td>NaT</td>\n",
       "      <td>NaN</td>\n",
       "      <td>192.0</td>\n",
       "    </tr>\n",
       "    <tr>\n",
       "      <th>227795</th>\n",
       "      <td>NCT02934308</td>\n",
       "      <td>Comparison of the Skin Conductance Values and ...</td>\n",
       "      <td>Recruiting</td>\n",
       "      <td>Interventional</td>\n",
       "      <td>2017-09-01</td>\n",
       "      <td>Hopital Foch</td>\n",
       "      <td>Other</td>\n",
       "      <td>NaN</td>\n",
       "      <td>NaN</td>\n",
       "      <td>NaN</td>\n",
       "      <td>France</td>\n",
       "      <td>False</td>\n",
       "      <td>NaN</td>\n",
       "      <td>NaT</td>\n",
       "      <td>NaT</td>\n",
       "      <td>NaN</td>\n",
       "      <td>60.0</td>\n",
       "    </tr>\n",
       "    <tr>\n",
       "      <th>227796</th>\n",
       "      <td>NCT02934321</td>\n",
       "      <td>Assessment of Satiety Following Oral Administr...</td>\n",
       "      <td>Not yet recruiting</td>\n",
       "      <td>Interventional</td>\n",
       "      <td>2017-08-01</td>\n",
       "      <td>University of Florida</td>\n",
       "      <td>Other</td>\n",
       "      <td>NaN</td>\n",
       "      <td>NaN</td>\n",
       "      <td>NaN</td>\n",
       "      <td>United States</td>\n",
       "      <td>False</td>\n",
       "      <td>NaN</td>\n",
       "      <td>NaT</td>\n",
       "      <td>NaT</td>\n",
       "      <td>NaN</td>\n",
       "      <td>25.0</td>\n",
       "    </tr>\n",
       "    <tr>\n",
       "      <th>227797</th>\n",
       "      <td>NCT02934334</td>\n",
       "      <td>Wellness Monitoring for Major Depressive Disorder</td>\n",
       "      <td>Enrolling by invitation</td>\n",
       "      <td>Observational</td>\n",
       "      <td>2018-12-01</td>\n",
       "      <td>Sidney Kennedy</td>\n",
       "      <td>Other</td>\n",
       "      <td>NaN</td>\n",
       "      <td>NaN</td>\n",
       "      <td>NaN</td>\n",
       "      <td>Canada</td>\n",
       "      <td>False</td>\n",
       "      <td>NaN</td>\n",
       "      <td>NaT</td>\n",
       "      <td>NaT</td>\n",
       "      <td>NaN</td>\n",
       "      <td>100.0</td>\n",
       "    </tr>\n",
       "  </tbody>\n",
       "</table>\n",
       "</div>"
      ],
      "text/plain": [
       "             nct_id                                              title  \\\n",
       "227793  NCT02934282  HBOC-201 Expanded Access Protocol for Life-thr...   \n",
       "227794  NCT02934295  Study of Rubella Immunity. Response to Vaccina...   \n",
       "227795  NCT02934308  Comparison of the Skin Conductance Values and ...   \n",
       "227796  NCT02934321  Assessment of Satiety Following Oral Administr...   \n",
       "227797  NCT02934334  Wellness Monitoring for Major Depressive Disorder   \n",
       "\n",
       "                   overall_status       study_type completion_date  \\\n",
       "227793  Temporarily not available  Expanded Access             NaT   \n",
       "227794     Active, not recruiting   Interventional      2014-05-01   \n",
       "227795                 Recruiting   Interventional      2017-09-01   \n",
       "227796         Not yet recruiting   Interventional      2017-08-01   \n",
       "227797    Enrolling by invitation    Observational      2018-12-01   \n",
       "\n",
       "                 lead_sponsor lead_sponsor_class collaborator  \\\n",
       "227793    University of Miami              Other          NaN   \n",
       "227794           Hopital Foch              Other          NaN   \n",
       "227795           Hopital Foch              Other          NaN   \n",
       "227796  University of Florida              Other          NaN   \n",
       "227797         Sidney Kennedy              Other          NaN   \n",
       "\n",
       "       collaborator_class phase      locations has_drug_intervention  \\\n",
       "227793                NaN   NaN            NaN                  True   \n",
       "227794                NaN   NaN         France                 False   \n",
       "227795                NaN   NaN         France                 False   \n",
       "227796                NaN   NaN  United States                 False   \n",
       "227797                NaN   NaN         Canada                 False   \n",
       "\n",
       "             drugs disposition_date results_date results_pmids  enrollment  \n",
       "227793  HBOC-201;               NaT          NaT           NaN         NaN  \n",
       "227794         NaN              NaT          NaT           NaN       192.0  \n",
       "227795         NaN              NaT          NaT           NaN        60.0  \n",
       "227796         NaN              NaT          NaT           NaN        25.0  \n",
       "227797         NaN              NaT          NaT           NaN       100.0  "
      ]
     },
     "execution_count": 5,
     "metadata": {},
     "output_type": "execute_result"
    }
   ],
   "source": [
    "df.tail()"
   ]
  },
  {
   "cell_type": "code",
   "execution_count": 6,
   "metadata": {
    "collapsed": false
   },
   "outputs": [
    {
     "data": {
      "text/plain": [
       "5    102483\n",
       "2     40150\n",
       "1     33776\n",
       "3     26721\n",
       "4     22759\n",
       "0      1909\n",
       "Name: phase_normalised, dtype: int64"
      ]
     },
     "execution_count": 6,
     "metadata": {},
     "output_type": "execute_result"
    }
   ],
   "source": [
    "def normalise_phase(x):\n",
    "    # Set N/A (trials without phases, e.g. device trials) to 5 (i.e. later than \n",
    "    # phase 2, which is our cutoff for inclusion). And set phase 1/2 trials to 1.\n",
    "    if pd.isnull(x):\n",
    "        x = 5\n",
    "    return int(str(x).split('/')[0])\n",
    "assert normalise_phase(None) == 5\n",
    "assert normalise_phase('3') == 3\n",
    "assert normalise_phase('1/2') == 1\n",
    "df['phase_normalised'] = df['phase'].apply(normalise_phase)\n",
    "df.phase_normalised.value_counts()"
   ]
  },
  {
   "cell_type": "markdown",
   "metadata": {},
   "source": [
    "### Calculate whether trials are completed\n",
    "\n",
    "The criteria for counting a trial as completed are defined above.  "
   ]
  },
  {
   "cell_type": "code",
   "execution_count": 7,
   "metadata": {
    "collapsed": false
   },
   "outputs": [
    {
     "name": "stdout",
     "output_type": "stream",
     "text": [
      "Cutoff date 2014-10-21 13:35:59.519152\n",
      "227798 total trials found\n",
      "48966 are completed and due results, by our definition\n",
      "14304 trials due results have submitted results on CT.gov\n",
      "34662 trials due results have not submitted results on CT.gov\n"
     ]
    }
   ],
   "source": [
    "startdate = datetime.strptime('01 January 2006', '%d %B %Y')\n",
    "cutoff = datetime.now() - relativedelta(years=2)\n",
    "# cutoff = datetime.strptime('28 September 2014', '%d %B %Y') \n",
    "print 'Cutoff date', cutoff\n",
    "\n",
    "df['is_completed'] = (df.overall_status == 'Completed') & \\\n",
    "    (df.completion_date >= startdate) & \\\n",
    "    (df.completion_date <= cutoff) & \\\n",
    "    (df.phase_normalised >= 2) & \\\n",
    "    (df.disposition_date.isnull() & \\\n",
    "    (df.study_type.str.startswith('Interventional')))\n",
    "df['is_overdue'] = (df.is_completed & \\\n",
    "                    df.results_date.isnull())\n",
    "                    # & df.results_pmids.isnull())\n",
    "df_completed = df[df.is_completed] \n",
    "df_overdue = df[df.is_completed & df.results_date.isnull()]\n",
    "print len(df), 'total trials found'\n",
    "print len(df_completed), 'are completed and due results, by our definition'\n",
    "print len(df[df.is_completed & ~df.results_date.isnull()]), \\\n",
    "    'trials due results have submitted results on CT.gov'\n",
    "print len(df_overdue), \\\n",
    "    'trials due results have not submitted results on CT.gov'\n",
    "# print int(df_completed.enrollment.sum()), 'total patients enrolled in completed trials'\n",
    "# print int(df_overdue.enrollment.sum()), 'total patients enrolled in overdue trials'"
   ]
  },
  {
   "cell_type": "markdown",
   "metadata": {},
   "source": [
    "## Check for results on PubMed\n",
    "\n",
    "If trials have reported their results on PubMed, and if it's possible [to find them on PubMed using a linked NCT ID](https://www.nlm.nih.gov/bsd/policy/clin_trials.html), then we count those trials as having submitted results. \n",
    "\n",
    "So, for all trials that we regard as completed and due results, search PubMed using these two IDs, and look for that has been anything published between the completion date and now, that don't have the words \"study protocol\" in the title, and that are [classified as results of a trial (using the clinical keyword \"therapy\")](https://www.ncbi.nlm.nih.gov/books/NBK3827/#pubmedhelp.Clinical_Queries_Filters). \n",
    "\n",
    "At the time of writing, about 14,000 of the 48,000 completed trials have results on PubMed. An example of a trial with results on PubMed: [NCT02460380](https://www.ncbi.nlm.nih.gov/pubmed/?term=NCT00000619%5BSecondary%20Source%20ID%5D%20AND%20(%222010%2F07%2F01%22%5BPDAT%5D%20%3A%20%223000%22%5BPDAT%5D)&cmd=DetailsSearch} (TODO: Update this). \n",
    "\n",
    "Note 1: we know from the BMJ studies that there are trials that do have results on PubMed, but that aren't linked using the NCT ID. The BMJ authors found these using a manual search. Some examples: `NCT00002762: 19487378`, `NCT00002879: 18470909`, `NCT00003134: 19066728`, `NCT00003596: 18430910`. We regard these as invalid, because you can only find results via an exhaustive manual search. We only count results as published for our purposes if they are either (i) submitted on ClinicalTrials.gov or (ii) retrievable on PubMed using the NCT ID. \n",
    "\n",
    "Note 2: we know there are some trials that have results PMIDs directly in ClinicalTrials.gov, in the `results_reference` field of the XML. After discussion with Jess here, and Annice at ClinicalTrials.gov, I decided that these results are too often meaningless to be useful - lots of the time they aren't truly results, but are studies from years ago."
   ]
  },
  {
   "cell_type": "code",
   "execution_count": 8,
   "metadata": {
    "collapsed": false
   },
   "outputs": [
    {
     "name": "stdout",
     "output_type": "stream",
     "text": [
      "0 NCT00000176\n",
      "1000 NCT00094432\n",
      "2000 NCT00156026\n",
      "3000 NCT00220402\n",
      "4000 NCT00280475\n",
      "5000 NCT00345917\n",
      "6000 NCT00407095\n",
      "7000 NCT00471965\n",
      "8000 NCT00535756\n",
      "9000 NCT00604357\n",
      "10000 NCT00661310\n",
      "11000 NCT00719342\n",
      "12000 NCT00779493\n",
      "13000 NCT00834951\n",
      "14000 NCT00900718\n",
      "15000 NCT00956215\n",
      "16000 NCT01009112\n",
      "17000 NCT01065246\n",
      "18000 NCT01121692\n",
      "19000 NCT01179074\n",
      "20000 NCT01237795\n",
      "21000 NCT01297725\n",
      "22000 NCT01357265\n",
      "23000 NCT01421043\n",
      "24000 NCT01482273\n",
      "25000 NCT01544868\n",
      "26000 NCT01609491\n",
      "27000 NCT01681719\n",
      "28000 NCT01754077\n",
      "29000 NCT01826409\n",
      "30000 NCT01912430\n",
      "31000 NCT02010320\n",
      "32000 NCT02128464\n",
      "33000 NCT02301598\n",
      "34000 NCT02599181\n",
      "False    25739\n",
      "True      8923\n",
      "Name: pubmed_results, dtype: int64\n",
      "done\n"
     ]
    }
   ],
   "source": [
    "def get_pubmed_title(pmid):\n",
    "    '''\n",
    "    Retrieve the title of a PubMed article, from its PMID.\n",
    "    '''\n",
    "    url = 'http://eutils.ncbi.nlm.nih.gov/entrez/eutils/efetch.fcgi?'\n",
    "    url += 'db=pubmed&rettype=abstract&id=%s' % pmid\n",
    "    try:\n",
    "        resp = requests.get(url)\n",
    "    except ValueError, requests.ConnectionError:\n",
    "        print 'Error!', url\n",
    "        time.sleep(10)\n",
    "        return get_pubmed_title(pmid)\n",
    "    try:\n",
    "        tree = ElementTree.fromstring(resp.content)\n",
    "        title = tree.find('.//Article/ArticleTitle')\n",
    "        if title is not None:\n",
    "            title = title.text.encode('utf8')\n",
    "    except ElementTree.ParseError:\n",
    "        print 'ParseError', url\n",
    "        title = ''\n",
    "    return title\n",
    "\n",
    "def get_pubmed_linked_articles(nct_id, completion_date, query_type):\n",
    "    '''\n",
    "    Given an NCT ID, search PubMed for related results articles.\n",
    "    '''\n",
    "    url = 'http://eutils.ncbi.nlm.nih.gov/entrez/eutils/'\n",
    "    url += 'esearch.fcgi?db=pubmed&retmode=json&term='\n",
    "    url += '(%s[si] OR %s[Title/Abstract]) ' % (nct_id, nct_id)\n",
    "    url += 'AND (\"%s\"[pdat] : ' % completion_date.strftime('%Y/%m/%d')\n",
    "    url += '\"3000\"[pdat])'\n",
    "#     print url\n",
    "    if query_type == 'broad':\n",
    "        url += \"AND ((clinical[Title/Abstract] AND trial[Title/Abstract]) OR clinical trials as topic[MeSH Terms] OR clinical trial[Publication Type] OR random*[Title/Abstract] OR random allocation[MeSH Terms] OR therapeutic use[MeSH Subheading])\"\n",
    "    elif query_type == 'narrow':\n",
    "        url += \"AND (randomized controlled trial[Publication Type] OR (randomized[Title/Abstract] AND controlled[Title/Abstract] AND trial[Title/Abstract]))\"     \n",
    "    try:\n",
    "        resp = requests.get(url)\n",
    "        data = resp.json()\n",
    "    except (ValueError, requests.ConnectionError) as e:\n",
    "        print 'Error!', url\n",
    "        time.sleep(10)\n",
    "        return get_pubmed_linked_articles(nct_id, completion_date, query_type)\n",
    "    esearchresult = data['esearchresult']\n",
    "    ids = []\n",
    "    if 'idlist' in esearchresult:\n",
    "        ids = esearchresult['idlist']\n",
    "        for id1 in ids[:]:\n",
    "            title = get_pubmed_title(id1)\n",
    "            if title and 'study protocol' in title.lower():\n",
    "                ids.remove(id1)\n",
    "    return ids\n",
    "\n",
    "import sqlite3\n",
    "conn = sqlite3.connect('trials-title.db')\n",
    "cur = conn.cursor()  \n",
    "c = \"CREATE TABLE IF NOT EXISTS trials(nct_id TEXT PRIMARY KEY, \"\n",
    "c += \"pubmed_results INT, pubmed_results_broad INT, pubmed_results_narrow INT)\"\n",
    "cur.execute(c)\n",
    "conn.commit()\n",
    "\n",
    "REGENERATE_PUBMED_LINKS = False\n",
    "\n",
    "# Only bother looking for PubMed results for overdue trials\n",
    "# (but set the value on the original dataframe).\n",
    "df['pubmed_results'] = False\n",
    "count = 0\n",
    "for i, row in df_overdue.iterrows():\n",
    "    if count % 1000 == 0:\n",
    "        print count, row.nct_id\n",
    "    count += 1\n",
    "    \n",
    "#     pubmed_results = False\n",
    "    # First, check for results stored locally.\n",
    "    c = \"SELECT nct_id, pubmed_results, pubmed_results_broad, pubmed_results_narrow FROM trials WHERE nct_id='%s'\" % row.nct_id\n",
    "    cur.execute(c)\n",
    "    data = cur.fetchone()\n",
    "#     data = False\n",
    "    if data: \n",
    "        simple_results = int(data[1])\n",
    "#         if REGENERATE_PUBMED_LINKS and data[1]:\n",
    "#                 pubmed_results = bool(data[1])\n",
    "#         else:\n",
    "#             pubmed_results = bool(data[1])\n",
    "    else:\n",
    "        # No local results, check PubMed.\n",
    "#         print row.nct_id, row.completion_date\n",
    "        simple_results = get_pubmed_linked_articles(row.nct_id, row.completion_date, '')\n",
    "        broad_results = get_pubmed_linked_articles(row.nct_id, row.completion_date, 'broad')\n",
    "        narrow_results = get_pubmed_linked_articles(row.nct_id, row.completion_date, 'narrow')\n",
    "#     c = \"INSERT OR REPLACE INTO trials VALUES('%s', %s, %s, %s)\" % \\\n",
    "#         (row.nct_id, len(simple_results), len(broad_results), len(narrow_results))\n",
    "#     cur.execute(c)\n",
    "#     conn.commit()\n",
    "    has_simple_results = simple_results > 0\n",
    "    df.set_value(i, 'pubmed_results', has_simple_results) \n",
    "    \n",
    "cur.close()\n",
    "conn.close()\n",
    "print df[df.is_completed & df.results_date.isnull()].pubmed_results.value_counts()\n",
    "print 'done' "
   ]
  },
  {
   "cell_type": "markdown",
   "metadata": {},
   "source": [
    "### Calculate final overdue count\n",
    "\n",
    "Now we have looked for PubMed results, we can calculate the final overdue count."
   ]
  },
  {
   "cell_type": "code",
   "execution_count": 9,
   "metadata": {
    "collapsed": false
   },
   "outputs": [
    {
     "name": "stdout",
     "output_type": "stream",
     "text": [
      "48966 trials should have published results\n",
      "False    202059\n",
      "True      25739\n",
      "Name: is_overdue, dtype: int64\n",
      "25739 trials have not published results\n",
      "47.43% of completed trials have published results\n",
      "9211069 total patients are enrolled in overdue trials\n"
     ]
    }
   ],
   "source": [
    "df['is_overdue'] = (df.is_completed & df.results_date.isnull() & ~df.pubmed_results)\n",
    "# Reset df_completed, because df has new fields that we need to include.\n",
    "df_completed = df[df.is_completed]\n",
    "print len(df_completed), 'trials should have published results'\n",
    "print df.is_overdue.value_counts()\n",
    "df_overdue = df[df.is_overdue]\n",
    "print len(df_overdue), 'trials have not published results'\n",
    "percent_submitted = (1 - (len(df_overdue) / float(len(df_completed)))) * 100\n",
    "print '%s%% of completed trials have published results' % \\\n",
    "    '{:,.2f}'.format(percent_submitted)\n",
    "print int(df_overdue.enrollment.sum()), 'total patients are enrolled in overdue trials'"
   ]
  },
  {
   "cell_type": "markdown",
   "metadata": {},
   "source": [
    "## Write to CSV\n",
    "\n",
    "Output final results to a CSV file, which we will use in the interactive version. We reshape the data so it has a row for each sponsor, and columns by year - two columns for each year, one for the number of completed trials with overdue results, and one for the total completed trials. "
   ]
  },
  {
   "cell_type": "code",
   "execution_count": 10,
   "metadata": {
    "collapsed": false
   },
   "outputs": [
    {
     "name": "stdout",
     "output_type": "stream",
     "text": [
      "1341 sponsors found at 5 trials\n"
     ]
    },
    {
     "name": "stderr",
     "output_type": "stream",
     "text": [
      "/Library/Python/2.7/site-packages/ipykernel/__main__.py:2: SettingWithCopyWarning: \n",
      "A value is trying to be set on a copy of a slice from a DataFrame.\n",
      "Try using .loc[row_indexer,col_indexer] = value instead\n",
      "\n",
      "See the caveats in the documentation: http://pandas.pydata.org/pandas-docs/stable/indexing.html#indexing-view-versus-copy\n",
      "  from ipykernel import kernelapp as app\n",
      "/Library/Python/2.7/site-packages/ipykernel/__main__.py:3: SettingWithCopyWarning: \n",
      "A value is trying to be set on a copy of a slice from a DataFrame.\n",
      "Try using .loc[row_indexer,col_indexer] = value instead\n",
      "\n",
      "See the caveats in the documentation: http://pandas.pydata.org/pandas-docs/stable/indexing.html#indexing-view-versus-copy\n",
      "  app.launch_new_instance()\n"
     ]
    }
   ],
   "source": [
    "# We're only interested in the completed trials, and we will divide the data up by year.\n",
    "df_completed['year_completed'] = df_completed['completion_date'].dt.year.dropna().astype(int)\n",
    "df_completed['year_completed'] = df_completed.year_completed.astype(int)\n",
    "\n",
    "# Drop all sponsors with fewer than N completed trials.\n",
    "NUM_TRIALS = 5\n",
    "df_final = df_completed[\n",
    "    df_completed.groupby('lead_sponsor').nct_id.transform(len) > NUM_TRIALS]\n",
    "\n",
    "# Now reshape the data: a row for each sponsor, columns by year:\n",
    "# lead_sponsor,2008_overdue,2008_total,2009_overdue,2009_total...\n",
    "df_temp = df_final.set_index(['lead_sponsor', 'year_completed']) \n",
    "gb = df_temp.groupby(level=[0, 1]).is_overdue\n",
    "df2 = gb.agg({'overdue': 'sum', 'total': 'count'}) \\\n",
    "          .unstack().swaplevel(0, 1, 1).sort_index(1)\n",
    "df2.columns = df2.columns.to_series().apply(lambda x: '{}_{}'.format(*x))\n",
    "df3 = df2.reset_index()\n",
    "df3['lead_sponsor_slug'] = df3.lead_sponsor.apply(slugify)\n",
    "df3.to_csv('../app/data/completed.csv', index=None)\n",
    "print len(df3), 'sponsors found at %s trials' % NUM_TRIALS\n",
    "\n",
    "# Write the raw output to a full spreadsheet. \n",
    "df.to_csv('all.csv', index=None)"
   ]
  },
  {
   "cell_type": "markdown",
   "metadata": {},
   "source": [
    "## For refernece: Compare our results with BMJ authors\n",
    "\n",
    "A [2016 BMJ paper](http://www.bmj.com/content/352/bmj.i637) found that around 65% of papers reprted results. \"Overall, 2892 of the 4347 clinical trials (66.5%) had been published or reported results as of July 2014.\" \n",
    "\n",
    "Excellently, the BMJ authors [publish their raw data on DataDryad](http://datadryad.org/resource/doi:10.5061/dryad.6n018) so we can compare our results with theirs, to get an idea of the difference between our automated strategy and their partially manual strategy. (However, in their reported data it looks to me like the matched PMID rate is 59.9% of all NCT IDs.)\n",
    "\n",
    "The BMJ authors were looking at a much smaller set of papers than us, because they focussed on academic medical centres. Their set is slightly different, because they include pre-Phase-2 trials. They also used a manual search strategy which involved searching Scopus and manually comparing results. "
   ]
  },
  {
   "cell_type": "code",
   "execution_count": 63,
   "metadata": {
    "collapsed": false
   },
   "outputs": [],
   "source": [
    "from openpyxl import load_workbook\n",
    "import sys\n",
    "bmj_results = load_workbook(filename = './chen-bmj.xlsx')"
   ]
  },
  {
   "cell_type": "code",
   "execution_count": 90,
   "metadata": {
    "collapsed": false
   },
   "outputs": [
    {
     "name": "stdout",
     "output_type": "stream",
     "text": [
      "4347 rows found in total\n",
      "2452 of those rows have a PMID\n",
      "56.4067172763 per cent of their NCT IDs have a PMID, including duplicates\n",
      "\n",
      "4092 unique NCT IDs found in all rows\n",
      "2295 of these have PMIDs\n",
      "56.0850439883 per cent of their NCT IDs have a PMID, not including duplicates\n"
     ]
    }
   ],
   "source": [
    "nct_ids = {}\n",
    "count = 0\n",
    "has_pmid = 0\n",
    "\n",
    "# The Excel data has multiple worksheets, sigh. \n",
    "# And NCT IDs can occur more than once with different results, sigh.\n",
    "# We only care about where there's at least one result.\n",
    "for sheet in bmj_results.worksheets:\n",
    "    for i, row in enumerate(sheet.rows):\n",
    "        if i == 0:\n",
    "            continue\n",
    "        if row[0].value:\n",
    "            count += 1\n",
    "#             print row[0].value, row[6].value, type(row[6].value)\n",
    "            if isinstance(row[6].value, long):\n",
    "                val = str(row[6].value)\n",
    "            else:\n",
    "                val = row[6].value\n",
    "#             print row[0].value, val\n",
    "            if val:\n",
    "                has_pmid += 1\n",
    "            # Always set val if it exists.\n",
    "            # Otherwise, only set val if there's no existing value.\n",
    "            if val:\n",
    "                nct_ids[row[0].value] = val\n",
    "            else:\n",
    "                if not row[0].value in nct_ids:\n",
    "                    nct_ids[row[0].value] = val\n",
    "\n",
    "\n",
    "\n",
    "print count, 'rows found in total'\n",
    "print has_pmid, 'of those rows have a PMID'\n",
    "print has_pmid / float(count) * 100, 'per cent of their NCT IDs have a PMID, including duplicates'\n",
    "print\n",
    "unique_nct_ids = len(nct_ids.keys())\n",
    "print unique_nct_ids, 'unique NCT IDs found in all rows'\n",
    "pmids_found = sum(1 for x in nct_ids.values() if x)\n",
    "print pmids_found, 'of these have PMIDs'\n",
    "print pmids_found / float(unique_nct_ids) * 100, 'per cent of their NCT IDs have a PMID, not including duplicates'"
   ]
  },
  {
   "cell_type": "markdown",
   "metadata": {},
   "source": [
    "### Compare with our data\n",
    "\n",
    "Now examine: \n",
    "\n",
    "* of the NCT IDs for which BMJ authors find PubMed results, how many we also find PubMed results for\n",
    "* of the same dataset, how many *only BMJ* find results for\n",
    "* of the NCT IDs for which BMJ authors do not find PubMed results, how many we do find PubMed results"
   ]
  },
  {
   "cell_type": "code",
   "execution_count": 91,
   "metadata": {
    "collapsed": false
   },
   "outputs": [
    {
     "name": "stdout",
     "output_type": "stream",
     "text": [
      "4092 NCT IDs in the full BMJ dataset\n",
      "2561 NCT IDs are in both the BMJ dataset and ours\n",
      "369 we both find results for\n",
      "1277 only they find results for\n",
      "42 only we find results for\n"
     ]
    }
   ],
   "source": [
    "df_bmj = pd.Series(nct_ids).to_frame(name='pmid')\n",
    "df_bmj['pubmed_results'] = ~df_bmj.pmid.isnull()\n",
    "df_bmj.index.name = 'nct_id'\n",
    "df_bmj.reset_index(inplace=True)\n",
    "print len(df_bmj), 'NCT IDs in the full BMJ dataset'\n",
    "# df_bmj.head(20)\n",
    "\n",
    "merged_results = \\\n",
    "    pd.merge(df_bmj, df_completed, #[['nct_id', 'pubmed_results']], \n",
    "             on='nct_id', how='inner', suffixes=('_bmj', '_ours'))\n",
    "    \n",
    "# NB I tried this first with a left join: but 1521 out of the 4500 papers \n",
    "# just don't appear in our dataset. This seems to be because the BMJ\n",
    "# paper includes earlier-phase trials. To get a sample after a left join...\n",
    "# merged_results[merged_results.pubmed_results_ours.isnull()].head()\n",
    "\n",
    "merged_results.pubmed_results_ours.value_counts(dropna=False)\n",
    "# merged_results.head()\n",
    "print len(merged_results), 'NCT IDs are in both the BMJ dataset and ours'\n",
    "papers_both_find_pm_results = \\\n",
    "    merged_results[merged_results.pubmed_results_bmj & merged_results.pubmed_results_ours]\n",
    "papers_both_find_pm_results.head()\n",
    "print len(papers_both_find_pm_results), 'we both find results for'\n",
    "papers_only_they_find_results = \\\n",
    "    merged_results[merged_results.pubmed_results_bmj & ~merged_results.pubmed_results_ours]\n",
    "print len(papers_only_they_find_results), 'only they find results for'  \n",
    "papers_only_we_find_results = \\\n",
    "    merged_results[~merged_results.pubmed_results_bmj & merged_results.pubmed_results_ours]\n",
    "print len(papers_only_we_find_results), 'only we find results for'"
   ]
  },
  {
   "cell_type": "code",
   "execution_count": 94,
   "metadata": {
    "collapsed": false
   },
   "outputs": [
    {
     "data": {
      "text/html": [
       "<div>\n",
       "<table border=\"1\" class=\"dataframe\">\n",
       "  <thead>\n",
       "    <tr style=\"text-align: right;\">\n",
       "      <th></th>\n",
       "      <th>nct_id</th>\n",
       "      <th>title</th>\n",
       "      <th>pubmed_results_bmj</th>\n",
       "      <th>pmid</th>\n",
       "      <th>pubmed_results_ours</th>\n",
       "    </tr>\n",
       "  </thead>\n",
       "  <tbody>\n",
       "    <tr>\n",
       "      <th>1</th>\n",
       "      <td>NCT00000620</td>\n",
       "      <td>Action to Control Cardiovascular Risk in Diabe...</td>\n",
       "      <td>True</td>\n",
       "      <td>18539917</td>\n",
       "      <td>False</td>\n",
       "    </tr>\n",
       "    <tr>\n",
       "      <th>2</th>\n",
       "      <td>NCT00002684</td>\n",
       "      <td>Combination Chemotherapy in Patients With Adva...</td>\n",
       "      <td>True</td>\n",
       "      <td>17320659</td>\n",
       "      <td>False</td>\n",
       "    </tr>\n",
       "    <tr>\n",
       "      <th>3</th>\n",
       "      <td>NCT00002717</td>\n",
       "      <td>Paclitaxel and Cisplatin in Treating Patients ...</td>\n",
       "      <td>True</td>\n",
       "      <td>17906207</td>\n",
       "      <td>False</td>\n",
       "    </tr>\n",
       "    <tr>\n",
       "      <th>4</th>\n",
       "      <td>NCT00002879</td>\n",
       "      <td>Cladribine in Patients With Mantle Cell Lymphoma</td>\n",
       "      <td>True</td>\n",
       "      <td>18470909</td>\n",
       "      <td>False</td>\n",
       "    </tr>\n",
       "    <tr>\n",
       "      <th>5</th>\n",
       "      <td>NCT00003134</td>\n",
       "      <td>Irinotecan in Treating Patients With Recurrent...</td>\n",
       "      <td>True</td>\n",
       "      <td>19066728</td>\n",
       "      <td>False</td>\n",
       "    </tr>\n",
       "  </tbody>\n",
       "</table>\n",
       "</div>"
      ],
      "text/plain": [
       "        nct_id                                              title  \\\n",
       "1  NCT00000620  Action to Control Cardiovascular Risk in Diabe...   \n",
       "2  NCT00002684  Combination Chemotherapy in Patients With Adva...   \n",
       "3  NCT00002717  Paclitaxel and Cisplatin in Treating Patients ...   \n",
       "4  NCT00002879   Cladribine in Patients With Mantle Cell Lymphoma   \n",
       "5  NCT00003134  Irinotecan in Treating Patients With Recurrent...   \n",
       "\n",
       "  pubmed_results_bmj      pmid pubmed_results_ours  \n",
       "1               True  18539917               False  \n",
       "2               True  17320659               False  \n",
       "3               True  17906207               False  \n",
       "4               True  18470909               False  \n",
       "5               True  19066728               False  "
      ]
     },
     "execution_count": 94,
     "metadata": {},
     "output_type": "execute_result"
    }
   ],
   "source": [
    "cols = ['nct_id', 'title', 'pubmed_results_bmj', 'pmid', 'pubmed_results_ours']\n",
    "papers_only_they_find_results.head()[cols]"
   ]
  },
  {
   "cell_type": "code",
   "execution_count": null,
   "metadata": {
    "collapsed": true
   },
   "outputs": [],
   "source": []
  }
 ],
 "metadata": {
  "kernelspec": {
   "display_name": "Python 2",
   "language": "python",
   "name": "python2"
  },
  "language_info": {
   "codemirror_mode": {
    "name": "ipython",
    "version": 2
   },
   "file_extension": ".py",
   "mimetype": "text/x-python",
   "name": "python",
   "nbconvert_exporter": "python",
   "pygments_lexer": "ipython2",
   "version": "2.7.10"
  }
 },
 "nbformat": 4,
 "nbformat_minor": 0
}
